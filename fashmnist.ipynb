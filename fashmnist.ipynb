{
 "cells": [
  {
   "cell_type": "markdown",
   "source": [
    "# 데이터 불러오기"
   ],
   "metadata": {}
  },
  {
   "cell_type": "code",
   "execution_count": 18,
   "source": [
    "from tensorflow.keras.datasets.fashion_mnist import load_data;\r\n",
    "import os\r\n",
    "os.environ['TF_CPP_MIN_LOG_LEVEL'] = '3' # 텐서플로를 사용하면서 에러를 잡아주기 위한...\r\n",
    "import matplotlib.pyplot as plt\r\n",
    "from sklearn.model_selection import train_test_split;\r\n",
    "from sklearn.preprocessing import MinMaxScaler;\r\n",
    "from tensorflow.python.keras.utils.np_utils import to_categorical\r\n",
    "from sklearn.model_selection import train_test_split;\r\n",
    "from sklearn.preprocessing import MinMaxScaler;\r\n",
    "\r\n",
    "\r\n",
    "(x_train, y_train), (x_test, y_test) = load_data();\r\n",
    "print(x_train.shape, x_test.shape)\r\n",
    "print(y_train.shape, y_test.shape)\r\n",
    "\r\n"
   ],
   "outputs": [
    {
     "output_type": "stream",
     "name": "stdout",
     "text": [
      "(60000, 28, 28) (10000, 28, 28)\n",
      "(60000,) (10000,)\n"
     ]
    }
   ],
   "metadata": {}
  },
  {
   "cell_type": "code",
   "execution_count": 19,
   "source": [
    "class_name = ['Top','Trouser','Pullover','Dress','Coat','Sendal','Shirt','Sneaker','Bag','Boot'];\r\n",
    "\r\n",
    "\r\n",
    "plt.imshow(x_train[10])\r\n",
    "plt.title(class_name[y_train[10]]);\r\n",
    "plt.show()"
   ],
   "outputs": [
    {
     "output_type": "display_data",
     "data": {
      "text/plain": [
       "<Figure size 640x480 with 1 Axes>"
      ],
      "image/svg+xml": "<?xml version=\"1.0\" encoding=\"utf-8\" standalone=\"no\"?>\r\n<!DOCTYPE svg PUBLIC \"-//W3C//DTD SVG 1.1//EN\"\r\n  \"http://www.w3.org/Graphics/SVG/1.1/DTD/svg11.dtd\">\r\n<svg height=\"312.30825pt\" version=\"1.1\" viewBox=\"0 0 300.237 312.30825\" width=\"300.237pt\" xmlns=\"http://www.w3.org/2000/svg\" xmlns:xlink=\"http://www.w3.org/1999/xlink\">\r\n <metadata>\r\n  <rdf:RDF xmlns:cc=\"http://creativecommons.org/ns#\" xmlns:dc=\"http://purl.org/dc/elements/1.1/\" xmlns:rdf=\"http://www.w3.org/1999/02/22-rdf-syntax-ns#\">\r\n   <cc:Work>\r\n    <dc:type rdf:resource=\"http://purl.org/dc/dcmitype/StillImage\"/>\r\n    <dc:date>2021-08-25T16:12:14.154972</dc:date>\r\n    <dc:format>image/svg+xml</dc:format>\r\n    <dc:creator>\r\n     <cc:Agent>\r\n      <dc:title>Matplotlib v3.4.2, https://matplotlib.org/</dc:title>\r\n     </cc:Agent>\r\n    </dc:creator>\r\n   </cc:Work>\r\n  </rdf:RDF>\r\n </metadata>\r\n <defs>\r\n  <style type=\"text/css\">*{stroke-linecap:butt;stroke-linejoin:round;}</style>\r\n </defs>\r\n <g id=\"figure_1\">\r\n  <g id=\"patch_1\">\r\n   <path d=\"M -0 312.30825 \r\nL 300.237 312.30825 \r\nL 300.237 0 \r\nL -0 0 \r\nz\r\n\" style=\"fill:#ffffff;\"/>\r\n  </g>\r\n  <g id=\"axes_1\">\r\n   <g id=\"patch_2\">\r\n    <path d=\"M 26.925 288.430125 \r\nL 293.037 288.430125 \r\nL 293.037 22.318125 \r\nL 26.925 22.318125 \r\nz\r\n\" style=\"fill:#ffffff;\"/>\r\n   </g>\r\n   <g clip-path=\"url(#p2b199996b4)\">\r\n    <image height=\"266.4\" id=\"imageda372de2bc\" transform=\"scale(1 -1)translate(0 -266.4)\" width=\"266.4\" x=\"26.925\" xlink:href=\"data:image/png;base64,\r\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\" y=\"-22.030125\"/>\r\n   </g>\r\n   <g id=\"matplotlib.axis_1\">\r\n    <g id=\"xtick_1\">\r\n     <g id=\"line2d_1\">\r\n      <defs>\r\n       <path d=\"M 0 0 \r\nL 0 3.5 \r\n\" id=\"m5798a72cea\" style=\"stroke:#000000;stroke-width:0.8;\"/>\r\n      </defs>\r\n      <g>\r\n       <use style=\"stroke:#000000;stroke-width:0.8;\" x=\"31.677\" xlink:href=\"#m5798a72cea\" y=\"288.430125\"/>\r\n      </g>\r\n     </g>\r\n     <g id=\"text_1\">\r\n      <!-- 0 -->\r\n      <g transform=\"translate(28.49575 303.028562)scale(0.1 -0.1)\">\r\n       <defs>\r\n        <path d=\"M 2034 4250 \r\nQ 1547 4250 1301 3770 \r\nQ 1056 3291 1056 2328 \r\nQ 1056 1369 1301 889 \r\nQ 1547 409 2034 409 \r\nQ 2525 409 2770 889 \r\nQ 3016 1369 3016 2328 \r\nQ 3016 3291 2770 3770 \r\nQ 2525 4250 2034 4250 \r\nz\r\nM 2034 4750 \r\nQ 2819 4750 3233 4129 \r\nQ 3647 3509 3647 2328 \r\nQ 3647 1150 3233 529 \r\nQ 2819 -91 2034 -91 \r\nQ 1250 -91 836 529 \r\nQ 422 1150 422 2328 \r\nQ 422 3509 836 4129 \r\nQ 1250 4750 2034 4750 \r\nz\r\n\" id=\"DejaVuSans-30\" transform=\"scale(0.015625)\"/>\r\n       </defs>\r\n       <use xlink:href=\"#DejaVuSans-30\"/>\r\n      </g>\r\n     </g>\r\n    </g>\r\n    <g id=\"xtick_2\">\r\n     <g id=\"line2d_2\">\r\n      <g>\r\n       <use style=\"stroke:#000000;stroke-width:0.8;\" x=\"79.197\" xlink:href=\"#m5798a72cea\" y=\"288.430125\"/>\r\n      </g>\r\n     </g>\r\n     <g id=\"text_2\">\r\n      <!-- 5 -->\r\n      <g transform=\"translate(76.01575 303.028562)scale(0.1 -0.1)\">\r\n       <defs>\r\n        <path d=\"M 691 4666 \r\nL 3169 4666 \r\nL 3169 4134 \r\nL 1269 4134 \r\nL 1269 2991 \r\nQ 1406 3038 1543 3061 \r\nQ 1681 3084 1819 3084 \r\nQ 2600 3084 3056 2656 \r\nQ 3513 2228 3513 1497 \r\nQ 3513 744 3044 326 \r\nQ 2575 -91 1722 -91 \r\nQ 1428 -91 1123 -41 \r\nQ 819 9 494 109 \r\nL 494 744 \r\nQ 775 591 1075 516 \r\nQ 1375 441 1709 441 \r\nQ 2250 441 2565 725 \r\nQ 2881 1009 2881 1497 \r\nQ 2881 1984 2565 2268 \r\nQ 2250 2553 1709 2553 \r\nQ 1456 2553 1204 2497 \r\nQ 953 2441 691 2322 \r\nL 691 4666 \r\nz\r\n\" id=\"DejaVuSans-35\" transform=\"scale(0.015625)\"/>\r\n       </defs>\r\n       <use xlink:href=\"#DejaVuSans-35\"/>\r\n      </g>\r\n     </g>\r\n    </g>\r\n    <g id=\"xtick_3\">\r\n     <g id=\"line2d_3\">\r\n      <g>\r\n       <use style=\"stroke:#000000;stroke-width:0.8;\" x=\"126.717\" xlink:href=\"#m5798a72cea\" y=\"288.430125\"/>\r\n      </g>\r\n     </g>\r\n     <g id=\"text_3\">\r\n      <!-- 10 -->\r\n      <g transform=\"translate(120.3545 303.028562)scale(0.1 -0.1)\">\r\n       <defs>\r\n        <path d=\"M 794 531 \r\nL 1825 531 \r\nL 1825 4091 \r\nL 703 3866 \r\nL 703 4441 \r\nL 1819 4666 \r\nL 2450 4666 \r\nL 2450 531 \r\nL 3481 531 \r\nL 3481 0 \r\nL 794 0 \r\nL 794 531 \r\nz\r\n\" id=\"DejaVuSans-31\" transform=\"scale(0.015625)\"/>\r\n       </defs>\r\n       <use xlink:href=\"#DejaVuSans-31\"/>\r\n       <use x=\"63.623047\" xlink:href=\"#DejaVuSans-30\"/>\r\n      </g>\r\n     </g>\r\n    </g>\r\n    <g id=\"xtick_4\">\r\n     <g id=\"line2d_4\">\r\n      <g>\r\n       <use style=\"stroke:#000000;stroke-width:0.8;\" x=\"174.237\" xlink:href=\"#m5798a72cea\" y=\"288.430125\"/>\r\n      </g>\r\n     </g>\r\n     <g id=\"text_4\">\r\n      <!-- 15 -->\r\n      <g transform=\"translate(167.8745 303.028562)scale(0.1 -0.1)\">\r\n       <use xlink:href=\"#DejaVuSans-31\"/>\r\n       <use x=\"63.623047\" xlink:href=\"#DejaVuSans-35\"/>\r\n      </g>\r\n     </g>\r\n    </g>\r\n    <g id=\"xtick_5\">\r\n     <g id=\"line2d_5\">\r\n      <g>\r\n       <use style=\"stroke:#000000;stroke-width:0.8;\" x=\"221.757\" xlink:href=\"#m5798a72cea\" y=\"288.430125\"/>\r\n      </g>\r\n     </g>\r\n     <g id=\"text_5\">\r\n      <!-- 20 -->\r\n      <g transform=\"translate(215.3945 303.028562)scale(0.1 -0.1)\">\r\n       <defs>\r\n        <path d=\"M 1228 531 \r\nL 3431 531 \r\nL 3431 0 \r\nL 469 0 \r\nL 469 531 \r\nQ 828 903 1448 1529 \r\nQ 2069 2156 2228 2338 \r\nQ 2531 2678 2651 2914 \r\nQ 2772 3150 2772 3378 \r\nQ 2772 3750 2511 3984 \r\nQ 2250 4219 1831 4219 \r\nQ 1534 4219 1204 4116 \r\nQ 875 4013 500 3803 \r\nL 500 4441 \r\nQ 881 4594 1212 4672 \r\nQ 1544 4750 1819 4750 \r\nQ 2544 4750 2975 4387 \r\nQ 3406 4025 3406 3419 \r\nQ 3406 3131 3298 2873 \r\nQ 3191 2616 2906 2266 \r\nQ 2828 2175 2409 1742 \r\nQ 1991 1309 1228 531 \r\nz\r\n\" id=\"DejaVuSans-32\" transform=\"scale(0.015625)\"/>\r\n       </defs>\r\n       <use xlink:href=\"#DejaVuSans-32\"/>\r\n       <use x=\"63.623047\" xlink:href=\"#DejaVuSans-30\"/>\r\n      </g>\r\n     </g>\r\n    </g>\r\n    <g id=\"xtick_6\">\r\n     <g id=\"line2d_6\">\r\n      <g>\r\n       <use style=\"stroke:#000000;stroke-width:0.8;\" x=\"269.277\" xlink:href=\"#m5798a72cea\" y=\"288.430125\"/>\r\n      </g>\r\n     </g>\r\n     <g id=\"text_6\">\r\n      <!-- 25 -->\r\n      <g transform=\"translate(262.9145 303.028562)scale(0.1 -0.1)\">\r\n       <use xlink:href=\"#DejaVuSans-32\"/>\r\n       <use x=\"63.623047\" xlink:href=\"#DejaVuSans-35\"/>\r\n      </g>\r\n     </g>\r\n    </g>\r\n   </g>\r\n   <g id=\"matplotlib.axis_2\">\r\n    <g id=\"ytick_1\">\r\n     <g id=\"line2d_7\">\r\n      <defs>\r\n       <path d=\"M 0 0 \r\nL -3.5 0 \r\n\" id=\"m1a836be7af\" style=\"stroke:#000000;stroke-width:0.8;\"/>\r\n      </defs>\r\n      <g>\r\n       <use style=\"stroke:#000000;stroke-width:0.8;\" x=\"26.925\" xlink:href=\"#m1a836be7af\" y=\"27.070125\"/>\r\n      </g>\r\n     </g>\r\n     <g id=\"text_7\">\r\n      <!-- 0 -->\r\n      <g transform=\"translate(13.5625 30.869344)scale(0.1 -0.1)\">\r\n       <use xlink:href=\"#DejaVuSans-30\"/>\r\n      </g>\r\n     </g>\r\n    </g>\r\n    <g id=\"ytick_2\">\r\n     <g id=\"line2d_8\">\r\n      <g>\r\n       <use style=\"stroke:#000000;stroke-width:0.8;\" x=\"26.925\" xlink:href=\"#m1a836be7af\" y=\"74.590125\"/>\r\n      </g>\r\n     </g>\r\n     <g id=\"text_8\">\r\n      <!-- 5 -->\r\n      <g transform=\"translate(13.5625 78.389344)scale(0.1 -0.1)\">\r\n       <use xlink:href=\"#DejaVuSans-35\"/>\r\n      </g>\r\n     </g>\r\n    </g>\r\n    <g id=\"ytick_3\">\r\n     <g id=\"line2d_9\">\r\n      <g>\r\n       <use style=\"stroke:#000000;stroke-width:0.8;\" x=\"26.925\" xlink:href=\"#m1a836be7af\" y=\"122.110125\"/>\r\n      </g>\r\n     </g>\r\n     <g id=\"text_9\">\r\n      <!-- 10 -->\r\n      <g transform=\"translate(7.2 125.909344)scale(0.1 -0.1)\">\r\n       <use xlink:href=\"#DejaVuSans-31\"/>\r\n       <use x=\"63.623047\" xlink:href=\"#DejaVuSans-30\"/>\r\n      </g>\r\n     </g>\r\n    </g>\r\n    <g id=\"ytick_4\">\r\n     <g id=\"line2d_10\">\r\n      <g>\r\n       <use style=\"stroke:#000000;stroke-width:0.8;\" x=\"26.925\" xlink:href=\"#m1a836be7af\" y=\"169.630125\"/>\r\n      </g>\r\n     </g>\r\n     <g id=\"text_10\">\r\n      <!-- 15 -->\r\n      <g transform=\"translate(7.2 173.429344)scale(0.1 -0.1)\">\r\n       <use xlink:href=\"#DejaVuSans-31\"/>\r\n       <use x=\"63.623047\" xlink:href=\"#DejaVuSans-35\"/>\r\n      </g>\r\n     </g>\r\n    </g>\r\n    <g id=\"ytick_5\">\r\n     <g id=\"line2d_11\">\r\n      <g>\r\n       <use style=\"stroke:#000000;stroke-width:0.8;\" x=\"26.925\" xlink:href=\"#m1a836be7af\" y=\"217.150125\"/>\r\n      </g>\r\n     </g>\r\n     <g id=\"text_11\">\r\n      <!-- 20 -->\r\n      <g transform=\"translate(7.2 220.949344)scale(0.1 -0.1)\">\r\n       <use xlink:href=\"#DejaVuSans-32\"/>\r\n       <use x=\"63.623047\" xlink:href=\"#DejaVuSans-30\"/>\r\n      </g>\r\n     </g>\r\n    </g>\r\n    <g id=\"ytick_6\">\r\n     <g id=\"line2d_12\">\r\n      <g>\r\n       <use style=\"stroke:#000000;stroke-width:0.8;\" x=\"26.925\" xlink:href=\"#m1a836be7af\" y=\"264.670125\"/>\r\n      </g>\r\n     </g>\r\n     <g id=\"text_12\">\r\n      <!-- 25 -->\r\n      <g transform=\"translate(7.2 268.469344)scale(0.1 -0.1)\">\r\n       <use xlink:href=\"#DejaVuSans-32\"/>\r\n       <use x=\"63.623047\" xlink:href=\"#DejaVuSans-35\"/>\r\n      </g>\r\n     </g>\r\n    </g>\r\n   </g>\r\n   <g id=\"patch_3\">\r\n    <path d=\"M 26.925 288.430125 \r\nL 26.925 22.318125 \r\n\" style=\"fill:none;stroke:#000000;stroke-linecap:square;stroke-linejoin:miter;stroke-width:0.8;\"/>\r\n   </g>\r\n   <g id=\"patch_4\">\r\n    <path d=\"M 293.037 288.430125 \r\nL 293.037 22.318125 \r\n\" style=\"fill:none;stroke:#000000;stroke-linecap:square;stroke-linejoin:miter;stroke-width:0.8;\"/>\r\n   </g>\r\n   <g id=\"patch_5\">\r\n    <path d=\"M 26.925 288.430125 \r\nL 293.037 288.430125 \r\n\" style=\"fill:none;stroke:#000000;stroke-linecap:square;stroke-linejoin:miter;stroke-width:0.8;\"/>\r\n   </g>\r\n   <g id=\"patch_6\">\r\n    <path d=\"M 26.925 22.318125 \r\nL 293.037 22.318125 \r\n\" style=\"fill:none;stroke:#000000;stroke-linecap:square;stroke-linejoin:miter;stroke-width:0.8;\"/>\r\n   </g>\r\n   <g id=\"text_13\">\r\n    <!-- Top -->\r\n    <g transform=\"translate(149.856 16.318125)scale(0.12 -0.12)\">\r\n     <defs>\r\n      <path d=\"M -19 4666 \r\nL 3928 4666 \r\nL 3928 4134 \r\nL 2272 4134 \r\nL 2272 0 \r\nL 1638 0 \r\nL 1638 4134 \r\nL -19 4134 \r\nL -19 4666 \r\nz\r\n\" id=\"DejaVuSans-54\" transform=\"scale(0.015625)\"/>\r\n      <path d=\"M 1959 3097 \r\nQ 1497 3097 1228 2736 \r\nQ 959 2375 959 1747 \r\nQ 959 1119 1226 758 \r\nQ 1494 397 1959 397 \r\nQ 2419 397 2687 759 \r\nQ 2956 1122 2956 1747 \r\nQ 2956 2369 2687 2733 \r\nQ 2419 3097 1959 3097 \r\nz\r\nM 1959 3584 \r\nQ 2709 3584 3137 3096 \r\nQ 3566 2609 3566 1747 \r\nQ 3566 888 3137 398 \r\nQ 2709 -91 1959 -91 \r\nQ 1206 -91 779 398 \r\nQ 353 888 353 1747 \r\nQ 353 2609 779 3096 \r\nQ 1206 3584 1959 3584 \r\nz\r\n\" id=\"DejaVuSans-6f\" transform=\"scale(0.015625)\"/>\r\n      <path d=\"M 1159 525 \r\nL 1159 -1331 \r\nL 581 -1331 \r\nL 581 3500 \r\nL 1159 3500 \r\nL 1159 2969 \r\nQ 1341 3281 1617 3432 \r\nQ 1894 3584 2278 3584 \r\nQ 2916 3584 3314 3078 \r\nQ 3713 2572 3713 1747 \r\nQ 3713 922 3314 415 \r\nQ 2916 -91 2278 -91 \r\nQ 1894 -91 1617 61 \r\nQ 1341 213 1159 525 \r\nz\r\nM 3116 1747 \r\nQ 3116 2381 2855 2742 \r\nQ 2594 3103 2138 3103 \r\nQ 1681 3103 1420 2742 \r\nQ 1159 2381 1159 1747 \r\nQ 1159 1113 1420 752 \r\nQ 1681 391 2138 391 \r\nQ 2594 391 2855 752 \r\nQ 3116 1113 3116 1747 \r\nz\r\n\" id=\"DejaVuSans-70\" transform=\"scale(0.015625)\"/>\r\n     </defs>\r\n     <use xlink:href=\"#DejaVuSans-54\"/>\r\n     <use x=\"44.083984\" xlink:href=\"#DejaVuSans-6f\"/>\r\n     <use x=\"105.265625\" xlink:href=\"#DejaVuSans-70\"/>\r\n    </g>\r\n   </g>\r\n  </g>\r\n </g>\r\n <defs>\r\n  <clipPath id=\"p2b199996b4\">\r\n   <rect height=\"266.112\" width=\"266.112\" x=\"26.925\" y=\"22.318125\"/>\r\n  </clipPath>\r\n </defs>\r\n</svg>\r\n",
      "image/png": "[encoded data removed]"
     },
     "metadata": {}
    }
   ],
   "metadata": {}
  },
  {
   "cell_type": "code",
   "execution_count": 20,
   "source": [
    "x_train , x_vali, y_train, y_vali = train_test_split(x_train, y_train,\r\n",
    "test_size = 0.3, random_state=777)"
   ],
   "outputs": [],
   "metadata": {}
  },
  {
   "cell_type": "code",
   "execution_count": 21,
   "source": [
    "x_train = x_train.reshape(x_train.shape[0], 28 * 28)\r\n",
    "print('x_train차원 축소 :', x_train.shape)\r\n",
    "x_vali = x_vali.reshape(x_vali.shape[0], 28 * 28)\r\n",
    "print('x_vali차원 축소 :', x_vali.shape)\r\n",
    "x_test = x_test.reshape(x_test.shape[0], 28 * 28)\r\n",
    "print('x_test차원 축소 :', x_test.shape)"
   ],
   "outputs": [
    {
     "output_type": "stream",
     "name": "stdout",
     "text": [
      "x_train차원 축소 : (42000, 784)\n",
      "x_vali차원 축소 : (18000, 784)\n",
      "x_test차원 축소 : (10000, 784)\n"
     ]
    }
   ],
   "metadata": {}
  },
  {
   "cell_type": "code",
   "execution_count": 22,
   "source": [
    "# 정규화!! (min max scaler는 3차원을 가능하지 않음.)\r\n",
    "x_train_scaler = MinMaxScaler().fit_transform(x_train)\r\n",
    "x_vali_scaler = MinMaxScaler().fit_transform(x_vali)\r\n",
    "x_test_scaler = MinMaxScaler().fit_transform(x_test)\r\n",
    "\r\n",
    "print('정규화된 형태',x_train_scaler[0, :])"
   ],
   "outputs": [
    {
     "output_type": "stream",
     "name": "stdout",
     "text": [
      "정규화된 형태 [0.         0.         0.         0.         0.         0.\n",
      " 0.         0.         0.         0.         0.         0.\n",
      " 0.         0.         0.         0.         0.         0.\n",
      " 0.         0.         0.         0.         0.         0.\n",
      " 0.         0.         0.         0.         0.         0.\n",
      " 0.         0.         0.         0.         0.         0.\n",
      " 0.         0.         0.         0.         0.         0.\n",
      " 0.         0.         0.         0.         0.         0.\n",
      " 0.         0.         0.         0.         0.         0.\n",
      " 0.         0.         0.         0.         0.         0.\n",
      " 0.         0.         0.         0.         0.         0.\n",
      " 0.         0.         0.         0.         0.         0.\n",
      " 0.         0.         0.         0.         0.         0.\n",
      " 0.         0.         0.         0.         0.         0.\n",
      " 0.         0.         0.         0.         0.         0.\n",
      " 0.         0.         0.         0.         0.         0.\n",
      " 0.         0.         0.         0.         0.         0.\n",
      " 0.         0.         0.         0.         0.         0.\n",
      " 0.         0.         0.         0.         0.         0.\n",
      " 0.         0.         0.         0.         0.         0.\n",
      " 0.         0.         0.         0.         0.         0.\n",
      " 0.         0.         0.         0.         0.         0.\n",
      " 0.         0.         0.         0.         0.         0.\n",
      " 0.         0.         0.         0.         0.         0.\n",
      " 0.         0.         0.         0.         0.         0.\n",
      " 0.         0.         0.         0.         0.         0.\n",
      " 0.         0.         0.         0.         0.         0.\n",
      " 0.         0.         0.         0.         0.         0.\n",
      " 0.         0.         0.         0.         0.         0.\n",
      " 0.         0.         0.         0.         0.         0.\n",
      " 0.         0.         0.         0.         0.         0.\n",
      " 0.         0.         0.         0.         0.         0.\n",
      " 0.         0.         0.         0.         0.         0.\n",
      " 0.         0.         0.         0.         0.         0.\n",
      " 0.00784314 0.         0.         0.         0.         0.36078431\n",
      " 0.41568627 0.         0.         0.         0.         0.01176471\n",
      " 0.01176471 0.01960784 0.01960784 0.01960784 0.01960784 0.01960784\n",
      " 0.00784314 0.         0.         0.         0.         0.\n",
      " 0.         0.         0.         0.         0.         0.\n",
      " 0.01568627 0.         0.11372549 0.61176471 0.62352941 0.47058824\n",
      " 0.18431373 0.         0.         0.         0.         0.\n",
      " 0.         0.         0.         0.         0.         0.\n",
      " 0.         0.         0.         0.         0.         0.\n",
      " 0.         0.         0.         0.         0.         0.\n",
      " 0.51372549 0.64313725 0.47058824 0.52156863 0.76078431 0.83921569\n",
      " 0.36862745 0.         0.06666667 0.37254902 0.50588235 0.52156863\n",
      " 0.50196078 0.54509804 0.16862745 0.         0.         0.\n",
      " 0.         0.         0.         0.         0.         0.\n",
      " 0.00784314 0.02352941 0.05098039 0.         0.42745098 0.80392157\n",
      " 0.62745098 0.72156863 0.77254902 0.75294118 0.7372549  0.72941176\n",
      " 0.87843137 0.8745098  0.85490196 0.85490196 0.82352941 0.84313725\n",
      " 0.34117647 0.         0.         0.         0.         0.\n",
      " 0.         0.         0.00784314 0.02745098 0.         0.\n",
      " 0.         0.03921569 0.79215686 0.         0.33333333 0.87843137\n",
      " 0.70980392 0.75686275 0.79215686 0.72156863 0.70588235 0.71764706\n",
      " 0.75686275 0.78431373 0.80392157 0.82745098 0.37254902 0.\n",
      " 0.         0.         0.         0.         0.01176471 0.00392157\n",
      " 0.         0.         0.         0.58823529 0.24313725 0.6\n",
      " 0.25098039 0.         0.         0.78431373 0.97647059 0.79607843\n",
      " 0.76470588 0.79607843 0.70588235 0.66666667 0.72941176 0.78431373\n",
      " 0.75294118 0.78431373 0.3372549  0.         0.         0.\n",
      " 0.         0.         0.         0.         0.         0.39607843\n",
      " 0.60784314 0.53333333 0.6        0.72156863 0.         0.\n",
      " 0.         0.08235294 0.82352941 0.89411765 0.90196078 0.83921569\n",
      " 0.90588235 0.81960784 0.60392157 0.76470588 0.75294118 0.76078431\n",
      " 0.3372549  0.         0.         0.         0.00784314 0.\n",
      " 0.         0.41960784 0.54509804 0.6627451  0.61960784 0.59215686\n",
      " 0.50980392 0.54117647 0.40784314 0.         0.         0.\n",
      " 0.59215686 0.76470588 0.80392157 0.93333333 0.21960784 0.50980392\n",
      " 0.96078431 0.76470588 0.76078431 0.74509804 0.3254902  0.\n",
      " 0.00392157 0.00392157 0.01568627 0.         0.25882353 0.55686275\n",
      " 0.71764706 0.         0.39607843 0.78431373 0.63137255 0.55294118\n",
      " 0.77647059 0.41568627 0.         0.         0.40784314 0.88627451\n",
      " 0.78823529 0.99607843 0.         0.         0.54117647 0.8627451\n",
      " 0.71372549 0.75294118 0.32941176 0.         0.         0.\n",
      " 0.01568627 0.         0.28627451 0.42352941 0.53333333 0.\n",
      " 0.29411765 0.61176471 0.58431373 0.70588235 0.8745098  0.82745098\n",
      " 0.00784314 0.         0.         0.79607843 0.70588235 0.82352941\n",
      " 0.25882353 0.         0.         0.81176471 0.78039216 0.76862745\n",
      " 0.25490196 0.         0.         0.         0.         0.\n",
      " 0.61568627 0.87843137 0.63921569 0.         0.81568627 0.94509804\n",
      " 0.63137255 0.46666667 0.82352941 0.85098039 0.82745098 0.05882353\n",
      " 0.25882353 0.80392157 0.80784314 0.87843137 0.4627451  0.20392157\n",
      " 0.41960784 0.6745098  0.74117647 0.73333333 0.3372549  0.\n",
      " 0.31372549 0.51764706 0.41960784 0.25882353 0.55686275 0.71764706\n",
      " 0.63529412 0.09019608 0.59215686 0.71372549 0.68235294 0.54509804\n",
      " 0.65098039 0.64313725 0.59215686 0.5254902  0.5254902  0.56470588\n",
      " 0.56470588 0.51764706 0.50980392 0.58823529 0.54509804 0.48235294\n",
      " 0.4745098  0.48235294 0.57647059 0.08163265 0.1254902  0.28235294\n",
      " 0.36078431 0.45882353 0.36470588 0.31372549 0.43529412 0.56078431\n",
      " 0.47058824 0.43529412 0.41176471 0.43137255 0.36470588 0.36078431\n",
      " 0.30980392 0.39607843 0.42745098 0.46666667 0.42745098 0.43921569\n",
      " 0.42352941 0.45490196 0.45098039 0.45882353 0.45490196 0.41176471\n",
      " 0.45882353 0.08979592 0.         0.         0.         0.00392157\n",
      " 0.01176471 0.03921569 0.03921569 0.03137255 0.05490196 0.05882353\n",
      " 0.0745098  0.03921569 0.04313725 0.00784314 0.00392157 0.02352941\n",
      " 0.10588235 0.18431373 0.17647059 0.18431373 0.16078431 0.09019608\n",
      " 0.10588235 0.11764706 0.11372549 0.10980392 0.10980392 0.\n",
      " 0.         0.         0.         0.         0.         0.\n",
      " 0.         0.         0.         0.         0.         0.\n",
      " 0.         0.         0.         0.         0.         0.\n",
      " 0.         0.         0.         0.         0.         0.\n",
      " 0.         0.         0.         0.         0.         0.\n",
      " 0.         0.         0.         0.         0.         0.\n",
      " 0.         0.         0.         0.         0.         0.\n",
      " 0.         0.         0.         0.         0.         0.\n",
      " 0.         0.         0.         0.         0.         0.\n",
      " 0.         0.         0.         0.         0.         0.\n",
      " 0.         0.         0.         0.         0.         0.\n",
      " 0.         0.         0.         0.         0.         0.\n",
      " 0.         0.         0.         0.         0.         0.\n",
      " 0.         0.         0.         0.         0.         0.\n",
      " 0.         0.         0.         0.         0.         0.\n",
      " 0.         0.         0.         0.         0.         0.\n",
      " 0.         0.         0.         0.         0.         0.\n",
      " 0.         0.         0.         0.         0.         0.\n",
      " 0.         0.         0.         0.         0.         0.\n",
      " 0.         0.         0.         0.         0.         0.\n",
      " 0.         0.         0.         0.         0.         0.\n",
      " 0.         0.         0.         0.         0.         0.\n",
      " 0.         0.         0.         0.         0.         0.\n",
      " 0.         0.         0.         0.         0.         0.\n",
      " 0.         0.         0.         0.         0.         0.\n",
      " 0.         0.         0.         0.         0.         0.\n",
      " 0.         0.         0.         0.         0.         0.\n",
      " 0.         0.         0.         0.         0.         0.\n",
      " 0.         0.         0.         0.         0.         0.\n",
      " 0.         0.         0.         0.         0.         0.\n",
      " 0.         0.         0.         0.         0.         0.\n",
      " 0.         0.         0.         0.         0.         0.\n",
      " 0.         0.         0.         0.        ]\n"
     ]
    }
   ],
   "metadata": {}
  },
  {
   "cell_type": "code",
   "execution_count": 23,
   "source": [
    "# 데이터가 시리얼 형태로 들어가 있음.\r\n",
    "# 데이터를 범주형으로 변환\r\n",
    "print(y_train.shape)\r\n",
    "print('원본 데이터:',y_train[1])\r\n",
    "y_train_cate = to_categorical(y_train) # 원핫인코딩과 유사한 개념\r\n",
    "print(y_train.shape)\r\n",
    "print('to_categorical 이후:',y_train[1])\r\n",
    "y_vali_cate = to_categorical(y_vali)\r\n",
    "y_test_cate = to_categorical(y_test)"
   ],
   "outputs": [
    {
     "output_type": "stream",
     "name": "stdout",
     "text": [
      "(42000,)\n",
      "원본 데이터: 7\n",
      "(42000,)\n",
      "to_categorical 이후: 7\n"
     ]
    }
   ],
   "metadata": {}
  }
 ],
 "metadata": {
  "orig_nbformat": 4,
  "language_info": {
   "name": "python",
   "version": "3.8.11",
   "mimetype": "text/x-python",
   "codemirror_mode": {
    "name": "ipython",
    "version": 3
   },
   "pygments_lexer": "ipython3",
   "nbconvert_exporter": "python",
   "file_extension": ".py"
  },
  "kernelspec": {
   "name": "python3",
   "display_name": "Python 3.8.11 64-bit ('DLearning': conda)"
  },
  "interpreter": {
   "hash": "a45cc5bc0718893bc0971bc103741c93ec27bb7c2d4b5cf12d28925b2de55320"
  }
 },
 "nbformat": 4,
 "nbformat_minor": 2
}