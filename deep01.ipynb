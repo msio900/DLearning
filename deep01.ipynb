{
 "cells": [
  {
   "cell_type": "code",
   "execution_count": 1,
   "source": [
    "import tensorflow as tf;\r\n",
    "import numpy as np;\r\n",
    "print(tf.__version__)\r\n",
    "\r\n",
    "import os\r\n",
    "os.environ['TF_CPP_MIN_LOG_LEVEL'] = '3'\r\n",
    "\r\n",
    "\r\n",
    "x = [-2,3,20,0,-5,7,-23,-8, 32, -15]\r\n",
    "y = [-1, 4, 21, 1, -4, 8, -22, -7, 33, -14]"
   ],
   "outputs": [
    {
     "output_type": "stream",
     "name": "stdout",
     "text": [
      "2.3.0\n"
     ]
    }
   ],
   "metadata": {}
  },
  {
   "cell_type": "code",
   "execution_count": 2,
   "source": [
    "x_train = np.array(x).reshape(-1,1);\r\n",
    "y_train = np.array(y)"
   ],
   "outputs": [],
   "metadata": {}
  },
  {
   "cell_type": "code",
   "execution_count": 3,
   "source": [
    "print(x_train);\r\n",
    "print(y_train);\r\n",
    "print(x_train.shape);\r\n",
    "print(y_train.shape);"
   ],
   "outputs": [
    {
     "output_type": "stream",
     "name": "stdout",
     "text": [
      "[[ -2]\n",
      " [  3]\n",
      " [ 20]\n",
      " [  0]\n",
      " [ -5]\n",
      " [  7]\n",
      " [-23]\n",
      " [ -8]\n",
      " [ 32]\n",
      " [-15]]\n",
      "[ -1   4  21   1  -4   8 -22  -7  33 -14]\n",
      "(10, 1)\n",
      "(10,)\n"
     ]
    }
   ],
   "metadata": {}
  },
  {
   "cell_type": "code",
   "execution_count": 4,
   "source": [
    "from tensorflow.keras import Sequential;\r\n",
    "from tensorflow.keras.layers import Dense; # dense는 밀도를?\r\n",
    "\r\n",
    "model = Sequential();\r\n",
    "model.add(Dense(units=1, activation='linear', input_dim=1));\r\n",
    "model.compile(optimizer='adam', loss='mse', metrics=['mae']);\r\n",
    "model.fit(x_train, y_train, epochs=3000, verbose=0);\r\n",
    "\r\n",
    "x_data = [8, 9, 10, -1, 4, -15];\r\n",
    "x_data = np.array(x_data).reshape(-1,1);\r\n",
    "\r\n",
    "result = model.predict(x_data);\r\n",
    "print(result);"
   ],
   "outputs": [
    {
     "output_type": "stream",
     "name": "stdout",
     "text": [
      "[[ 8.9980946e+00]\n",
      " [ 9.9981060e+00]\n",
      " [ 1.0998119e+01]\n",
      " [-2.0164251e-03]\n",
      " [ 4.9980450e+00]\n",
      " [-1.4002188e+01]]\n"
     ]
    }
   ],
   "metadata": {}
  }
 ],
 "metadata": {
  "orig_nbformat": 4,
  "language_info": {
   "name": "python",
   "version": "3.8.11",
   "mimetype": "text/x-python",
   "codemirror_mode": {
    "name": "ipython",
    "version": 3
   },
   "pygments_lexer": "ipython3",
   "nbconvert_exporter": "python",
   "file_extension": ".py"
  },
  "kernelspec": {
   "name": "python3",
   "display_name": "Python 3.8.11 64-bit ('DLearning': conda)"
  },
  "interpreter": {
   "hash": "a45cc5bc0718893bc0971bc103741c93ec27bb7c2d4b5cf12d28925b2de55320"
  }
 },
 "nbformat": 4,
 "nbformat_minor": 2
}