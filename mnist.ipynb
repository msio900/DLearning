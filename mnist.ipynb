{
 "cells": [
  {
   "cell_type": "code",
   "execution_count": 71,
   "source": [
    "import pandas as pd;\r\n",
    "import numpy as np;\r\n",
    "import tensorflow as tf;\r\n",
    "import os\r\n",
    "os.environ['TF_CPP_MIN_LOG_LEVEL'] = '3' # 텐서플로를 사용하면서 에러를 잡아주기 위한...\r\n",
    "from tensorflow.python.keras.utils.np_utils import to_categorical\r\n",
    "import pickle\r\n"
   ],
   "outputs": [],
   "metadata": {}
  },
  {
   "cell_type": "markdown",
   "source": [
    "# 데이터 로드"
   ],
   "metadata": {}
  },
  {
   "cell_type": "code",
   "execution_count": 72,
   "source": [
    "from tensorflow.keras.datasets.mnist import load_data;\r\n",
    "(x_train, y_train),(x_test, y_test) = load_data(path='mnist.npz');"
   ],
   "outputs": [],
   "metadata": {}
  },
  {
   "cell_type": "markdown",
   "source": [
    "# 데이터 확인"
   ],
   "metadata": {}
  },
  {
   "cell_type": "code",
   "execution_count": 73,
   "source": [
    "x_train.shape, y_train.shape"
   ],
   "outputs": [
    {
     "output_type": "execute_result",
     "data": {
      "text/plain": [
       "((60000, 28, 28), (60000,))"
      ]
     },
     "metadata": {},
     "execution_count": 73
    }
   ],
   "metadata": {}
  },
  {
   "cell_type": "code",
   "execution_count": 74,
   "source": [
    "x_test.shape, y_test.shape"
   ],
   "outputs": [
    {
     "output_type": "execute_result",
     "data": {
      "text/plain": [
       "((10000, 28, 28), (10000,))"
      ]
     },
     "metadata": {},
     "execution_count": 74
    }
   ],
   "metadata": {}
  },
  {
   "cell_type": "code",
   "execution_count": 75,
   "source": [
    "x_train"
   ],
   "outputs": [
    {
     "output_type": "execute_result",
     "data": {
      "text/plain": [
       "array([[[0, 0, 0, ..., 0, 0, 0],\n",
       "        [0, 0, 0, ..., 0, 0, 0],\n",
       "        [0, 0, 0, ..., 0, 0, 0],\n",
       "        ...,\n",
       "        [0, 0, 0, ..., 0, 0, 0],\n",
       "        [0, 0, 0, ..., 0, 0, 0],\n",
       "        [0, 0, 0, ..., 0, 0, 0]],\n",
       "\n",
       "       [[0, 0, 0, ..., 0, 0, 0],\n",
       "        [0, 0, 0, ..., 0, 0, 0],\n",
       "        [0, 0, 0, ..., 0, 0, 0],\n",
       "        ...,\n",
       "        [0, 0, 0, ..., 0, 0, 0],\n",
       "        [0, 0, 0, ..., 0, 0, 0],\n",
       "        [0, 0, 0, ..., 0, 0, 0]],\n",
       "\n",
       "       [[0, 0, 0, ..., 0, 0, 0],\n",
       "        [0, 0, 0, ..., 0, 0, 0],\n",
       "        [0, 0, 0, ..., 0, 0, 0],\n",
       "        ...,\n",
       "        [0, 0, 0, ..., 0, 0, 0],\n",
       "        [0, 0, 0, ..., 0, 0, 0],\n",
       "        [0, 0, 0, ..., 0, 0, 0]],\n",
       "\n",
       "       ...,\n",
       "\n",
       "       [[0, 0, 0, ..., 0, 0, 0],\n",
       "        [0, 0, 0, ..., 0, 0, 0],\n",
       "        [0, 0, 0, ..., 0, 0, 0],\n",
       "        ...,\n",
       "        [0, 0, 0, ..., 0, 0, 0],\n",
       "        [0, 0, 0, ..., 0, 0, 0],\n",
       "        [0, 0, 0, ..., 0, 0, 0]],\n",
       "\n",
       "       [[0, 0, 0, ..., 0, 0, 0],\n",
       "        [0, 0, 0, ..., 0, 0, 0],\n",
       "        [0, 0, 0, ..., 0, 0, 0],\n",
       "        ...,\n",
       "        [0, 0, 0, ..., 0, 0, 0],\n",
       "        [0, 0, 0, ..., 0, 0, 0],\n",
       "        [0, 0, 0, ..., 0, 0, 0]],\n",
       "\n",
       "       [[0, 0, 0, ..., 0, 0, 0],\n",
       "        [0, 0, 0, ..., 0, 0, 0],\n",
       "        [0, 0, 0, ..., 0, 0, 0],\n",
       "        ...,\n",
       "        [0, 0, 0, ..., 0, 0, 0],\n",
       "        [0, 0, 0, ..., 0, 0, 0],\n",
       "        [0, 0, 0, ..., 0, 0, 0]]], dtype=uint8)"
      ]
     },
     "metadata": {},
     "execution_count": 75
    }
   ],
   "metadata": {}
  },
  {
   "cell_type": "code",
   "execution_count": 76,
   "source": [
    "y_train"
   ],
   "outputs": [
    {
     "output_type": "execute_result",
     "data": {
      "text/plain": [
       "array([5, 0, 4, ..., 5, 6, 8], dtype=uint8)"
      ]
     },
     "metadata": {},
     "execution_count": 76
    }
   ],
   "metadata": {}
  },
  {
   "cell_type": "markdown",
   "source": [
    "# 이미지 보기"
   ],
   "metadata": {}
  },
  {
   "cell_type": "code",
   "execution_count": 77,
   "source": [
    "# Show image\r\n",
    "import matplotlib.pyplot as plt;\r\n",
    "img = x_train[0, :];\r\n",
    "img"
   ],
   "outputs": [
    {
     "output_type": "execute_result",
     "data": {
      "text/plain": [
       "array([[  0,   0,   0,   0,   0,   0,   0,   0,   0,   0,   0,   0,   0,\n",
       "          0,   0,   0,   0,   0,   0,   0,   0,   0,   0,   0,   0,   0,\n",
       "          0,   0],\n",
       "       [  0,   0,   0,   0,   0,   0,   0,   0,   0,   0,   0,   0,   0,\n",
       "          0,   0,   0,   0,   0,   0,   0,   0,   0,   0,   0,   0,   0,\n",
       "          0,   0],\n",
       "       [  0,   0,   0,   0,   0,   0,   0,   0,   0,   0,   0,   0,   0,\n",
       "          0,   0,   0,   0,   0,   0,   0,   0,   0,   0,   0,   0,   0,\n",
       "          0,   0],\n",
       "       [  0,   0,   0,   0,   0,   0,   0,   0,   0,   0,   0,   0,   0,\n",
       "          0,   0,   0,   0,   0,   0,   0,   0,   0,   0,   0,   0,   0,\n",
       "          0,   0],\n",
       "       [  0,   0,   0,   0,   0,   0,   0,   0,   0,   0,   0,   0,   0,\n",
       "          0,   0,   0,   0,   0,   0,   0,   0,   0,   0,   0,   0,   0,\n",
       "          0,   0],\n",
       "       [  0,   0,   0,   0,   0,   0,   0,   0,   0,   0,   0,   0,   3,\n",
       "         18,  18,  18, 126, 136, 175,  26, 166, 255, 247, 127,   0,   0,\n",
       "          0,   0],\n",
       "       [  0,   0,   0,   0,   0,   0,   0,   0,  30,  36,  94, 154, 170,\n",
       "        253, 253, 253, 253, 253, 225, 172, 253, 242, 195,  64,   0,   0,\n",
       "          0,   0],\n",
       "       [  0,   0,   0,   0,   0,   0,   0,  49, 238, 253, 253, 253, 253,\n",
       "        253, 253, 253, 253, 251,  93,  82,  82,  56,  39,   0,   0,   0,\n",
       "          0,   0],\n",
       "       [  0,   0,   0,   0,   0,   0,   0,  18, 219, 253, 253, 253, 253,\n",
       "        253, 198, 182, 247, 241,   0,   0,   0,   0,   0,   0,   0,   0,\n",
       "          0,   0],\n",
       "       [  0,   0,   0,   0,   0,   0,   0,   0,  80, 156, 107, 253, 253,\n",
       "        205,  11,   0,  43, 154,   0,   0,   0,   0,   0,   0,   0,   0,\n",
       "          0,   0],\n",
       "       [  0,   0,   0,   0,   0,   0,   0,   0,   0,  14,   1, 154, 253,\n",
       "         90,   0,   0,   0,   0,   0,   0,   0,   0,   0,   0,   0,   0,\n",
       "          0,   0],\n",
       "       [  0,   0,   0,   0,   0,   0,   0,   0,   0,   0,   0, 139, 253,\n",
       "        190,   2,   0,   0,   0,   0,   0,   0,   0,   0,   0,   0,   0,\n",
       "          0,   0],\n",
       "       [  0,   0,   0,   0,   0,   0,   0,   0,   0,   0,   0,  11, 190,\n",
       "        253,  70,   0,   0,   0,   0,   0,   0,   0,   0,   0,   0,   0,\n",
       "          0,   0],\n",
       "       [  0,   0,   0,   0,   0,   0,   0,   0,   0,   0,   0,   0,  35,\n",
       "        241, 225, 160, 108,   1,   0,   0,   0,   0,   0,   0,   0,   0,\n",
       "          0,   0],\n",
       "       [  0,   0,   0,   0,   0,   0,   0,   0,   0,   0,   0,   0,   0,\n",
       "         81, 240, 253, 253, 119,  25,   0,   0,   0,   0,   0,   0,   0,\n",
       "          0,   0],\n",
       "       [  0,   0,   0,   0,   0,   0,   0,   0,   0,   0,   0,   0,   0,\n",
       "          0,  45, 186, 253, 253, 150,  27,   0,   0,   0,   0,   0,   0,\n",
       "          0,   0],\n",
       "       [  0,   0,   0,   0,   0,   0,   0,   0,   0,   0,   0,   0,   0,\n",
       "          0,   0,  16,  93, 252, 253, 187,   0,   0,   0,   0,   0,   0,\n",
       "          0,   0],\n",
       "       [  0,   0,   0,   0,   0,   0,   0,   0,   0,   0,   0,   0,   0,\n",
       "          0,   0,   0,   0, 249, 253, 249,  64,   0,   0,   0,   0,   0,\n",
       "          0,   0],\n",
       "       [  0,   0,   0,   0,   0,   0,   0,   0,   0,   0,   0,   0,   0,\n",
       "          0,  46, 130, 183, 253, 253, 207,   2,   0,   0,   0,   0,   0,\n",
       "          0,   0],\n",
       "       [  0,   0,   0,   0,   0,   0,   0,   0,   0,   0,   0,   0,  39,\n",
       "        148, 229, 253, 253, 253, 250, 182,   0,   0,   0,   0,   0,   0,\n",
       "          0,   0],\n",
       "       [  0,   0,   0,   0,   0,   0,   0,   0,   0,   0,  24, 114, 221,\n",
       "        253, 253, 253, 253, 201,  78,   0,   0,   0,   0,   0,   0,   0,\n",
       "          0,   0],\n",
       "       [  0,   0,   0,   0,   0,   0,   0,   0,  23,  66, 213, 253, 253,\n",
       "        253, 253, 198,  81,   2,   0,   0,   0,   0,   0,   0,   0,   0,\n",
       "          0,   0],\n",
       "       [  0,   0,   0,   0,   0,   0,  18, 171, 219, 253, 253, 253, 253,\n",
       "        195,  80,   9,   0,   0,   0,   0,   0,   0,   0,   0,   0,   0,\n",
       "          0,   0],\n",
       "       [  0,   0,   0,   0,  55, 172, 226, 253, 253, 253, 253, 244, 133,\n",
       "         11,   0,   0,   0,   0,   0,   0,   0,   0,   0,   0,   0,   0,\n",
       "          0,   0],\n",
       "       [  0,   0,   0,   0, 136, 253, 253, 253, 212, 135, 132,  16,   0,\n",
       "          0,   0,   0,   0,   0,   0,   0,   0,   0,   0,   0,   0,   0,\n",
       "          0,   0],\n",
       "       [  0,   0,   0,   0,   0,   0,   0,   0,   0,   0,   0,   0,   0,\n",
       "          0,   0,   0,   0,   0,   0,   0,   0,   0,   0,   0,   0,   0,\n",
       "          0,   0],\n",
       "       [  0,   0,   0,   0,   0,   0,   0,   0,   0,   0,   0,   0,   0,\n",
       "          0,   0,   0,   0,   0,   0,   0,   0,   0,   0,   0,   0,   0,\n",
       "          0,   0],\n",
       "       [  0,   0,   0,   0,   0,   0,   0,   0,   0,   0,   0,   0,   0,\n",
       "          0,   0,   0,   0,   0,   0,   0,   0,   0,   0,   0,   0,   0,\n",
       "          0,   0]], dtype=uint8)"
      ]
     },
     "metadata": {},
     "execution_count": 77
    }
   ],
   "metadata": {}
  },
  {
   "cell_type": "code",
   "execution_count": 78,
   "source": [
    "label = y_train[0];\r\n",
    "plt.figure();\r\n",
    "plt.imshow(img);\r\n",
    "plt.title('%d %d' % (0, label), fontsize=15);\r\n",
    "plt.show();"
   ],
   "outputs": [
    {
     "output_type": "display_data",
     "data": {
      "text/plain": [
       "<Figure size 640x480 with 1 Axes>"
      ],
      "image/svg+xml": "<?xml version=\"1.0\" encoding=\"utf-8\" standalone=\"no\"?>\r\n<!DOCTYPE svg PUBLIC \"-//W3C//DTD SVG 1.1//EN\"\r\n  \"http://www.w3.org/Graphics/SVG/1.1/DTD/svg11.dtd\">\r\n<svg height=\"314.587781pt\" version=\"1.1\" viewBox=\"0 0 300.237 314.587781\" width=\"300.237pt\" xmlns=\"http://www.w3.org/2000/svg\" xmlns:xlink=\"http://www.w3.org/1999/xlink\">\r\n <metadata>\r\n  <rdf:RDF xmlns:cc=\"http://creativecommons.org/ns#\" xmlns:dc=\"http://purl.org/dc/elements/1.1/\" xmlns:rdf=\"http://www.w3.org/1999/02/22-rdf-syntax-ns#\">\r\n   <cc:Work>\r\n    <dc:type rdf:resource=\"http://purl.org/dc/dcmitype/StillImage\"/>\r\n    <dc:date>2021-08-25T13:19:16.745173</dc:date>\r\n    <dc:format>image/svg+xml</dc:format>\r\n    <dc:creator>\r\n     <cc:Agent>\r\n      <dc:title>Matplotlib v3.4.2, https://matplotlib.org/</dc:title>\r\n     </cc:Agent>\r\n    </dc:creator>\r\n   </cc:Work>\r\n  </rdf:RDF>\r\n </metadata>\r\n <defs>\r\n  <style type=\"text/css\">*{stroke-linecap:butt;stroke-linejoin:round;}</style>\r\n </defs>\r\n <g id=\"figure_1\">\r\n  <g id=\"patch_1\">\r\n   <path d=\"M -0 314.587781 \r\nL 300.237 314.587781 \r\nL 300.237 0 \r\nL -0 0 \r\nz\r\n\" style=\"fill:#ffffff;\"/>\r\n  </g>\r\n  <g id=\"axes_1\">\r\n   <g id=\"patch_2\">\r\n    <path d=\"M 26.925 290.709656 \r\nL 293.037 290.709656 \r\nL 293.037 24.597656 \r\nL 26.925 24.597656 \r\nz\r\n\" style=\"fill:#ffffff;\"/>\r\n   </g>\r\n   <g clip-path=\"url(#p3097bbe69e)\">\r\n    <image height=\"266.4\" id=\"imagee587ecbb61\" transform=\"scale(1 -1)translate(0 -266.4)\" width=\"266.4\" x=\"26.925\" xlink:href=\"data:image/png;base64,\r\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\" y=\"-24.309656\"/>\r\n   </g>\r\n   <g id=\"matplotlib.axis_1\">\r\n    <g id=\"xtick_1\">\r\n     <g id=\"line2d_1\">\r\n      <defs>\r\n       <path d=\"M 0 0 \r\nL 0 3.5 \r\n\" id=\"m2b5eca678d\" style=\"stroke:#000000;stroke-width:0.8;\"/>\r\n      </defs>\r\n      <g>\r\n       <use style=\"stroke:#000000;stroke-width:0.8;\" x=\"31.677\" xlink:href=\"#m2b5eca678d\" y=\"290.709656\"/>\r\n      </g>\r\n     </g>\r\n     <g id=\"text_1\">\r\n      <!-- 0 -->\r\n      <g transform=\"translate(28.49575 305.308094)scale(0.1 -0.1)\">\r\n       <defs>\r\n        <path d=\"M 2034 4250 \r\nQ 1547 4250 1301 3770 \r\nQ 1056 3291 1056 2328 \r\nQ 1056 1369 1301 889 \r\nQ 1547 409 2034 409 \r\nQ 2525 409 2770 889 \r\nQ 3016 1369 3016 2328 \r\nQ 3016 3291 2770 3770 \r\nQ 2525 4250 2034 4250 \r\nz\r\nM 2034 4750 \r\nQ 2819 4750 3233 4129 \r\nQ 3647 3509 3647 2328 \r\nQ 3647 1150 3233 529 \r\nQ 2819 -91 2034 -91 \r\nQ 1250 -91 836 529 \r\nQ 422 1150 422 2328 \r\nQ 422 3509 836 4129 \r\nQ 1250 4750 2034 4750 \r\nz\r\n\" id=\"DejaVuSans-30\" transform=\"scale(0.015625)\"/>\r\n       </defs>\r\n       <use xlink:href=\"#DejaVuSans-30\"/>\r\n      </g>\r\n     </g>\r\n    </g>\r\n    <g id=\"xtick_2\">\r\n     <g id=\"line2d_2\">\r\n      <g>\r\n       <use style=\"stroke:#000000;stroke-width:0.8;\" x=\"79.197\" xlink:href=\"#m2b5eca678d\" y=\"290.709656\"/>\r\n      </g>\r\n     </g>\r\n     <g id=\"text_2\">\r\n      <!-- 5 -->\r\n      <g transform=\"translate(76.01575 305.308094)scale(0.1 -0.1)\">\r\n       <defs>\r\n        <path d=\"M 691 4666 \r\nL 3169 4666 \r\nL 3169 4134 \r\nL 1269 4134 \r\nL 1269 2991 \r\nQ 1406 3038 1543 3061 \r\nQ 1681 3084 1819 3084 \r\nQ 2600 3084 3056 2656 \r\nQ 3513 2228 3513 1497 \r\nQ 3513 744 3044 326 \r\nQ 2575 -91 1722 -91 \r\nQ 1428 -91 1123 -41 \r\nQ 819 9 494 109 \r\nL 494 744 \r\nQ 775 591 1075 516 \r\nQ 1375 441 1709 441 \r\nQ 2250 441 2565 725 \r\nQ 2881 1009 2881 1497 \r\nQ 2881 1984 2565 2268 \r\nQ 2250 2553 1709 2553 \r\nQ 1456 2553 1204 2497 \r\nQ 953 2441 691 2322 \r\nL 691 4666 \r\nz\r\n\" id=\"DejaVuSans-35\" transform=\"scale(0.015625)\"/>\r\n       </defs>\r\n       <use xlink:href=\"#DejaVuSans-35\"/>\r\n      </g>\r\n     </g>\r\n    </g>\r\n    <g id=\"xtick_3\">\r\n     <g id=\"line2d_3\">\r\n      <g>\r\n       <use style=\"stroke:#000000;stroke-width:0.8;\" x=\"126.717\" xlink:href=\"#m2b5eca678d\" y=\"290.709656\"/>\r\n      </g>\r\n     </g>\r\n     <g id=\"text_3\">\r\n      <!-- 10 -->\r\n      <g transform=\"translate(120.3545 305.308094)scale(0.1 -0.1)\">\r\n       <defs>\r\n        <path d=\"M 794 531 \r\nL 1825 531 \r\nL 1825 4091 \r\nL 703 3866 \r\nL 703 4441 \r\nL 1819 4666 \r\nL 2450 4666 \r\nL 2450 531 \r\nL 3481 531 \r\nL 3481 0 \r\nL 794 0 \r\nL 794 531 \r\nz\r\n\" id=\"DejaVuSans-31\" transform=\"scale(0.015625)\"/>\r\n       </defs>\r\n       <use xlink:href=\"#DejaVuSans-31\"/>\r\n       <use x=\"63.623047\" xlink:href=\"#DejaVuSans-30\"/>\r\n      </g>\r\n     </g>\r\n    </g>\r\n    <g id=\"xtick_4\">\r\n     <g id=\"line2d_4\">\r\n      <g>\r\n       <use style=\"stroke:#000000;stroke-width:0.8;\" x=\"174.237\" xlink:href=\"#m2b5eca678d\" y=\"290.709656\"/>\r\n      </g>\r\n     </g>\r\n     <g id=\"text_4\">\r\n      <!-- 15 -->\r\n      <g transform=\"translate(167.8745 305.308094)scale(0.1 -0.1)\">\r\n       <use xlink:href=\"#DejaVuSans-31\"/>\r\n       <use x=\"63.623047\" xlink:href=\"#DejaVuSans-35\"/>\r\n      </g>\r\n     </g>\r\n    </g>\r\n    <g id=\"xtick_5\">\r\n     <g id=\"line2d_5\">\r\n      <g>\r\n       <use style=\"stroke:#000000;stroke-width:0.8;\" x=\"221.757\" xlink:href=\"#m2b5eca678d\" y=\"290.709656\"/>\r\n      </g>\r\n     </g>\r\n     <g id=\"text_5\">\r\n      <!-- 20 -->\r\n      <g transform=\"translate(215.3945 305.308094)scale(0.1 -0.1)\">\r\n       <defs>\r\n        <path d=\"M 1228 531 \r\nL 3431 531 \r\nL 3431 0 \r\nL 469 0 \r\nL 469 531 \r\nQ 828 903 1448 1529 \r\nQ 2069 2156 2228 2338 \r\nQ 2531 2678 2651 2914 \r\nQ 2772 3150 2772 3378 \r\nQ 2772 3750 2511 3984 \r\nQ 2250 4219 1831 4219 \r\nQ 1534 4219 1204 4116 \r\nQ 875 4013 500 3803 \r\nL 500 4441 \r\nQ 881 4594 1212 4672 \r\nQ 1544 4750 1819 4750 \r\nQ 2544 4750 2975 4387 \r\nQ 3406 4025 3406 3419 \r\nQ 3406 3131 3298 2873 \r\nQ 3191 2616 2906 2266 \r\nQ 2828 2175 2409 1742 \r\nQ 1991 1309 1228 531 \r\nz\r\n\" id=\"DejaVuSans-32\" transform=\"scale(0.015625)\"/>\r\n       </defs>\r\n       <use xlink:href=\"#DejaVuSans-32\"/>\r\n       <use x=\"63.623047\" xlink:href=\"#DejaVuSans-30\"/>\r\n      </g>\r\n     </g>\r\n    </g>\r\n    <g id=\"xtick_6\">\r\n     <g id=\"line2d_6\">\r\n      <g>\r\n       <use style=\"stroke:#000000;stroke-width:0.8;\" x=\"269.277\" xlink:href=\"#m2b5eca678d\" y=\"290.709656\"/>\r\n      </g>\r\n     </g>\r\n     <g id=\"text_6\">\r\n      <!-- 25 -->\r\n      <g transform=\"translate(262.9145 305.308094)scale(0.1 -0.1)\">\r\n       <use xlink:href=\"#DejaVuSans-32\"/>\r\n       <use x=\"63.623047\" xlink:href=\"#DejaVuSans-35\"/>\r\n      </g>\r\n     </g>\r\n    </g>\r\n   </g>\r\n   <g id=\"matplotlib.axis_2\">\r\n    <g id=\"ytick_1\">\r\n     <g id=\"line2d_7\">\r\n      <defs>\r\n       <path d=\"M 0 0 \r\nL -3.5 0 \r\n\" id=\"m84ef35d298\" style=\"stroke:#000000;stroke-width:0.8;\"/>\r\n      </defs>\r\n      <g>\r\n       <use style=\"stroke:#000000;stroke-width:0.8;\" x=\"26.925\" xlink:href=\"#m84ef35d298\" y=\"29.349656\"/>\r\n      </g>\r\n     </g>\r\n     <g id=\"text_7\">\r\n      <!-- 0 -->\r\n      <g transform=\"translate(13.5625 33.148875)scale(0.1 -0.1)\">\r\n       <use xlink:href=\"#DejaVuSans-30\"/>\r\n      </g>\r\n     </g>\r\n    </g>\r\n    <g id=\"ytick_2\">\r\n     <g id=\"line2d_8\">\r\n      <g>\r\n       <use style=\"stroke:#000000;stroke-width:0.8;\" x=\"26.925\" xlink:href=\"#m84ef35d298\" y=\"76.869656\"/>\r\n      </g>\r\n     </g>\r\n     <g id=\"text_8\">\r\n      <!-- 5 -->\r\n      <g transform=\"translate(13.5625 80.668875)scale(0.1 -0.1)\">\r\n       <use xlink:href=\"#DejaVuSans-35\"/>\r\n      </g>\r\n     </g>\r\n    </g>\r\n    <g id=\"ytick_3\">\r\n     <g id=\"line2d_9\">\r\n      <g>\r\n       <use style=\"stroke:#000000;stroke-width:0.8;\" x=\"26.925\" xlink:href=\"#m84ef35d298\" y=\"124.389656\"/>\r\n      </g>\r\n     </g>\r\n     <g id=\"text_9\">\r\n      <!-- 10 -->\r\n      <g transform=\"translate(7.2 128.188875)scale(0.1 -0.1)\">\r\n       <use xlink:href=\"#DejaVuSans-31\"/>\r\n       <use x=\"63.623047\" xlink:href=\"#DejaVuSans-30\"/>\r\n      </g>\r\n     </g>\r\n    </g>\r\n    <g id=\"ytick_4\">\r\n     <g id=\"line2d_10\">\r\n      <g>\r\n       <use style=\"stroke:#000000;stroke-width:0.8;\" x=\"26.925\" xlink:href=\"#m84ef35d298\" y=\"171.909656\"/>\r\n      </g>\r\n     </g>\r\n     <g id=\"text_10\">\r\n      <!-- 15 -->\r\n      <g transform=\"translate(7.2 175.708875)scale(0.1 -0.1)\">\r\n       <use xlink:href=\"#DejaVuSans-31\"/>\r\n       <use x=\"63.623047\" xlink:href=\"#DejaVuSans-35\"/>\r\n      </g>\r\n     </g>\r\n    </g>\r\n    <g id=\"ytick_5\">\r\n     <g id=\"line2d_11\">\r\n      <g>\r\n       <use style=\"stroke:#000000;stroke-width:0.8;\" x=\"26.925\" xlink:href=\"#m84ef35d298\" y=\"219.429656\"/>\r\n      </g>\r\n     </g>\r\n     <g id=\"text_11\">\r\n      <!-- 20 -->\r\n      <g transform=\"translate(7.2 223.228875)scale(0.1 -0.1)\">\r\n       <use xlink:href=\"#DejaVuSans-32\"/>\r\n       <use x=\"63.623047\" xlink:href=\"#DejaVuSans-30\"/>\r\n      </g>\r\n     </g>\r\n    </g>\r\n    <g id=\"ytick_6\">\r\n     <g id=\"line2d_12\">\r\n      <g>\r\n       <use style=\"stroke:#000000;stroke-width:0.8;\" x=\"26.925\" xlink:href=\"#m84ef35d298\" y=\"266.949656\"/>\r\n      </g>\r\n     </g>\r\n     <g id=\"text_12\">\r\n      <!-- 25 -->\r\n      <g transform=\"translate(7.2 270.748875)scale(0.1 -0.1)\">\r\n       <use xlink:href=\"#DejaVuSans-32\"/>\r\n       <use x=\"63.623047\" xlink:href=\"#DejaVuSans-35\"/>\r\n      </g>\r\n     </g>\r\n    </g>\r\n   </g>\r\n   <g id=\"patch_3\">\r\n    <path d=\"M 26.925 290.709656 \r\nL 26.925 24.597656 \r\n\" style=\"fill:none;stroke:#000000;stroke-linecap:square;stroke-linejoin:miter;stroke-width:0.8;\"/>\r\n   </g>\r\n   <g id=\"patch_4\">\r\n    <path d=\"M 293.037 290.709656 \r\nL 293.037 24.597656 \r\n\" style=\"fill:none;stroke:#000000;stroke-linecap:square;stroke-linejoin:miter;stroke-width:0.8;\"/>\r\n   </g>\r\n   <g id=\"patch_5\">\r\n    <path d=\"M 26.925 290.709656 \r\nL 293.037 290.709656 \r\n\" style=\"fill:none;stroke:#000000;stroke-linecap:square;stroke-linejoin:miter;stroke-width:0.8;\"/>\r\n   </g>\r\n   <g id=\"patch_6\">\r\n    <path d=\"M 26.925 24.597656 \r\nL 293.037 24.597656 \r\n\" style=\"fill:none;stroke:#000000;stroke-linecap:square;stroke-linejoin:miter;stroke-width:0.8;\"/>\r\n   </g>\r\n   <g id=\"text_13\">\r\n    <!-- 0 5 -->\r\n    <g transform=\"translate(148.053656 18.597656)scale(0.15 -0.15)\">\r\n     <defs>\r\n      <path id=\"DejaVuSans-20\" transform=\"scale(0.015625)\"/>\r\n     </defs>\r\n     <use xlink:href=\"#DejaVuSans-30\"/>\r\n     <use x=\"63.623047\" xlink:href=\"#DejaVuSans-20\"/>\r\n     <use x=\"95.410156\" xlink:href=\"#DejaVuSans-35\"/>\r\n    </g>\r\n   </g>\r\n  </g>\r\n </g>\r\n <defs>\r\n  <clipPath id=\"p3097bbe69e\">\r\n   <rect height=\"266.112\" width=\"266.112\" x=\"26.925\" y=\"24.597656\"/>\r\n  </clipPath>\r\n </defs>\r\n</svg>\r\n",
      "image/png": "[encoded data removed]"
     },
     "metadata": {}
    }
   ],
   "metadata": {}
  },
  {
   "cell_type": "markdown",
   "source": [
    "# 훈련 데이터 검증 데이터 분리"
   ],
   "metadata": {}
  },
  {
   "cell_type": "code",
   "execution_count": 79,
   "source": [
    "from sklearn.model_selection import train_test_split;\r\n",
    "from sklearn.preprocessing import MinMaxScaler;\r\n",
    "\r\n",
    "x_train, x_vali, y_train, y_vali = train_test_split(x_train, y_train,\r\n",
    "                                                    test_size=0.3,\r\n",
    "                                                    random_state=777\r\n",
    "                                                    );\r\n",
    "print(x_train.shape, y_train.shape)\r\n",
    "print(x_vali.shape, y_vali.shape)"
   ],
   "outputs": [
    {
     "output_type": "stream",
     "name": "stdout",
     "text": [
      "(42000, 28, 28) (42000,)\n",
      "(18000, 28, 28) (18000,)\n"
     ]
    }
   ],
   "metadata": {}
  },
  {
   "cell_type": "markdown",
   "source": [
    "# x_train 차원 축소"
   ],
   "metadata": {}
  },
  {
   "cell_type": "code",
   "execution_count": 80,
   "source": [
    "x_train = x_train.reshape(x_train.shape[0], 28 * 28)\r\n",
    "print('x_train차원 축소 :', x_train.shape)\r\n",
    "x_vali = x_vali.reshape(x_vali.shape[0], 28 * 28)\r\n",
    "print('x_vali차원 축소 :', x_vali.shape)\r\n",
    "x_test = x_test.reshape(x_test.shape[0], 28 * 28)\r\n",
    "print('x_test차원 축소 :', x_test.shape)\r\n"
   ],
   "outputs": [
    {
     "output_type": "stream",
     "name": "stdout",
     "text": [
      "x_train차원 축소 : (42000, 784)\n",
      "x_vali차원 축소 : (18000, 784)\n",
      "x_test차원 축소 : (10000, 784)\n"
     ]
    }
   ],
   "metadata": {}
  },
  {
   "cell_type": "markdown",
   "source": [
    "# x_train 정규화"
   ],
   "metadata": {}
  },
  {
   "cell_type": "code",
   "execution_count": 81,
   "source": [
    "# 정규화!! (min max scaler는 3차원을 가능하지 않음.)\r\n",
    "x_train_scaler = MinMaxScaler().fit_transform(x_train)\r\n",
    "x_vali_scaler = MinMaxScaler().fit_transform(x_vali)\r\n",
    "x_test_scaler = MinMaxScaler().fit_transform(x_test)\r\n",
    "\r\n",
    "print('정규화된 형태',x_train_scaler[0, :])\r\n"
   ],
   "outputs": [
    {
     "output_type": "stream",
     "name": "stdout",
     "text": [
      "정규화된 형태 [0.         0.         0.         0.         0.         0.\n",
      " 0.         0.         0.         0.         0.         0.\n",
      " 0.         0.         0.         0.         0.         0.\n",
      " 0.         0.         0.         0.         0.         0.\n",
      " 0.         0.         0.         0.         0.         0.\n",
      " 0.         0.         0.         0.         0.         0.\n",
      " 0.         0.         0.         0.         0.         0.\n",
      " 0.         0.         0.         0.         0.         0.\n",
      " 0.         0.         0.         0.         0.         0.\n",
      " 0.         0.         0.         0.         0.         0.\n",
      " 0.         0.         0.         0.         0.         0.\n",
      " 0.         0.         0.         0.         0.         0.\n",
      " 0.         0.         0.         0.         0.         0.\n",
      " 0.         0.         0.         0.         0.         0.\n",
      " 0.         0.         0.         0.         0.         0.\n",
      " 0.         0.         0.         0.         0.         0.\n",
      " 0.         0.09803922 0.49411765 0.81568627 0.99607843 0.88627451\n",
      " 0.04705882 0.         0.         0.         0.         0.\n",
      " 0.         0.         0.         0.         0.         0.\n",
      " 0.         0.         0.         0.         0.         0.\n",
      " 0.         0.         0.         0.         0.05882353 0.82745098\n",
      " 0.99607843 0.99215686 0.99215686 0.99215686 0.4        0.\n",
      " 0.         0.         0.         0.         0.         0.\n",
      " 0.         0.         0.         0.         0.         0.\n",
      " 0.         0.         0.         0.         0.         0.\n",
      " 0.         0.         0.54901961 0.99215686 0.99607843 0.99215686\n",
      " 0.99215686 0.99215686 0.7254902  0.         0.         0.\n",
      " 0.         0.         0.         0.         0.         0.\n",
      " 0.         0.         0.         0.         0.         0.\n",
      " 0.         0.         0.         0.         0.         0.\n",
      " 0.7372549  0.99215686 0.99607843 0.99215686 0.99215686 0.99215686\n",
      " 0.80784314 0.         0.         0.         0.         0.\n",
      " 0.         0.         0.         0.         0.         0.\n",
      " 0.         0.         0.         0.         0.         0.\n",
      " 0.         0.         0.         0.         0.25490196 0.94509804\n",
      " 0.99607843 0.85490196 0.99215686 0.99215686 0.67058824 0.\n",
      " 0.         0.         0.         0.         0.         0.\n",
      " 0.         0.         0.         0.         0.         0.\n",
      " 0.         0.         0.         0.         0.         0.\n",
      " 0.         0.         0.         0.1372549  0.18431373 0.33333333\n",
      " 0.99215686 0.99215686 0.64313725 0.         0.         0.\n",
      " 0.         0.         0.         0.         0.         0.\n",
      " 0.         0.         0.         0.         0.         0.\n",
      " 0.         0.         0.         0.         0.         0.\n",
      " 0.         0.         0.         0.51372549 0.99215686 0.99215686\n",
      " 0.18039216 0.         0.         0.         0.         0.\n",
      " 0.         0.         0.         0.         0.         0.\n",
      " 0.         0.         0.         0.         0.         0.\n",
      " 0.         0.         0.         0.         0.         0.\n",
      " 0.23921569 0.93333333 0.99215686 0.70588235 0.00392157 0.\n",
      " 0.         0.         0.         0.         0.         0.\n",
      " 0.         0.         0.         0.         0.         0.\n",
      " 0.         0.         0.         0.         0.         0.\n",
      " 0.         0.         0.         0.         0.66666667 0.99215686\n",
      " 0.99215686 0.51764706 0.         0.         0.         0.\n",
      " 0.         0.         0.         0.         0.         0.\n",
      " 0.         0.         0.         0.         0.         0.\n",
      " 0.         0.         0.         0.         0.         0.\n",
      " 0.         0.41176471 0.99607843 0.99215686 0.69019608 0.08627451\n",
      " 0.         0.         0.         0.         0.         0.\n",
      " 0.         0.         0.         0.         0.         0.\n",
      " 0.         0.         0.         0.         0.         0.\n",
      " 0.         0.         0.         0.         0.44313725 0.99607843\n",
      " 1.         0.66666667 0.08235294 0.         0.         0.\n",
      " 0.         0.         0.         0.         0.         0.\n",
      " 0.         0.         0.         0.         0.         0.\n",
      " 0.         0.         0.         0.         0.         0.\n",
      " 0.         0.44705882 0.97647059 0.99215686 0.80392157 0.09411765\n",
      " 0.         0.         0.         0.         0.         0.\n",
      " 0.         0.         0.         0.         0.         0.\n",
      " 0.         0.         0.         0.         0.         0.00784314\n",
      " 0.34117647 0.77254902 0.77254902 0.74509804 0.6627451  0.98431373\n",
      " 0.99215686 0.82745098 0.08235294 0.         0.         0.\n",
      " 0.         0.         0.         0.01176471 0.31372549 0.01176471\n",
      " 0.         0.         0.         0.         0.         0.\n",
      " 0.         0.         0.         0.50196078 0.99215686 0.99215686\n",
      " 0.99215686 0.99215686 0.99215686 0.99215686 0.80784314 0.08627451\n",
      " 0.         0.         0.         0.         0.         0.\n",
      " 0.         0.57647059 0.91764706 0.08627451 0.         0.\n",
      " 0.         0.         0.         0.         0.         0.\n",
      " 0.21568627 0.94509804 0.99215686 0.99215686 0.99215686 0.99215686\n",
      " 0.99215686 0.99215686 0.7372549  0.05098039 0.         0.\n",
      " 0.         0.         0.         0.01568627 0.56470588 0.98823529\n",
      " 0.81176471 0.         0.         0.         0.         0.\n",
      " 0.         0.         0.         0.         0.59607843 0.99215686\n",
      " 0.99215686 0.99215686 0.99215686 0.98431373 0.78039216 0.98823529\n",
      " 0.99215686 0.71764706 0.02745098 0.         0.         0.\n",
      " 0.         0.26666667 0.99215686 0.99215686 0.21176471 0.\n",
      " 0.         0.         0.         0.         0.         0.\n",
      " 0.         0.         0.07843137 0.52941176 0.99215686 0.99215686\n",
      " 0.61176471 0.27058824 0.         0.83529412 0.99215686 0.99215686\n",
      " 0.81176471 0.3254902  0.         0.         0.38039216 0.9372549\n",
      " 0.99215686 0.91764706 0.09803922 0.         0.         0.\n",
      " 0.         0.         0.         0.         0.         0.\n",
      " 0.         0.00784314 0.03529412 0.03529412 0.00392157 0.\n",
      " 0.         0.10588235 0.82352941 0.99215686 0.99607843 0.98431373\n",
      " 0.95686275 0.95686275 0.98823529 0.99215686 0.99215686 0.05882353\n",
      " 0.         0.         0.         0.         0.         0.\n",
      " 0.         0.         0.         0.         0.         0.\n",
      " 0.         0.         0.         0.         0.         0.\n",
      " 0.07058824 0.69019608 0.99607843 0.99215686 0.99215686 0.99215686\n",
      " 0.99215686 0.95686275 0.39215686 0.00784314 0.         0.\n",
      " 0.         0.         0.         0.         0.         0.\n",
      " 0.         0.         0.         0.         0.         0.\n",
      " 0.         0.         0.         0.         0.         0.\n",
      " 0.49019608 0.62352941 0.62352941 0.75686275 0.55294118 0.23921569\n",
      " 0.         0.         0.         0.         0.         0.\n",
      " 0.         0.         0.         0.         0.         0.\n",
      " 0.         0.         0.         0.         0.         0.\n",
      " 0.         0.         0.         0.         0.         0.\n",
      " 0.         0.         0.         0.         0.         0.\n",
      " 0.         0.         0.         0.         0.         0.\n",
      " 0.         0.         0.         0.         0.         0.\n",
      " 0.         0.         0.         0.         0.         0.\n",
      " 0.         0.         0.         0.         0.         0.\n",
      " 0.         0.         0.         0.         0.         0.\n",
      " 0.         0.         0.         0.         0.         0.\n",
      " 0.         0.         0.         0.         0.         0.\n",
      " 0.         0.         0.         0.         0.         0.\n",
      " 0.         0.         0.         0.         0.         0.\n",
      " 0.         0.         0.         0.         0.         0.\n",
      " 0.         0.         0.         0.         0.         0.\n",
      " 0.         0.         0.         0.         0.         0.\n",
      " 0.         0.         0.         0.         0.         0.\n",
      " 0.         0.         0.         0.         0.         0.\n",
      " 0.         0.         0.         0.         0.         0.\n",
      " 0.         0.         0.         0.         0.         0.\n",
      " 0.         0.         0.         0.         0.         0.\n",
      " 0.         0.         0.         0.         0.         0.\n",
      " 0.         0.         0.         0.         0.         0.\n",
      " 0.         0.         0.         0.        ]\n"
     ]
    }
   ],
   "metadata": {}
  },
  {
   "cell_type": "markdown",
   "source": [
    "# y_train 범주형 변환"
   ],
   "metadata": {}
  },
  {
   "cell_type": "code",
   "execution_count": 82,
   "source": [
    "# 데이터가 시리얼 형태로 들어가 있음.\r\n",
    "# 데이터를 범주형으로 변환\r\n",
    "print(y_train.shape)\r\n",
    "print('원본 데이터:',y_train[1])\r\n",
    "y_train_cate = to_categorical(y_train) # 원핫인코딩과 유사한 개념\r\n",
    "print(y_train.shape)\r\n",
    "print('to_categorical 이후:',y_train[1])\r\n",
    "y_vali_cate = to_categorical(y_vali)\r\n",
    "y_test_cate = to_categorical(y_test)"
   ],
   "outputs": [
    {
     "output_type": "stream",
     "name": "stdout",
     "text": [
      "(42000,)\n",
      "원본 데이터: 7\n",
      "(42000,)\n",
      "to_categorical 이후: 7\n"
     ]
    }
   ],
   "metadata": {}
  },
  {
   "cell_type": "markdown",
   "source": [
    "# 모델 구성 - 신경망 구성"
   ],
   "metadata": {}
  },
  {
   "cell_type": "code",
   "execution_count": 83,
   "source": [
    "# 모델 구성 - 신경망 구성\r\n",
    "from tensorflow.keras.models import Sequential;\r\n",
    "from tensorflow.keras.layers import Dense;\r\n",
    "\r\n",
    "model = Sequential();\r\n",
    "# 784개 들어와서 10개가 나감.\r\n",
    "model.add(Dense(64, activation='relu', input_shape=(784, )))\r\n",
    "model.add(Dense(32, activation='relu'))\r\n",
    "model.add(Dense(10, activation='softmax')) # 다중분류라서...softmax\r\n",
    "\r\n",
    "model.compile(optimizer='adam',\r\n",
    "              loss='categorical_crossentropy',\r\n",
    "              metrics=['acc']);\r\n",
    "model.fit(x_train_scaler, y_train_cate,\r\n",
    "          epochs=30,\r\n",
    "          validation_data=(x_vali_scaler, y_vali_cate),\r\n",
    "          verbose=1);\r\n"
   ],
   "outputs": [
    {
     "output_type": "stream",
     "name": "stdout",
     "text": [
      "Epoch 1/30\n",
      "1313/1313 [==============================] - 1s 848us/step - loss: 0.3497 - acc: 0.9000 - val_loss: 0.1839 - val_acc: 0.9481\n",
      "Epoch 2/30\n",
      "1313/1313 [==============================] - 1s 717us/step - loss: 0.1510 - acc: 0.9545 - val_loss: 0.1441 - val_acc: 0.9588\n",
      "Epoch 3/30\n",
      "1313/1313 [==============================] - 1s 686us/step - loss: 0.1115 - acc: 0.9669 - val_loss: 0.1215 - val_acc: 0.9652\n",
      "Epoch 4/30\n",
      "1313/1313 [==============================] - 1s 755us/step - loss: 0.0863 - acc: 0.9733 - val_loss: 0.1269 - val_acc: 0.9623\n",
      "Epoch 5/30\n",
      "1313/1313 [==============================] - 1s 697us/step - loss: 0.0700 - acc: 0.9776 - val_loss: 0.1111 - val_acc: 0.9668\n",
      "Epoch 6/30\n",
      "1313/1313 [==============================] - 1s 678us/step - loss: 0.0576 - acc: 0.9820 - val_loss: 0.1234 - val_acc: 0.9642\n",
      "Epoch 7/30\n",
      "1313/1313 [==============================] - 1s 703us/step - loss: 0.0493 - acc: 0.9842 - val_loss: 0.1110 - val_acc: 0.9672\n",
      "Epoch 8/30\n",
      "1313/1313 [==============================] - 1s 685us/step - loss: 0.0421 - acc: 0.9858 - val_loss: 0.1126 - val_acc: 0.9693\n",
      "Epoch 9/30\n",
      "1313/1313 [==============================] - 1s 704us/step - loss: 0.0349 - acc: 0.9887 - val_loss: 0.1079 - val_acc: 0.9712\n",
      "Epoch 10/30\n",
      "1313/1313 [==============================] - 1s 679us/step - loss: 0.0304 - acc: 0.9898 - val_loss: 0.1136 - val_acc: 0.9705\n",
      "Epoch 11/30\n",
      "1313/1313 [==============================] - 1s 706us/step - loss: 0.0267 - acc: 0.9909 - val_loss: 0.1244 - val_acc: 0.9688\n",
      "Epoch 12/30\n",
      "1313/1313 [==============================] - 1s 669us/step - loss: 0.0241 - acc: 0.9920 - val_loss: 0.1225 - val_acc: 0.9694\n",
      "Epoch 13/30\n",
      "1313/1313 [==============================] - 1s 676us/step - loss: 0.0211 - acc: 0.9926 - val_loss: 0.1215 - val_acc: 0.9717\n",
      "Epoch 14/30\n",
      "1313/1313 [==============================] - 1s 663us/step - loss: 0.0201 - acc: 0.9933 - val_loss: 0.1245 - val_acc: 0.9710\n",
      "Epoch 15/30\n",
      "1313/1313 [==============================] - 1s 677us/step - loss: 0.0168 - acc: 0.9941 - val_loss: 0.1290 - val_acc: 0.9724\n",
      "Epoch 16/30\n",
      "1313/1313 [==============================] - 1s 694us/step - loss: 0.0147 - acc: 0.9953 - val_loss: 0.1298 - val_acc: 0.9731\n",
      "Epoch 17/30\n",
      "1313/1313 [==============================] - 1s 704us/step - loss: 0.0146 - acc: 0.9951 - val_loss: 0.1450 - val_acc: 0.9691\n",
      "Epoch 18/30\n",
      "1313/1313 [==============================] - 1s 736us/step - loss: 0.0130 - acc: 0.9961 - val_loss: 0.1522 - val_acc: 0.9696\n",
      "Epoch 19/30\n",
      "1313/1313 [==============================] - 1s 740us/step - loss: 0.0123 - acc: 0.9955 - val_loss: 0.1415 - val_acc: 0.9726\n",
      "Epoch 20/30\n",
      "1313/1313 [==============================] - 1s 764us/step - loss: 0.0138 - acc: 0.9955 - val_loss: 0.1472 - val_acc: 0.9718\n",
      "Epoch 21/30\n",
      "1313/1313 [==============================] - 1s 739us/step - loss: 0.0096 - acc: 0.9969 - val_loss: 0.1523 - val_acc: 0.9706\n",
      "Epoch 22/30\n",
      "1313/1313 [==============================] - 1s 708us/step - loss: 0.0117 - acc: 0.9958 - val_loss: 0.1516 - val_acc: 0.9731\n",
      "Epoch 23/30\n",
      "1313/1313 [==============================] - 1s 753us/step - loss: 0.0120 - acc: 0.9958 - val_loss: 0.1544 - val_acc: 0.9730\n",
      "Epoch 24/30\n",
      "1313/1313 [==============================] - 1s 772us/step - loss: 0.0082 - acc: 0.9973 - val_loss: 0.1607 - val_acc: 0.9723\n",
      "Epoch 25/30\n",
      "1313/1313 [==============================] - 1s 733us/step - loss: 0.0119 - acc: 0.9963 - val_loss: 0.1715 - val_acc: 0.9721\n",
      "Epoch 26/30\n",
      "1313/1313 [==============================] - 1s 707us/step - loss: 0.0093 - acc: 0.9970 - val_loss: 0.1764 - val_acc: 0.9713\n",
      "Epoch 27/30\n",
      "1313/1313 [==============================] - 1s 771us/step - loss: 0.0075 - acc: 0.9977 - val_loss: 0.1759 - val_acc: 0.9714\n",
      "Epoch 28/30\n",
      "1313/1313 [==============================] - 1s 711us/step - loss: 0.0107 - acc: 0.9965 - val_loss: 0.1882 - val_acc: 0.9711\n",
      "Epoch 29/30\n",
      "1313/1313 [==============================] - 1s 720us/step - loss: 0.0082 - acc: 0.9973 - val_loss: 0.1776 - val_acc: 0.9723\n",
      "Epoch 30/30\n",
      "1313/1313 [==============================] - 1s 676us/step - loss: 0.0098 - acc: 0.9964 - val_loss: 0.1813 - val_acc: 0.9711\n"
     ]
    },
    {
     "output_type": "execute_result",
     "data": {
      "text/plain": [
       "<tensorflow.python.keras.callbacks.History at 0x1841348b340>"
      ]
     },
     "metadata": {},
     "execution_count": 83
    }
   ],
   "metadata": {}
  },
  {
   "cell_type": "markdown",
   "source": [
    "# 모델 검증"
   ],
   "metadata": {}
  },
  {
   "cell_type": "code",
   "execution_count": 84,
   "source": [
    "print(model.evaluate(x_test_scaler, y_test_cate))"
   ],
   "outputs": [
    {
     "output_type": "stream",
     "name": "stdout",
     "text": [
      "313/313 [==============================] - 0s 419us/step - loss: 0.1758 - acc: 0.9726\n",
      "[0.17576326429843903, 0.972599983215332]\n"
     ]
    }
   ],
   "metadata": {}
  },
  {
   "cell_type": "markdown",
   "source": [
    "# 모델 조정"
   ],
   "metadata": {}
  },
  {
   "cell_type": "code",
   "execution_count": 85,
   "source": [
    "model = Sequential();\r\n",
    "# 784개 들어와서 10개가 나감.\r\n",
    "model.add(Dense(128, activation='relu', input_shape=(784, )))\r\n",
    "model.add(Dense(64, activation='relu'))\r\n",
    "model.add(Dense(32, activation='relu'))\r\n",
    "model.add(Dense(10, activation='softmax')) # 다중분류라서...softmax\r\n",
    "\r\n",
    "model.compile(optimizer='adam',\r\n",
    "              loss='categorical_crossentropy',\r\n",
    "              metrics=['acc']);\r\n",
    "model.fit(x_train_scaler, y_train_cate,\r\n",
    "          epochs=30,\r\n",
    "          validation_data=(x_vali_scaler, y_vali_cate),\r\n",
    "          verbose=1);\r\n",
    "model.evaluate(x_test_scaler, y_test_cate)"
   ],
   "outputs": [
    {
     "output_type": "stream",
     "name": "stdout",
     "text": [
      "Epoch 1/30\n",
      "1313/1313 [==============================] - 1s 990us/step - loss: 0.3026 - acc: 0.9106 - val_loss: 0.1574 - val_acc: 0.9534\n",
      "Epoch 2/30\n",
      "1313/1313 [==============================] - 1s 900us/step - loss: 0.1264 - acc: 0.9620 - val_loss: 0.1271 - val_acc: 0.9619\n",
      "Epoch 3/30\n",
      "1313/1313 [==============================] - 1s 825us/step - loss: 0.0871 - acc: 0.9724 - val_loss: 0.1151 - val_acc: 0.9659\n",
      "Epoch 4/30\n",
      "1313/1313 [==============================] - 1s 893us/step - loss: 0.0654 - acc: 0.9786 - val_loss: 0.1124 - val_acc: 0.9689\n",
      "Epoch 5/30\n",
      "1313/1313 [==============================] - 1s 875us/step - loss: 0.0532 - acc: 0.9830 - val_loss: 0.0993 - val_acc: 0.9714\n",
      "Epoch 6/30\n",
      "1313/1313 [==============================] - 1s 861us/step - loss: 0.0428 - acc: 0.9864 - val_loss: 0.0950 - val_acc: 0.9736\n",
      "Epoch 7/30\n",
      "1313/1313 [==============================] - 1s 840us/step - loss: 0.0356 - acc: 0.9880 - val_loss: 0.0943 - val_acc: 0.9739\n",
      "Epoch 8/30\n",
      "1313/1313 [==============================] - 1s 859us/step - loss: 0.0294 - acc: 0.9902 - val_loss: 0.1089 - val_acc: 0.9713\n",
      "Epoch 9/30\n",
      "1313/1313 [==============================] - 1s 858us/step - loss: 0.0273 - acc: 0.9910 - val_loss: 0.1332 - val_acc: 0.9685\n",
      "Epoch 10/30\n",
      "1313/1313 [==============================] - 1s 865us/step - loss: 0.0248 - acc: 0.9915 - val_loss: 0.1025 - val_acc: 0.9748\n",
      "Epoch 11/30\n",
      "1313/1313 [==============================] - 1s 865us/step - loss: 0.0203 - acc: 0.9933 - val_loss: 0.1066 - val_acc: 0.9749\n",
      "Epoch 12/30\n",
      "1313/1313 [==============================] - 1s 892us/step - loss: 0.0192 - acc: 0.9936 - val_loss: 0.1399 - val_acc: 0.9714\n",
      "Epoch 13/30\n",
      "1313/1313 [==============================] - 1s 893us/step - loss: 0.0205 - acc: 0.9933 - val_loss: 0.1202 - val_acc: 0.9733\n",
      "Epoch 14/30\n",
      "1313/1313 [==============================] - 1s 838us/step - loss: 0.0143 - acc: 0.9955 - val_loss: 0.1391 - val_acc: 0.9709\n",
      "Epoch 15/30\n",
      "1313/1313 [==============================] - 1s 820us/step - loss: 0.0179 - acc: 0.9942 - val_loss: 0.1319 - val_acc: 0.9737\n",
      "Epoch 16/30\n",
      "1313/1313 [==============================] - 1s 838us/step - loss: 0.0145 - acc: 0.9955 - val_loss: 0.1191 - val_acc: 0.9753\n",
      "Epoch 17/30\n",
      "1313/1313 [==============================] - 1s 871us/step - loss: 0.0131 - acc: 0.9956 - val_loss: 0.1305 - val_acc: 0.9758\n",
      "Epoch 18/30\n",
      "1313/1313 [==============================] - 1s 856us/step - loss: 0.0140 - acc: 0.9957 - val_loss: 0.1314 - val_acc: 0.9751\n",
      "Epoch 19/30\n",
      "1313/1313 [==============================] - 1s 883us/step - loss: 0.0147 - acc: 0.9955 - val_loss: 0.1218 - val_acc: 0.9768\n",
      "Epoch 20/30\n",
      "1313/1313 [==============================] - 1s 857us/step - loss: 0.0107 - acc: 0.9968 - val_loss: 0.1820 - val_acc: 0.9662\n",
      "Epoch 21/30\n",
      "1313/1313 [==============================] - 1s 861us/step - loss: 0.0117 - acc: 0.9961 - val_loss: 0.1584 - val_acc: 0.9729\n",
      "Epoch 22/30\n",
      "1313/1313 [==============================] - 1s 845us/step - loss: 0.0116 - acc: 0.9961 - val_loss: 0.1425 - val_acc: 0.9748\n",
      "Epoch 23/30\n",
      "1313/1313 [==============================] - 1s 878us/step - loss: 0.0098 - acc: 0.9972 - val_loss: 0.1524 - val_acc: 0.9737\n",
      "Epoch 24/30\n",
      "1313/1313 [==============================] - 1s 886us/step - loss: 0.0120 - acc: 0.9962 - val_loss: 0.1537 - val_acc: 0.9744\n",
      "Epoch 25/30\n",
      "1313/1313 [==============================] - 1s 901us/step - loss: 0.0084 - acc: 0.9978 - val_loss: 0.1620 - val_acc: 0.9728\n",
      "Epoch 26/30\n",
      "1313/1313 [==============================] - 1s 864us/step - loss: 0.0127 - acc: 0.9961 - val_loss: 0.1590 - val_acc: 0.9730\n",
      "Epoch 27/30\n",
      "1313/1313 [==============================] - 1s 822us/step - loss: 0.0104 - acc: 0.9971 - val_loss: 0.1469 - val_acc: 0.9749\n",
      "Epoch 28/30\n",
      "1313/1313 [==============================] - 1s 823us/step - loss: 0.0110 - acc: 0.9967 - val_loss: 0.1597 - val_acc: 0.9751\n",
      "Epoch 29/30\n",
      "1313/1313 [==============================] - 1s 819us/step - loss: 0.0085 - acc: 0.9977 - val_loss: 0.1774 - val_acc: 0.9718\n",
      "Epoch 30/30\n",
      "1313/1313 [==============================] - 1s 808us/step - loss: 0.0089 - acc: 0.9972 - val_loss: 0.1711 - val_acc: 0.9733\n",
      "313/313 [==============================] - 0s 470us/step - loss: 0.1357 - acc: 0.9789\n"
     ]
    },
    {
     "output_type": "execute_result",
     "data": {
      "text/plain": [
       "[0.135667085647583, 0.9789000153541565]"
      ]
     },
     "metadata": {},
     "execution_count": 85
    }
   ],
   "metadata": {}
  },
  {
   "cell_type": "markdown",
   "source": [
    "# 예측값 확인"
   ],
   "metadata": {}
  },
  {
   "cell_type": "code",
   "execution_count": 86,
   "source": [
    "result = model.predict(x_test_scaler);\r\n",
    "print(result.shape)\r\n",
    "print(result[0])"
   ],
   "outputs": [
    {
     "output_type": "stream",
     "name": "stdout",
     "text": [
      "(10000, 10)\n",
      "[2.7663086e-14 8.5450726e-12 4.5523741e-13 6.0211929e-09 5.1791944e-15\n",
      " 7.6742378e-14 3.0203820e-18 1.0000000e+00 8.5978825e-15 7.6635320e-10]\n"
     ]
    }
   ],
   "metadata": {}
  },
  {
   "cell_type": "code",
   "execution_count": 87,
   "source": [
    "# with open(\"mnist.model\", \"wb\") as w:\r\n",
    "#     pickle.dump(model, w);"
   ],
   "outputs": [],
   "metadata": {}
  },
  {
   "cell_type": "code",
   "execution_count": 88,
   "source": [
    "plt.imshow(x_test[0].reshape(28,28))\r\n",
    "plt.show()"
   ],
   "outputs": [
    {
     "output_type": "display_data",
     "data": {
      "text/plain": [
       "<Figure size 640x480 with 1 Axes>"
      ],
      "image/svg+xml": "<?xml version=\"1.0\" encoding=\"utf-8\" standalone=\"no\"?>\r\n<!DOCTYPE svg PUBLIC \"-//W3C//DTD SVG 1.1//EN\"\r\n  \"http://www.w3.org/Graphics/SVG/1.1/DTD/svg11.dtd\">\r\n<svg height=\"297.190125pt\" version=\"1.1\" viewBox=\"0 0 300.237 297.190125\" width=\"300.237pt\" xmlns=\"http://www.w3.org/2000/svg\" xmlns:xlink=\"http://www.w3.org/1999/xlink\">\r\n <metadata>\r\n  <rdf:RDF xmlns:cc=\"http://creativecommons.org/ns#\" xmlns:dc=\"http://purl.org/dc/elements/1.1/\" xmlns:rdf=\"http://www.w3.org/1999/02/22-rdf-syntax-ns#\">\r\n   <cc:Work>\r\n    <dc:type rdf:resource=\"http://purl.org/dc/dcmitype/StillImage\"/>\r\n    <dc:date>2021-08-25T13:20:21.413139</dc:date>\r\n    <dc:format>image/svg+xml</dc:format>\r\n    <dc:creator>\r\n     <cc:Agent>\r\n      <dc:title>Matplotlib v3.4.2, https://matplotlib.org/</dc:title>\r\n     </cc:Agent>\r\n    </dc:creator>\r\n   </cc:Work>\r\n  </rdf:RDF>\r\n </metadata>\r\n <defs>\r\n  <style type=\"text/css\">*{stroke-linecap:butt;stroke-linejoin:round;}</style>\r\n </defs>\r\n <g id=\"figure_1\">\r\n  <g id=\"patch_1\">\r\n   <path d=\"M -0 297.190125 \r\nL 300.237 297.190125 \r\nL 300.237 0 \r\nL -0 0 \r\nz\r\n\" style=\"fill:#ffffff;\"/>\r\n  </g>\r\n  <g id=\"axes_1\">\r\n   <g id=\"patch_2\">\r\n    <path d=\"M 26.925 273.312 \r\nL 293.037 273.312 \r\nL 293.037 7.2 \r\nL 26.925 7.2 \r\nz\r\n\" style=\"fill:#ffffff;\"/>\r\n   </g>\r\n   <g clip-path=\"url(#p96cd5c2354)\">\r\n    <image height=\"266.4\" id=\"imagecc5dfe2fbf\" transform=\"scale(1 -1)translate(0 -266.4)\" width=\"266.4\" x=\"26.925\" xlink:href=\"data:image/png;base64,\r\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\" y=\"-6.912\"/>\r\n   </g>\r\n   <g id=\"matplotlib.axis_1\">\r\n    <g id=\"xtick_1\">\r\n     <g id=\"line2d_1\">\r\n      <defs>\r\n       <path d=\"M 0 0 \r\nL 0 3.5 \r\n\" id=\"m0ff43b6794\" style=\"stroke:#000000;stroke-width:0.8;\"/>\r\n      </defs>\r\n      <g>\r\n       <use style=\"stroke:#000000;stroke-width:0.8;\" x=\"31.677\" xlink:href=\"#m0ff43b6794\" y=\"273.312\"/>\r\n      </g>\r\n     </g>\r\n     <g id=\"text_1\">\r\n      <!-- 0 -->\r\n      <g transform=\"translate(28.49575 287.910437)scale(0.1 -0.1)\">\r\n       <defs>\r\n        <path d=\"M 2034 4250 \r\nQ 1547 4250 1301 3770 \r\nQ 1056 3291 1056 2328 \r\nQ 1056 1369 1301 889 \r\nQ 1547 409 2034 409 \r\nQ 2525 409 2770 889 \r\nQ 3016 1369 3016 2328 \r\nQ 3016 3291 2770 3770 \r\nQ 2525 4250 2034 4250 \r\nz\r\nM 2034 4750 \r\nQ 2819 4750 3233 4129 \r\nQ 3647 3509 3647 2328 \r\nQ 3647 1150 3233 529 \r\nQ 2819 -91 2034 -91 \r\nQ 1250 -91 836 529 \r\nQ 422 1150 422 2328 \r\nQ 422 3509 836 4129 \r\nQ 1250 4750 2034 4750 \r\nz\r\n\" id=\"DejaVuSans-30\" transform=\"scale(0.015625)\"/>\r\n       </defs>\r\n       <use xlink:href=\"#DejaVuSans-30\"/>\r\n      </g>\r\n     </g>\r\n    </g>\r\n    <g id=\"xtick_2\">\r\n     <g id=\"line2d_2\">\r\n      <g>\r\n       <use style=\"stroke:#000000;stroke-width:0.8;\" x=\"79.197\" xlink:href=\"#m0ff43b6794\" y=\"273.312\"/>\r\n      </g>\r\n     </g>\r\n     <g id=\"text_2\">\r\n      <!-- 5 -->\r\n      <g transform=\"translate(76.01575 287.910437)scale(0.1 -0.1)\">\r\n       <defs>\r\n        <path d=\"M 691 4666 \r\nL 3169 4666 \r\nL 3169 4134 \r\nL 1269 4134 \r\nL 1269 2991 \r\nQ 1406 3038 1543 3061 \r\nQ 1681 3084 1819 3084 \r\nQ 2600 3084 3056 2656 \r\nQ 3513 2228 3513 1497 \r\nQ 3513 744 3044 326 \r\nQ 2575 -91 1722 -91 \r\nQ 1428 -91 1123 -41 \r\nQ 819 9 494 109 \r\nL 494 744 \r\nQ 775 591 1075 516 \r\nQ 1375 441 1709 441 \r\nQ 2250 441 2565 725 \r\nQ 2881 1009 2881 1497 \r\nQ 2881 1984 2565 2268 \r\nQ 2250 2553 1709 2553 \r\nQ 1456 2553 1204 2497 \r\nQ 953 2441 691 2322 \r\nL 691 4666 \r\nz\r\n\" id=\"DejaVuSans-35\" transform=\"scale(0.015625)\"/>\r\n       </defs>\r\n       <use xlink:href=\"#DejaVuSans-35\"/>\r\n      </g>\r\n     </g>\r\n    </g>\r\n    <g id=\"xtick_3\">\r\n     <g id=\"line2d_3\">\r\n      <g>\r\n       <use style=\"stroke:#000000;stroke-width:0.8;\" x=\"126.717\" xlink:href=\"#m0ff43b6794\" y=\"273.312\"/>\r\n      </g>\r\n     </g>\r\n     <g id=\"text_3\">\r\n      <!-- 10 -->\r\n      <g transform=\"translate(120.3545 287.910437)scale(0.1 -0.1)\">\r\n       <defs>\r\n        <path d=\"M 794 531 \r\nL 1825 531 \r\nL 1825 4091 \r\nL 703 3866 \r\nL 703 4441 \r\nL 1819 4666 \r\nL 2450 4666 \r\nL 2450 531 \r\nL 3481 531 \r\nL 3481 0 \r\nL 794 0 \r\nL 794 531 \r\nz\r\n\" id=\"DejaVuSans-31\" transform=\"scale(0.015625)\"/>\r\n       </defs>\r\n       <use xlink:href=\"#DejaVuSans-31\"/>\r\n       <use x=\"63.623047\" xlink:href=\"#DejaVuSans-30\"/>\r\n      </g>\r\n     </g>\r\n    </g>\r\n    <g id=\"xtick_4\">\r\n     <g id=\"line2d_4\">\r\n      <g>\r\n       <use style=\"stroke:#000000;stroke-width:0.8;\" x=\"174.237\" xlink:href=\"#m0ff43b6794\" y=\"273.312\"/>\r\n      </g>\r\n     </g>\r\n     <g id=\"text_4\">\r\n      <!-- 15 -->\r\n      <g transform=\"translate(167.8745 287.910437)scale(0.1 -0.1)\">\r\n       <use xlink:href=\"#DejaVuSans-31\"/>\r\n       <use x=\"63.623047\" xlink:href=\"#DejaVuSans-35\"/>\r\n      </g>\r\n     </g>\r\n    </g>\r\n    <g id=\"xtick_5\">\r\n     <g id=\"line2d_5\">\r\n      <g>\r\n       <use style=\"stroke:#000000;stroke-width:0.8;\" x=\"221.757\" xlink:href=\"#m0ff43b6794\" y=\"273.312\"/>\r\n      </g>\r\n     </g>\r\n     <g id=\"text_5\">\r\n      <!-- 20 -->\r\n      <g transform=\"translate(215.3945 287.910437)scale(0.1 -0.1)\">\r\n       <defs>\r\n        <path d=\"M 1228 531 \r\nL 3431 531 \r\nL 3431 0 \r\nL 469 0 \r\nL 469 531 \r\nQ 828 903 1448 1529 \r\nQ 2069 2156 2228 2338 \r\nQ 2531 2678 2651 2914 \r\nQ 2772 3150 2772 3378 \r\nQ 2772 3750 2511 3984 \r\nQ 2250 4219 1831 4219 \r\nQ 1534 4219 1204 4116 \r\nQ 875 4013 500 3803 \r\nL 500 4441 \r\nQ 881 4594 1212 4672 \r\nQ 1544 4750 1819 4750 \r\nQ 2544 4750 2975 4387 \r\nQ 3406 4025 3406 3419 \r\nQ 3406 3131 3298 2873 \r\nQ 3191 2616 2906 2266 \r\nQ 2828 2175 2409 1742 \r\nQ 1991 1309 1228 531 \r\nz\r\n\" id=\"DejaVuSans-32\" transform=\"scale(0.015625)\"/>\r\n       </defs>\r\n       <use xlink:href=\"#DejaVuSans-32\"/>\r\n       <use x=\"63.623047\" xlink:href=\"#DejaVuSans-30\"/>\r\n      </g>\r\n     </g>\r\n    </g>\r\n    <g id=\"xtick_6\">\r\n     <g id=\"line2d_6\">\r\n      <g>\r\n       <use style=\"stroke:#000000;stroke-width:0.8;\" x=\"269.277\" xlink:href=\"#m0ff43b6794\" y=\"273.312\"/>\r\n      </g>\r\n     </g>\r\n     <g id=\"text_6\">\r\n      <!-- 25 -->\r\n      <g transform=\"translate(262.9145 287.910437)scale(0.1 -0.1)\">\r\n       <use xlink:href=\"#DejaVuSans-32\"/>\r\n       <use x=\"63.623047\" xlink:href=\"#DejaVuSans-35\"/>\r\n      </g>\r\n     </g>\r\n    </g>\r\n   </g>\r\n   <g id=\"matplotlib.axis_2\">\r\n    <g id=\"ytick_1\">\r\n     <g id=\"line2d_7\">\r\n      <defs>\r\n       <path d=\"M 0 0 \r\nL -3.5 0 \r\n\" id=\"mfa9a410681\" style=\"stroke:#000000;stroke-width:0.8;\"/>\r\n      </defs>\r\n      <g>\r\n       <use style=\"stroke:#000000;stroke-width:0.8;\" x=\"26.925\" xlink:href=\"#mfa9a410681\" y=\"11.952\"/>\r\n      </g>\r\n     </g>\r\n     <g id=\"text_7\">\r\n      <!-- 0 -->\r\n      <g transform=\"translate(13.5625 15.751219)scale(0.1 -0.1)\">\r\n       <use xlink:href=\"#DejaVuSans-30\"/>\r\n      </g>\r\n     </g>\r\n    </g>\r\n    <g id=\"ytick_2\">\r\n     <g id=\"line2d_8\">\r\n      <g>\r\n       <use style=\"stroke:#000000;stroke-width:0.8;\" x=\"26.925\" xlink:href=\"#mfa9a410681\" y=\"59.472\"/>\r\n      </g>\r\n     </g>\r\n     <g id=\"text_8\">\r\n      <!-- 5 -->\r\n      <g transform=\"translate(13.5625 63.271219)scale(0.1 -0.1)\">\r\n       <use xlink:href=\"#DejaVuSans-35\"/>\r\n      </g>\r\n     </g>\r\n    </g>\r\n    <g id=\"ytick_3\">\r\n     <g id=\"line2d_9\">\r\n      <g>\r\n       <use style=\"stroke:#000000;stroke-width:0.8;\" x=\"26.925\" xlink:href=\"#mfa9a410681\" y=\"106.992\"/>\r\n      </g>\r\n     </g>\r\n     <g id=\"text_9\">\r\n      <!-- 10 -->\r\n      <g transform=\"translate(7.2 110.791219)scale(0.1 -0.1)\">\r\n       <use xlink:href=\"#DejaVuSans-31\"/>\r\n       <use x=\"63.623047\" xlink:href=\"#DejaVuSans-30\"/>\r\n      </g>\r\n     </g>\r\n    </g>\r\n    <g id=\"ytick_4\">\r\n     <g id=\"line2d_10\">\r\n      <g>\r\n       <use style=\"stroke:#000000;stroke-width:0.8;\" x=\"26.925\" xlink:href=\"#mfa9a410681\" y=\"154.512\"/>\r\n      </g>\r\n     </g>\r\n     <g id=\"text_10\">\r\n      <!-- 15 -->\r\n      <g transform=\"translate(7.2 158.311219)scale(0.1 -0.1)\">\r\n       <use xlink:href=\"#DejaVuSans-31\"/>\r\n       <use x=\"63.623047\" xlink:href=\"#DejaVuSans-35\"/>\r\n      </g>\r\n     </g>\r\n    </g>\r\n    <g id=\"ytick_5\">\r\n     <g id=\"line2d_11\">\r\n      <g>\r\n       <use style=\"stroke:#000000;stroke-width:0.8;\" x=\"26.925\" xlink:href=\"#mfa9a410681\" y=\"202.032\"/>\r\n      </g>\r\n     </g>\r\n     <g id=\"text_11\">\r\n      <!-- 20 -->\r\n      <g transform=\"translate(7.2 205.831219)scale(0.1 -0.1)\">\r\n       <use xlink:href=\"#DejaVuSans-32\"/>\r\n       <use x=\"63.623047\" xlink:href=\"#DejaVuSans-30\"/>\r\n      </g>\r\n     </g>\r\n    </g>\r\n    <g id=\"ytick_6\">\r\n     <g id=\"line2d_12\">\r\n      <g>\r\n       <use style=\"stroke:#000000;stroke-width:0.8;\" x=\"26.925\" xlink:href=\"#mfa9a410681\" y=\"249.552\"/>\r\n      </g>\r\n     </g>\r\n     <g id=\"text_12\">\r\n      <!-- 25 -->\r\n      <g transform=\"translate(7.2 253.351219)scale(0.1 -0.1)\">\r\n       <use xlink:href=\"#DejaVuSans-32\"/>\r\n       <use x=\"63.623047\" xlink:href=\"#DejaVuSans-35\"/>\r\n      </g>\r\n     </g>\r\n    </g>\r\n   </g>\r\n   <g id=\"patch_3\">\r\n    <path d=\"M 26.925 273.312 \r\nL 26.925 7.2 \r\n\" style=\"fill:none;stroke:#000000;stroke-linecap:square;stroke-linejoin:miter;stroke-width:0.8;\"/>\r\n   </g>\r\n   <g id=\"patch_4\">\r\n    <path d=\"M 293.037 273.312 \r\nL 293.037 7.2 \r\n\" style=\"fill:none;stroke:#000000;stroke-linecap:square;stroke-linejoin:miter;stroke-width:0.8;\"/>\r\n   </g>\r\n   <g id=\"patch_5\">\r\n    <path d=\"M 26.925 273.312 \r\nL 293.037 273.312 \r\n\" style=\"fill:none;stroke:#000000;stroke-linecap:square;stroke-linejoin:miter;stroke-width:0.8;\"/>\r\n   </g>\r\n   <g id=\"patch_6\">\r\n    <path d=\"M 26.925 7.2 \r\nL 293.037 7.2 \r\n\" style=\"fill:none;stroke:#000000;stroke-linecap:square;stroke-linejoin:miter;stroke-width:0.8;\"/>\r\n   </g>\r\n  </g>\r\n </g>\r\n <defs>\r\n  <clipPath id=\"p96cd5c2354\">\r\n   <rect height=\"266.112\" width=\"266.112\" x=\"26.925\" y=\"7.2\"/>\r\n  </clipPath>\r\n </defs>\r\n</svg>\r\n",
      "image/png": "[encoded data removed]"
     },
     "metadata": {}
    }
   ],
   "metadata": {}
  },
  {
   "cell_type": "code",
   "execution_count": 89,
   "source": [
    "plt.imshow(x_test[0].reshape(28,28))\r\n",
    "plt.title(str(result[0]))\r\n",
    "plt.show()"
   ],
   "outputs": [
    {
     "output_type": "display_data",
     "data": {
      "text/plain": [
       "<Figure size 640x480 with 1 Axes>"
      ],
      "image/svg+xml": "<?xml version=\"1.0\" encoding=\"utf-8\" standalone=\"no\"?>\r\n<!DOCTYPE svg PUBLIC \"-//W3C//DTD SVG 1.1//EN\"\r\n  \"http://www.w3.org/Graphics/SVG/1.1/DTD/svg11.dtd\">\r\n<svg height=\"325.745625pt\" version=\"1.1\" viewBox=\"0 0 503.26125 325.745625\" width=\"503.26125pt\" xmlns=\"http://www.w3.org/2000/svg\" xmlns:xlink=\"http://www.w3.org/1999/xlink\">\r\n <metadata>\r\n  <rdf:RDF xmlns:cc=\"http://creativecommons.org/ns#\" xmlns:dc=\"http://purl.org/dc/elements/1.1/\" xmlns:rdf=\"http://www.w3.org/1999/02/22-rdf-syntax-ns#\">\r\n   <cc:Work>\r\n    <dc:type rdf:resource=\"http://purl.org/dc/dcmitype/StillImage\"/>\r\n    <dc:date>2021-08-25T13:20:21.582875</dc:date>\r\n    <dc:format>image/svg+xml</dc:format>\r\n    <dc:creator>\r\n     <cc:Agent>\r\n      <dc:title>Matplotlib v3.4.2, https://matplotlib.org/</dc:title>\r\n     </cc:Agent>\r\n    </dc:creator>\r\n   </cc:Work>\r\n  </rdf:RDF>\r\n </metadata>\r\n <defs>\r\n  <style type=\"text/css\">*{stroke-linecap:butt;stroke-linejoin:round;}</style>\r\n </defs>\r\n <g id=\"figure_1\">\r\n  <g id=\"patch_1\">\r\n   <path d=\"M 0 325.745625 \r\nL 503.26125 325.745625 \r\nL 503.26125 0 \r\nL 0 0 \r\nz\r\n\" style=\"fill:#ffffff;\"/>\r\n  </g>\r\n  <g id=\"axes_1\">\r\n   <g id=\"patch_2\">\r\n    <path d=\"M 118.574625 301.8675 \r\nL 384.686625 301.8675 \r\nL 384.686625 35.7555 \r\nL 118.574625 35.7555 \r\nz\r\n\" style=\"fill:#ffffff;\"/>\r\n   </g>\r\n   <g clip-path=\"url(#p1c86036621)\">\r\n    <image height=\"266.4\" id=\"image01c075cca4\" transform=\"scale(1 -1)translate(0 -266.4)\" width=\"266.4\" x=\"118.574625\" xlink:href=\"data:image/png;base64,\r\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\" y=\"-35.4675\"/>\r\n   </g>\r\n   <g id=\"matplotlib.axis_1\">\r\n    <g id=\"xtick_1\">\r\n     <g id=\"line2d_1\">\r\n      <defs>\r\n       <path d=\"M 0 0 \r\nL 0 3.5 \r\n\" id=\"m39e52ba1e9\" style=\"stroke:#000000;stroke-width:0.8;\"/>\r\n      </defs>\r\n      <g>\r\n       <use style=\"stroke:#000000;stroke-width:0.8;\" x=\"123.326625\" xlink:href=\"#m39e52ba1e9\" y=\"301.8675\"/>\r\n      </g>\r\n     </g>\r\n     <g id=\"text_1\">\r\n      <!-- 0 -->\r\n      <g transform=\"translate(120.145375 316.465937)scale(0.1 -0.1)\">\r\n       <defs>\r\n        <path d=\"M 2034 4250 \r\nQ 1547 4250 1301 3770 \r\nQ 1056 3291 1056 2328 \r\nQ 1056 1369 1301 889 \r\nQ 1547 409 2034 409 \r\nQ 2525 409 2770 889 \r\nQ 3016 1369 3016 2328 \r\nQ 3016 3291 2770 3770 \r\nQ 2525 4250 2034 4250 \r\nz\r\nM 2034 4750 \r\nQ 2819 4750 3233 4129 \r\nQ 3647 3509 3647 2328 \r\nQ 3647 1150 3233 529 \r\nQ 2819 -91 2034 -91 \r\nQ 1250 -91 836 529 \r\nQ 422 1150 422 2328 \r\nQ 422 3509 836 4129 \r\nQ 1250 4750 2034 4750 \r\nz\r\n\" id=\"DejaVuSans-30\" transform=\"scale(0.015625)\"/>\r\n       </defs>\r\n       <use xlink:href=\"#DejaVuSans-30\"/>\r\n      </g>\r\n     </g>\r\n    </g>\r\n    <g id=\"xtick_2\">\r\n     <g id=\"line2d_2\">\r\n      <g>\r\n       <use style=\"stroke:#000000;stroke-width:0.8;\" x=\"170.846625\" xlink:href=\"#m39e52ba1e9\" y=\"301.8675\"/>\r\n      </g>\r\n     </g>\r\n     <g id=\"text_2\">\r\n      <!-- 5 -->\r\n      <g transform=\"translate(167.665375 316.465937)scale(0.1 -0.1)\">\r\n       <defs>\r\n        <path d=\"M 691 4666 \r\nL 3169 4666 \r\nL 3169 4134 \r\nL 1269 4134 \r\nL 1269 2991 \r\nQ 1406 3038 1543 3061 \r\nQ 1681 3084 1819 3084 \r\nQ 2600 3084 3056 2656 \r\nQ 3513 2228 3513 1497 \r\nQ 3513 744 3044 326 \r\nQ 2575 -91 1722 -91 \r\nQ 1428 -91 1123 -41 \r\nQ 819 9 494 109 \r\nL 494 744 \r\nQ 775 591 1075 516 \r\nQ 1375 441 1709 441 \r\nQ 2250 441 2565 725 \r\nQ 2881 1009 2881 1497 \r\nQ 2881 1984 2565 2268 \r\nQ 2250 2553 1709 2553 \r\nQ 1456 2553 1204 2497 \r\nQ 953 2441 691 2322 \r\nL 691 4666 \r\nz\r\n\" id=\"DejaVuSans-35\" transform=\"scale(0.015625)\"/>\r\n       </defs>\r\n       <use xlink:href=\"#DejaVuSans-35\"/>\r\n      </g>\r\n     </g>\r\n    </g>\r\n    <g id=\"xtick_3\">\r\n     <g id=\"line2d_3\">\r\n      <g>\r\n       <use style=\"stroke:#000000;stroke-width:0.8;\" x=\"218.366625\" xlink:href=\"#m39e52ba1e9\" y=\"301.8675\"/>\r\n      </g>\r\n     </g>\r\n     <g id=\"text_3\">\r\n      <!-- 10 -->\r\n      <g transform=\"translate(212.004125 316.465937)scale(0.1 -0.1)\">\r\n       <defs>\r\n        <path d=\"M 794 531 \r\nL 1825 531 \r\nL 1825 4091 \r\nL 703 3866 \r\nL 703 4441 \r\nL 1819 4666 \r\nL 2450 4666 \r\nL 2450 531 \r\nL 3481 531 \r\nL 3481 0 \r\nL 794 0 \r\nL 794 531 \r\nz\r\n\" id=\"DejaVuSans-31\" transform=\"scale(0.015625)\"/>\r\n       </defs>\r\n       <use xlink:href=\"#DejaVuSans-31\"/>\r\n       <use x=\"63.623047\" xlink:href=\"#DejaVuSans-30\"/>\r\n      </g>\r\n     </g>\r\n    </g>\r\n    <g id=\"xtick_4\">\r\n     <g id=\"line2d_4\">\r\n      <g>\r\n       <use style=\"stroke:#000000;stroke-width:0.8;\" x=\"265.886625\" xlink:href=\"#m39e52ba1e9\" y=\"301.8675\"/>\r\n      </g>\r\n     </g>\r\n     <g id=\"text_4\">\r\n      <!-- 15 -->\r\n      <g transform=\"translate(259.524125 316.465937)scale(0.1 -0.1)\">\r\n       <use xlink:href=\"#DejaVuSans-31\"/>\r\n       <use x=\"63.623047\" xlink:href=\"#DejaVuSans-35\"/>\r\n      </g>\r\n     </g>\r\n    </g>\r\n    <g id=\"xtick_5\">\r\n     <g id=\"line2d_5\">\r\n      <g>\r\n       <use style=\"stroke:#000000;stroke-width:0.8;\" x=\"313.406625\" xlink:href=\"#m39e52ba1e9\" y=\"301.8675\"/>\r\n      </g>\r\n     </g>\r\n     <g id=\"text_5\">\r\n      <!-- 20 -->\r\n      <g transform=\"translate(307.044125 316.465937)scale(0.1 -0.1)\">\r\n       <defs>\r\n        <path d=\"M 1228 531 \r\nL 3431 531 \r\nL 3431 0 \r\nL 469 0 \r\nL 469 531 \r\nQ 828 903 1448 1529 \r\nQ 2069 2156 2228 2338 \r\nQ 2531 2678 2651 2914 \r\nQ 2772 3150 2772 3378 \r\nQ 2772 3750 2511 3984 \r\nQ 2250 4219 1831 4219 \r\nQ 1534 4219 1204 4116 \r\nQ 875 4013 500 3803 \r\nL 500 4441 \r\nQ 881 4594 1212 4672 \r\nQ 1544 4750 1819 4750 \r\nQ 2544 4750 2975 4387 \r\nQ 3406 4025 3406 3419 \r\nQ 3406 3131 3298 2873 \r\nQ 3191 2616 2906 2266 \r\nQ 2828 2175 2409 1742 \r\nQ 1991 1309 1228 531 \r\nz\r\n\" id=\"DejaVuSans-32\" transform=\"scale(0.015625)\"/>\r\n       </defs>\r\n       <use xlink:href=\"#DejaVuSans-32\"/>\r\n       <use x=\"63.623047\" xlink:href=\"#DejaVuSans-30\"/>\r\n      </g>\r\n     </g>\r\n    </g>\r\n    <g id=\"xtick_6\">\r\n     <g id=\"line2d_6\">\r\n      <g>\r\n       <use style=\"stroke:#000000;stroke-width:0.8;\" x=\"360.926625\" xlink:href=\"#m39e52ba1e9\" y=\"301.8675\"/>\r\n      </g>\r\n     </g>\r\n     <g id=\"text_6\">\r\n      <!-- 25 -->\r\n      <g transform=\"translate(354.564125 316.465937)scale(0.1 -0.1)\">\r\n       <use xlink:href=\"#DejaVuSans-32\"/>\r\n       <use x=\"63.623047\" xlink:href=\"#DejaVuSans-35\"/>\r\n      </g>\r\n     </g>\r\n    </g>\r\n   </g>\r\n   <g id=\"matplotlib.axis_2\">\r\n    <g id=\"ytick_1\">\r\n     <g id=\"line2d_7\">\r\n      <defs>\r\n       <path d=\"M 0 0 \r\nL -3.5 0 \r\n\" id=\"m819ed64671\" style=\"stroke:#000000;stroke-width:0.8;\"/>\r\n      </defs>\r\n      <g>\r\n       <use style=\"stroke:#000000;stroke-width:0.8;\" x=\"118.574625\" xlink:href=\"#m819ed64671\" y=\"40.5075\"/>\r\n      </g>\r\n     </g>\r\n     <g id=\"text_7\">\r\n      <!-- 0 -->\r\n      <g transform=\"translate(105.212125 44.306719)scale(0.1 -0.1)\">\r\n       <use xlink:href=\"#DejaVuSans-30\"/>\r\n      </g>\r\n     </g>\r\n    </g>\r\n    <g id=\"ytick_2\">\r\n     <g id=\"line2d_8\">\r\n      <g>\r\n       <use style=\"stroke:#000000;stroke-width:0.8;\" x=\"118.574625\" xlink:href=\"#m819ed64671\" y=\"88.0275\"/>\r\n      </g>\r\n     </g>\r\n     <g id=\"text_8\">\r\n      <!-- 5 -->\r\n      <g transform=\"translate(105.212125 91.826719)scale(0.1 -0.1)\">\r\n       <use xlink:href=\"#DejaVuSans-35\"/>\r\n      </g>\r\n     </g>\r\n    </g>\r\n    <g id=\"ytick_3\">\r\n     <g id=\"line2d_9\">\r\n      <g>\r\n       <use style=\"stroke:#000000;stroke-width:0.8;\" x=\"118.574625\" xlink:href=\"#m819ed64671\" y=\"135.5475\"/>\r\n      </g>\r\n     </g>\r\n     <g id=\"text_9\">\r\n      <!-- 10 -->\r\n      <g transform=\"translate(98.849625 139.346719)scale(0.1 -0.1)\">\r\n       <use xlink:href=\"#DejaVuSans-31\"/>\r\n       <use x=\"63.623047\" xlink:href=\"#DejaVuSans-30\"/>\r\n      </g>\r\n     </g>\r\n    </g>\r\n    <g id=\"ytick_4\">\r\n     <g id=\"line2d_10\">\r\n      <g>\r\n       <use style=\"stroke:#000000;stroke-width:0.8;\" x=\"118.574625\" xlink:href=\"#m819ed64671\" y=\"183.0675\"/>\r\n      </g>\r\n     </g>\r\n     <g id=\"text_10\">\r\n      <!-- 15 -->\r\n      <g transform=\"translate(98.849625 186.866719)scale(0.1 -0.1)\">\r\n       <use xlink:href=\"#DejaVuSans-31\"/>\r\n       <use x=\"63.623047\" xlink:href=\"#DejaVuSans-35\"/>\r\n      </g>\r\n     </g>\r\n    </g>\r\n    <g id=\"ytick_5\">\r\n     <g id=\"line2d_11\">\r\n      <g>\r\n       <use style=\"stroke:#000000;stroke-width:0.8;\" x=\"118.574625\" xlink:href=\"#m819ed64671\" y=\"230.5875\"/>\r\n      </g>\r\n     </g>\r\n     <g id=\"text_11\">\r\n      <!-- 20 -->\r\n      <g transform=\"translate(98.849625 234.386719)scale(0.1 -0.1)\">\r\n       <use xlink:href=\"#DejaVuSans-32\"/>\r\n       <use x=\"63.623047\" xlink:href=\"#DejaVuSans-30\"/>\r\n      </g>\r\n     </g>\r\n    </g>\r\n    <g id=\"ytick_6\">\r\n     <g id=\"line2d_12\">\r\n      <g>\r\n       <use style=\"stroke:#000000;stroke-width:0.8;\" x=\"118.574625\" xlink:href=\"#m819ed64671\" y=\"278.1075\"/>\r\n      </g>\r\n     </g>\r\n     <g id=\"text_12\">\r\n      <!-- 25 -->\r\n      <g transform=\"translate(98.849625 281.906719)scale(0.1 -0.1)\">\r\n       <use xlink:href=\"#DejaVuSans-32\"/>\r\n       <use x=\"63.623047\" xlink:href=\"#DejaVuSans-35\"/>\r\n      </g>\r\n     </g>\r\n    </g>\r\n   </g>\r\n   <g id=\"patch_3\">\r\n    <path d=\"M 118.574625 301.8675 \r\nL 118.574625 35.7555 \r\n\" style=\"fill:none;stroke:#000000;stroke-linecap:square;stroke-linejoin:miter;stroke-width:0.8;\"/>\r\n   </g>\r\n   <g id=\"patch_4\">\r\n    <path d=\"M 384.686625 301.8675 \r\nL 384.686625 35.7555 \r\n\" style=\"fill:none;stroke:#000000;stroke-linecap:square;stroke-linejoin:miter;stroke-width:0.8;\"/>\r\n   </g>\r\n   <g id=\"patch_5\">\r\n    <path d=\"M 118.574625 301.8675 \r\nL 384.686625 301.8675 \r\n\" style=\"fill:none;stroke:#000000;stroke-linecap:square;stroke-linejoin:miter;stroke-width:0.8;\"/>\r\n   </g>\r\n   <g id=\"patch_6\">\r\n    <path d=\"M 118.574625 35.7555 \r\nL 384.686625 35.7555 \r\n\" style=\"fill:none;stroke:#000000;stroke-linecap:square;stroke-linejoin:miter;stroke-width:0.8;\"/>\r\n   </g>\r\n   <g id=\"text_13\">\r\n    <!-- [2.7663086e-14 8.5450726e-12 4.5523741e-13 6.0211929e-09 5.1791944e-15 -->\r\n    <g transform=\"translate(11.97 16.318125)scale(0.12 -0.12)\">\r\n     <defs>\r\n      <path d=\"M 550 4863 \r\nL 1875 4863 \r\nL 1875 4416 \r\nL 1125 4416 \r\nL 1125 -397 \r\nL 1875 -397 \r\nL 1875 -844 \r\nL 550 -844 \r\nL 550 4863 \r\nz\r\n\" id=\"DejaVuSans-5b\" transform=\"scale(0.015625)\"/>\r\n      <path d=\"M 684 794 \r\nL 1344 794 \r\nL 1344 0 \r\nL 684 0 \r\nL 684 794 \r\nz\r\n\" id=\"DejaVuSans-2e\" transform=\"scale(0.015625)\"/>\r\n      <path d=\"M 525 4666 \r\nL 3525 4666 \r\nL 3525 4397 \r\nL 1831 0 \r\nL 1172 0 \r\nL 2766 4134 \r\nL 525 4134 \r\nL 525 4666 \r\nz\r\n\" id=\"DejaVuSans-37\" transform=\"scale(0.015625)\"/>\r\n      <path d=\"M 2113 2584 \r\nQ 1688 2584 1439 2293 \r\nQ 1191 2003 1191 1497 \r\nQ 1191 994 1439 701 \r\nQ 1688 409 2113 409 \r\nQ 2538 409 2786 701 \r\nQ 3034 994 3034 1497 \r\nQ 3034 2003 2786 2293 \r\nQ 2538 2584 2113 2584 \r\nz\r\nM 3366 4563 \r\nL 3366 3988 \r\nQ 3128 4100 2886 4159 \r\nQ 2644 4219 2406 4219 \r\nQ 1781 4219 1451 3797 \r\nQ 1122 3375 1075 2522 \r\nQ 1259 2794 1537 2939 \r\nQ 1816 3084 2150 3084 \r\nQ 2853 3084 3261 2657 \r\nQ 3669 2231 3669 1497 \r\nQ 3669 778 3244 343 \r\nQ 2819 -91 2113 -91 \r\nQ 1303 -91 875 529 \r\nQ 447 1150 447 2328 \r\nQ 447 3434 972 4092 \r\nQ 1497 4750 2381 4750 \r\nQ 2619 4750 2861 4703 \r\nQ 3103 4656 3366 4563 \r\nz\r\n\" id=\"DejaVuSans-36\" transform=\"scale(0.015625)\"/>\r\n      <path d=\"M 2597 2516 \r\nQ 3050 2419 3304 2112 \r\nQ 3559 1806 3559 1356 \r\nQ 3559 666 3084 287 \r\nQ 2609 -91 1734 -91 \r\nQ 1441 -91 1130 -33 \r\nQ 819 25 488 141 \r\nL 488 750 \r\nQ 750 597 1062 519 \r\nQ 1375 441 1716 441 \r\nQ 2309 441 2620 675 \r\nQ 2931 909 2931 1356 \r\nQ 2931 1769 2642 2001 \r\nQ 2353 2234 1838 2234 \r\nL 1294 2234 \r\nL 1294 2753 \r\nL 1863 2753 \r\nQ 2328 2753 2575 2939 \r\nQ 2822 3125 2822 3475 \r\nQ 2822 3834 2567 4026 \r\nQ 2313 4219 1838 4219 \r\nQ 1578 4219 1281 4162 \r\nQ 984 4106 628 3988 \r\nL 628 4550 \r\nQ 988 4650 1302 4700 \r\nQ 1616 4750 1894 4750 \r\nQ 2613 4750 3031 4423 \r\nQ 3450 4097 3450 3541 \r\nQ 3450 3153 3228 2886 \r\nQ 3006 2619 2597 2516 \r\nz\r\n\" id=\"DejaVuSans-33\" transform=\"scale(0.015625)\"/>\r\n      <path d=\"M 2034 2216 \r\nQ 1584 2216 1326 1975 \r\nQ 1069 1734 1069 1313 \r\nQ 1069 891 1326 650 \r\nQ 1584 409 2034 409 \r\nQ 2484 409 2743 651 \r\nQ 3003 894 3003 1313 \r\nQ 3003 1734 2745 1975 \r\nQ 2488 2216 2034 2216 \r\nz\r\nM 1403 2484 \r\nQ 997 2584 770 2862 \r\nQ 544 3141 544 3541 \r\nQ 544 4100 942 4425 \r\nQ 1341 4750 2034 4750 \r\nQ 2731 4750 3128 4425 \r\nQ 3525 4100 3525 3541 \r\nQ 3525 3141 3298 2862 \r\nQ 3072 2584 2669 2484 \r\nQ 3125 2378 3379 2068 \r\nQ 3634 1759 3634 1313 \r\nQ 3634 634 3220 271 \r\nQ 2806 -91 2034 -91 \r\nQ 1263 -91 848 271 \r\nQ 434 634 434 1313 \r\nQ 434 1759 690 2068 \r\nQ 947 2378 1403 2484 \r\nz\r\nM 1172 3481 \r\nQ 1172 3119 1398 2916 \r\nQ 1625 2713 2034 2713 \r\nQ 2441 2713 2670 2916 \r\nQ 2900 3119 2900 3481 \r\nQ 2900 3844 2670 4047 \r\nQ 2441 4250 2034 4250 \r\nQ 1625 4250 1398 4047 \r\nQ 1172 3844 1172 3481 \r\nz\r\n\" id=\"DejaVuSans-38\" transform=\"scale(0.015625)\"/>\r\n      <path d=\"M 3597 1894 \r\nL 3597 1613 \r\nL 953 1613 \r\nQ 991 1019 1311 708 \r\nQ 1631 397 2203 397 \r\nQ 2534 397 2845 478 \r\nQ 3156 559 3463 722 \r\nL 3463 178 \r\nQ 3153 47 2828 -22 \r\nQ 2503 -91 2169 -91 \r\nQ 1331 -91 842 396 \r\nQ 353 884 353 1716 \r\nQ 353 2575 817 3079 \r\nQ 1281 3584 2069 3584 \r\nQ 2775 3584 3186 3129 \r\nQ 3597 2675 3597 1894 \r\nz\r\nM 3022 2063 \r\nQ 3016 2534 2758 2815 \r\nQ 2500 3097 2075 3097 \r\nQ 1594 3097 1305 2825 \r\nQ 1016 2553 972 2059 \r\nL 3022 2063 \r\nz\r\n\" id=\"DejaVuSans-65\" transform=\"scale(0.015625)\"/>\r\n      <path d=\"M 313 2009 \r\nL 1997 2009 \r\nL 1997 1497 \r\nL 313 1497 \r\nL 313 2009 \r\nz\r\n\" id=\"DejaVuSans-2d\" transform=\"scale(0.015625)\"/>\r\n      <path d=\"M 2419 4116 \r\nL 825 1625 \r\nL 2419 1625 \r\nL 2419 4116 \r\nz\r\nM 2253 4666 \r\nL 3047 4666 \r\nL 3047 1625 \r\nL 3713 1625 \r\nL 3713 1100 \r\nL 3047 1100 \r\nL 3047 0 \r\nL 2419 0 \r\nL 2419 1100 \r\nL 313 1100 \r\nL 313 1709 \r\nL 2253 4666 \r\nz\r\n\" id=\"DejaVuSans-34\" transform=\"scale(0.015625)\"/>\r\n      <path id=\"DejaVuSans-20\" transform=\"scale(0.015625)\"/>\r\n      <path d=\"M 703 97 \r\nL 703 672 \r\nQ 941 559 1184 500 \r\nQ 1428 441 1663 441 \r\nQ 2288 441 2617 861 \r\nQ 2947 1281 2994 2138 \r\nQ 2813 1869 2534 1725 \r\nQ 2256 1581 1919 1581 \r\nQ 1219 1581 811 2004 \r\nQ 403 2428 403 3163 \r\nQ 403 3881 828 4315 \r\nQ 1253 4750 1959 4750 \r\nQ 2769 4750 3195 4129 \r\nQ 3622 3509 3622 2328 \r\nQ 3622 1225 3098 567 \r\nQ 2575 -91 1691 -91 \r\nQ 1453 -91 1209 -44 \r\nQ 966 3 703 97 \r\nz\r\nM 1959 2075 \r\nQ 2384 2075 2632 2365 \r\nQ 2881 2656 2881 3163 \r\nQ 2881 3666 2632 3958 \r\nQ 2384 4250 1959 4250 \r\nQ 1534 4250 1286 3958 \r\nQ 1038 3666 1038 3163 \r\nQ 1038 2656 1286 2365 \r\nQ 1534 2075 1959 2075 \r\nz\r\n\" id=\"DejaVuSans-39\" transform=\"scale(0.015625)\"/>\r\n     </defs>\r\n     <use xlink:href=\"#DejaVuSans-5b\"/>\r\n     <use x=\"39.013672\" xlink:href=\"#DejaVuSans-32\"/>\r\n     <use x=\"102.636719\" xlink:href=\"#DejaVuSans-2e\"/>\r\n     <use x=\"134.423828\" xlink:href=\"#DejaVuSans-37\"/>\r\n     <use x=\"198.046875\" xlink:href=\"#DejaVuSans-36\"/>\r\n     <use x=\"261.669922\" xlink:href=\"#DejaVuSans-36\"/>\r\n     <use x=\"325.292969\" xlink:href=\"#DejaVuSans-33\"/>\r\n     <use x=\"388.916016\" xlink:href=\"#DejaVuSans-30\"/>\r\n     <use x=\"452.539062\" xlink:href=\"#DejaVuSans-38\"/>\r\n     <use x=\"516.162109\" xlink:href=\"#DejaVuSans-36\"/>\r\n     <use x=\"579.785156\" xlink:href=\"#DejaVuSans-65\"/>\r\n     <use x=\"641.308594\" xlink:href=\"#DejaVuSans-2d\"/>\r\n     <use x=\"677.392578\" xlink:href=\"#DejaVuSans-31\"/>\r\n     <use x=\"741.015625\" xlink:href=\"#DejaVuSans-34\"/>\r\n     <use x=\"804.638672\" xlink:href=\"#DejaVuSans-20\"/>\r\n     <use x=\"836.425781\" xlink:href=\"#DejaVuSans-38\"/>\r\n     <use x=\"900.048828\" xlink:href=\"#DejaVuSans-2e\"/>\r\n     <use x=\"931.835938\" xlink:href=\"#DejaVuSans-35\"/>\r\n     <use x=\"995.458984\" xlink:href=\"#DejaVuSans-34\"/>\r\n     <use x=\"1059.082031\" xlink:href=\"#DejaVuSans-35\"/>\r\n     <use x=\"1122.705078\" xlink:href=\"#DejaVuSans-30\"/>\r\n     <use x=\"1186.328125\" xlink:href=\"#DejaVuSans-37\"/>\r\n     <use x=\"1249.951172\" xlink:href=\"#DejaVuSans-32\"/>\r\n     <use x=\"1313.574219\" xlink:href=\"#DejaVuSans-36\"/>\r\n     <use x=\"1377.197266\" xlink:href=\"#DejaVuSans-65\"/>\r\n     <use x=\"1438.720703\" xlink:href=\"#DejaVuSans-2d\"/>\r\n     <use x=\"1474.804688\" xlink:href=\"#DejaVuSans-31\"/>\r\n     <use x=\"1538.427734\" xlink:href=\"#DejaVuSans-32\"/>\r\n     <use x=\"1602.050781\" xlink:href=\"#DejaVuSans-20\"/>\r\n     <use x=\"1633.837891\" xlink:href=\"#DejaVuSans-34\"/>\r\n     <use x=\"1697.460938\" xlink:href=\"#DejaVuSans-2e\"/>\r\n     <use x=\"1729.248047\" xlink:href=\"#DejaVuSans-35\"/>\r\n     <use x=\"1792.871094\" xlink:href=\"#DejaVuSans-35\"/>\r\n     <use x=\"1856.494141\" xlink:href=\"#DejaVuSans-32\"/>\r\n     <use x=\"1920.117188\" xlink:href=\"#DejaVuSans-33\"/>\r\n     <use x=\"1983.740234\" xlink:href=\"#DejaVuSans-37\"/>\r\n     <use x=\"2047.363281\" xlink:href=\"#DejaVuSans-34\"/>\r\n     <use x=\"2110.986328\" xlink:href=\"#DejaVuSans-31\"/>\r\n     <use x=\"2174.609375\" xlink:href=\"#DejaVuSans-65\"/>\r\n     <use x=\"2236.132812\" xlink:href=\"#DejaVuSans-2d\"/>\r\n     <use x=\"2272.216797\" xlink:href=\"#DejaVuSans-31\"/>\r\n     <use x=\"2335.839844\" xlink:href=\"#DejaVuSans-33\"/>\r\n     <use x=\"2399.462891\" xlink:href=\"#DejaVuSans-20\"/>\r\n     <use x=\"2431.25\" xlink:href=\"#DejaVuSans-36\"/>\r\n     <use x=\"2494.873047\" xlink:href=\"#DejaVuSans-2e\"/>\r\n     <use x=\"2526.660156\" xlink:href=\"#DejaVuSans-30\"/>\r\n     <use x=\"2590.283203\" xlink:href=\"#DejaVuSans-32\"/>\r\n     <use x=\"2653.90625\" xlink:href=\"#DejaVuSans-31\"/>\r\n     <use x=\"2717.529297\" xlink:href=\"#DejaVuSans-31\"/>\r\n     <use x=\"2781.152344\" xlink:href=\"#DejaVuSans-39\"/>\r\n     <use x=\"2844.775391\" xlink:href=\"#DejaVuSans-32\"/>\r\n     <use x=\"2908.398438\" xlink:href=\"#DejaVuSans-39\"/>\r\n     <use x=\"2972.021484\" xlink:href=\"#DejaVuSans-65\"/>\r\n     <use x=\"3033.544922\" xlink:href=\"#DejaVuSans-2d\"/>\r\n     <use x=\"3069.628906\" xlink:href=\"#DejaVuSans-30\"/>\r\n     <use x=\"3133.251953\" xlink:href=\"#DejaVuSans-39\"/>\r\n     <use x=\"3196.875\" xlink:href=\"#DejaVuSans-20\"/>\r\n     <use x=\"3228.662109\" xlink:href=\"#DejaVuSans-35\"/>\r\n     <use x=\"3292.285156\" xlink:href=\"#DejaVuSans-2e\"/>\r\n     <use x=\"3324.072266\" xlink:href=\"#DejaVuSans-31\"/>\r\n     <use x=\"3387.695312\" xlink:href=\"#DejaVuSans-37\"/>\r\n     <use x=\"3451.318359\" xlink:href=\"#DejaVuSans-39\"/>\r\n     <use x=\"3514.941406\" xlink:href=\"#DejaVuSans-31\"/>\r\n     <use x=\"3578.564453\" xlink:href=\"#DejaVuSans-39\"/>\r\n     <use x=\"3642.1875\" xlink:href=\"#DejaVuSans-34\"/>\r\n     <use x=\"3705.810547\" xlink:href=\"#DejaVuSans-34\"/>\r\n     <use x=\"3769.433594\" xlink:href=\"#DejaVuSans-65\"/>\r\n     <use x=\"3830.957031\" xlink:href=\"#DejaVuSans-2d\"/>\r\n     <use x=\"3867.041016\" xlink:href=\"#DejaVuSans-31\"/>\r\n     <use x=\"3930.664062\" xlink:href=\"#DejaVuSans-35\"/>\r\n    </g>\r\n    <!--  7.6742378e-14 3.0203820e-18 1.0000000e+00 8.5978825e-15 7.6635320e-10] -->\r\n    <g transform=\"translate(7.2 29.7555)scale(0.12 -0.12)\">\r\n     <defs>\r\n      <path d=\"M 2944 4013 \r\nL 2944 2272 \r\nL 4684 2272 \r\nL 4684 1741 \r\nL 2944 1741 \r\nL 2944 0 \r\nL 2419 0 \r\nL 2419 1741 \r\nL 678 1741 \r\nL 678 2272 \r\nL 2419 2272 \r\nL 2419 4013 \r\nL 2944 4013 \r\nz\r\n\" id=\"DejaVuSans-2b\" transform=\"scale(0.015625)\"/>\r\n      <path d=\"M 1947 4863 \r\nL 1947 -844 \r\nL 622 -844 \r\nL 622 -397 \r\nL 1369 -397 \r\nL 1369 4416 \r\nL 622 4416 \r\nL 622 4863 \r\nL 1947 4863 \r\nz\r\n\" id=\"DejaVuSans-5d\" transform=\"scale(0.015625)\"/>\r\n     </defs>\r\n     <use xlink:href=\"#DejaVuSans-20\"/>\r\n     <use x=\"31.787109\" xlink:href=\"#DejaVuSans-37\"/>\r\n     <use x=\"95.410156\" xlink:href=\"#DejaVuSans-2e\"/>\r\n     <use x=\"127.197266\" xlink:href=\"#DejaVuSans-36\"/>\r\n     <use x=\"190.820312\" xlink:href=\"#DejaVuSans-37\"/>\r\n     <use x=\"254.443359\" xlink:href=\"#DejaVuSans-34\"/>\r\n     <use x=\"318.066406\" xlink:href=\"#DejaVuSans-32\"/>\r\n     <use x=\"381.689453\" xlink:href=\"#DejaVuSans-33\"/>\r\n     <use x=\"445.3125\" xlink:href=\"#DejaVuSans-37\"/>\r\n     <use x=\"508.935547\" xlink:href=\"#DejaVuSans-38\"/>\r\n     <use x=\"572.558594\" xlink:href=\"#DejaVuSans-65\"/>\r\n     <use x=\"634.082031\" xlink:href=\"#DejaVuSans-2d\"/>\r\n     <use x=\"670.166016\" xlink:href=\"#DejaVuSans-31\"/>\r\n     <use x=\"733.789062\" xlink:href=\"#DejaVuSans-34\"/>\r\n     <use x=\"797.412109\" xlink:href=\"#DejaVuSans-20\"/>\r\n     <use x=\"829.199219\" xlink:href=\"#DejaVuSans-33\"/>\r\n     <use x=\"892.822266\" xlink:href=\"#DejaVuSans-2e\"/>\r\n     <use x=\"924.609375\" xlink:href=\"#DejaVuSans-30\"/>\r\n     <use x=\"988.232422\" xlink:href=\"#DejaVuSans-32\"/>\r\n     <use x=\"1051.855469\" xlink:href=\"#DejaVuSans-30\"/>\r\n     <use x=\"1115.478516\" xlink:href=\"#DejaVuSans-33\"/>\r\n     <use x=\"1179.101562\" xlink:href=\"#DejaVuSans-38\"/>\r\n     <use x=\"1242.724609\" xlink:href=\"#DejaVuSans-32\"/>\r\n     <use x=\"1306.347656\" xlink:href=\"#DejaVuSans-30\"/>\r\n     <use x=\"1369.970703\" xlink:href=\"#DejaVuSans-65\"/>\r\n     <use x=\"1431.494141\" xlink:href=\"#DejaVuSans-2d\"/>\r\n     <use x=\"1467.578125\" xlink:href=\"#DejaVuSans-31\"/>\r\n     <use x=\"1531.201172\" xlink:href=\"#DejaVuSans-38\"/>\r\n     <use x=\"1594.824219\" xlink:href=\"#DejaVuSans-20\"/>\r\n     <use x=\"1626.611328\" xlink:href=\"#DejaVuSans-31\"/>\r\n     <use x=\"1690.234375\" xlink:href=\"#DejaVuSans-2e\"/>\r\n     <use x=\"1722.021484\" xlink:href=\"#DejaVuSans-30\"/>\r\n     <use x=\"1785.644531\" xlink:href=\"#DejaVuSans-30\"/>\r\n     <use x=\"1849.267578\" xlink:href=\"#DejaVuSans-30\"/>\r\n     <use x=\"1912.890625\" xlink:href=\"#DejaVuSans-30\"/>\r\n     <use x=\"1976.513672\" xlink:href=\"#DejaVuSans-30\"/>\r\n     <use x=\"2040.136719\" xlink:href=\"#DejaVuSans-30\"/>\r\n     <use x=\"2103.759766\" xlink:href=\"#DejaVuSans-30\"/>\r\n     <use x=\"2167.382812\" xlink:href=\"#DejaVuSans-65\"/>\r\n     <use x=\"2228.90625\" xlink:href=\"#DejaVuSans-2b\"/>\r\n     <use x=\"2312.695312\" xlink:href=\"#DejaVuSans-30\"/>\r\n     <use x=\"2376.318359\" xlink:href=\"#DejaVuSans-30\"/>\r\n     <use x=\"2439.941406\" xlink:href=\"#DejaVuSans-20\"/>\r\n     <use x=\"2471.728516\" xlink:href=\"#DejaVuSans-38\"/>\r\n     <use x=\"2535.351562\" xlink:href=\"#DejaVuSans-2e\"/>\r\n     <use x=\"2567.138672\" xlink:href=\"#DejaVuSans-35\"/>\r\n     <use x=\"2630.761719\" xlink:href=\"#DejaVuSans-39\"/>\r\n     <use x=\"2694.384766\" xlink:href=\"#DejaVuSans-37\"/>\r\n     <use x=\"2758.007812\" xlink:href=\"#DejaVuSans-38\"/>\r\n     <use x=\"2821.630859\" xlink:href=\"#DejaVuSans-38\"/>\r\n     <use x=\"2885.253906\" xlink:href=\"#DejaVuSans-32\"/>\r\n     <use x=\"2948.876953\" xlink:href=\"#DejaVuSans-35\"/>\r\n     <use x=\"3012.5\" xlink:href=\"#DejaVuSans-65\"/>\r\n     <use x=\"3074.023438\" xlink:href=\"#DejaVuSans-2d\"/>\r\n     <use x=\"3110.107422\" xlink:href=\"#DejaVuSans-31\"/>\r\n     <use x=\"3173.730469\" xlink:href=\"#DejaVuSans-35\"/>\r\n     <use x=\"3237.353516\" xlink:href=\"#DejaVuSans-20\"/>\r\n     <use x=\"3269.140625\" xlink:href=\"#DejaVuSans-37\"/>\r\n     <use x=\"3332.763672\" xlink:href=\"#DejaVuSans-2e\"/>\r\n     <use x=\"3364.550781\" xlink:href=\"#DejaVuSans-36\"/>\r\n     <use x=\"3428.173828\" xlink:href=\"#DejaVuSans-36\"/>\r\n     <use x=\"3491.796875\" xlink:href=\"#DejaVuSans-33\"/>\r\n     <use x=\"3555.419922\" xlink:href=\"#DejaVuSans-35\"/>\r\n     <use x=\"3619.042969\" xlink:href=\"#DejaVuSans-33\"/>\r\n     <use x=\"3682.666016\" xlink:href=\"#DejaVuSans-32\"/>\r\n     <use x=\"3746.289062\" xlink:href=\"#DejaVuSans-30\"/>\r\n     <use x=\"3809.912109\" xlink:href=\"#DejaVuSans-65\"/>\r\n     <use x=\"3871.435547\" xlink:href=\"#DejaVuSans-2d\"/>\r\n     <use x=\"3907.519531\" xlink:href=\"#DejaVuSans-31\"/>\r\n     <use x=\"3971.142578\" xlink:href=\"#DejaVuSans-30\"/>\r\n     <use x=\"4034.765625\" xlink:href=\"#DejaVuSans-5d\"/>\r\n    </g>\r\n   </g>\r\n  </g>\r\n </g>\r\n <defs>\r\n  <clipPath id=\"p1c86036621\">\r\n   <rect height=\"266.112\" width=\"266.112\" x=\"118.574625\" y=\"35.7555\"/>\r\n  </clipPath>\r\n </defs>\r\n</svg>\r\n",
      "image/png": "[encoded data removed]"
     },
     "metadata": {}
    }
   ],
   "metadata": {}
  },
  {
   "cell_type": "markdown",
   "source": [
    "# 배치사이즈 조정"
   ],
   "metadata": {}
  },
  {
   "cell_type": "code",
   "execution_count": 90,
   "source": [
    "model = Sequential();\r\n",
    "# 784개 들어와서 10개가 나감.\r\n",
    "model.add(Dense(128, activation='relu', input_shape=(784, )))\r\n",
    "model.add(Dense(64, activation='relu'))\r\n",
    "model.add(Dense(32, activation='relu'))\r\n",
    "model.add(Dense(10, activation='softmax')) # 다중분류라서...softmax\r\n",
    "\r\n",
    "model.compile(optimizer='adam',\r\n",
    "              loss='categorical_crossentropy',\r\n",
    "              metrics=['acc']);\r\n",
    "model.fit(x_train_scaler, y_train_cate,\r\n",
    "          epochs=30,\r\n",
    "          batch_size=128, # 데이터를 128개씩 나누어 메모리에 올리고 처리\r\n",
    "          validation_data=(x_vali_scaler, y_vali_cate),\r\n",
    "          verbose=1);\r\n",
    "model.evaluate(x_test_scaler, y_test_cate)"
   ],
   "outputs": [
    {
     "output_type": "stream",
     "name": "stdout",
     "text": [
      "Epoch 1/30\n",
      "329/329 [==============================] - 1s 2ms/step - loss: 0.4311 - acc: 0.8710 - val_loss: 0.1948 - val_acc: 0.9444\n",
      "Epoch 2/30\n",
      "329/329 [==============================] - 1s 2ms/step - loss: 0.1599 - acc: 0.9535 - val_loss: 0.1531 - val_acc: 0.9546\n",
      "Epoch 3/30\n",
      "329/329 [==============================] - 1s 2ms/step - loss: 0.1138 - acc: 0.9666 - val_loss: 0.1128 - val_acc: 0.9668\n",
      "Epoch 4/30\n",
      "329/329 [==============================] - 1s 2ms/step - loss: 0.0847 - acc: 0.9743 - val_loss: 0.1036 - val_acc: 0.9702\n",
      "Epoch 5/30\n",
      "329/329 [==============================] - 1s 2ms/step - loss: 0.0664 - acc: 0.9799 - val_loss: 0.1057 - val_acc: 0.9684\n",
      "Epoch 6/30\n",
      "329/329 [==============================] - 1s 2ms/step - loss: 0.0519 - acc: 0.9841 - val_loss: 0.0940 - val_acc: 0.9717\n",
      "Epoch 7/30\n",
      "329/329 [==============================] - 1s 2ms/step - loss: 0.0411 - acc: 0.9869 - val_loss: 0.0945 - val_acc: 0.9714\n",
      "Epoch 8/30\n",
      "329/329 [==============================] - 1s 2ms/step - loss: 0.0335 - acc: 0.9894 - val_loss: 0.0937 - val_acc: 0.9730\n",
      "Epoch 9/30\n",
      "329/329 [==============================] - 1s 2ms/step - loss: 0.0303 - acc: 0.9903 - val_loss: 0.0961 - val_acc: 0.9731\n",
      "Epoch 10/30\n",
      "329/329 [==============================] - 0s 1ms/step - loss: 0.0225 - acc: 0.9929 - val_loss: 0.0985 - val_acc: 0.9731\n",
      "Epoch 11/30\n",
      "329/329 [==============================] - 0s 2ms/step - loss: 0.0186 - acc: 0.9941 - val_loss: 0.1079 - val_acc: 0.9719\n",
      "Epoch 12/30\n",
      "329/329 [==============================] - 1s 2ms/step - loss: 0.0157 - acc: 0.9953 - val_loss: 0.1038 - val_acc: 0.9737\n",
      "Epoch 13/30\n",
      "329/329 [==============================] - 1s 2ms/step - loss: 0.0119 - acc: 0.9963 - val_loss: 0.1148 - val_acc: 0.9724\n",
      "Epoch 14/30\n",
      "329/329 [==============================] - 0s 2ms/step - loss: 0.0117 - acc: 0.9965 - val_loss: 0.1115 - val_acc: 0.9730\n",
      "Epoch 15/30\n",
      "329/329 [==============================] - 1s 2ms/step - loss: 0.0144 - acc: 0.9953 - val_loss: 0.1794 - val_acc: 0.9572\n",
      "Epoch 16/30\n",
      "329/329 [==============================] - 0s 2ms/step - loss: 0.0133 - acc: 0.9956 - val_loss: 0.1143 - val_acc: 0.9737\n",
      "Epoch 17/30\n",
      "329/329 [==============================] - 1s 2ms/step - loss: 0.0112 - acc: 0.9964 - val_loss: 0.1214 - val_acc: 0.9735\n",
      "Epoch 18/30\n",
      "329/329 [==============================] - 1s 2ms/step - loss: 0.0114 - acc: 0.9960 - val_loss: 0.1133 - val_acc: 0.9761\n",
      "Epoch 19/30\n",
      "329/329 [==============================] - 1s 2ms/step - loss: 0.0061 - acc: 0.9981 - val_loss: 0.1172 - val_acc: 0.9766\n",
      "Epoch 20/30\n",
      "329/329 [==============================] - 1s 2ms/step - loss: 0.0035 - acc: 0.9990 - val_loss: 0.1254 - val_acc: 0.9739\n",
      "Epoch 21/30\n",
      "329/329 [==============================] - 1s 2ms/step - loss: 0.0157 - acc: 0.9945 - val_loss: 0.1339 - val_acc: 0.9731\n",
      "Epoch 22/30\n",
      "329/329 [==============================] - 1s 2ms/step - loss: 0.0105 - acc: 0.9963 - val_loss: 0.1240 - val_acc: 0.9757\n",
      "Epoch 23/30\n",
      "329/329 [==============================] - 1s 2ms/step - loss: 0.0045 - acc: 0.9985 - val_loss: 0.1395 - val_acc: 0.9729\n",
      "Epoch 24/30\n",
      "329/329 [==============================] - 1s 2ms/step - loss: 0.0140 - acc: 0.9952 - val_loss: 0.1276 - val_acc: 0.9741\n",
      "Epoch 25/30\n",
      "329/329 [==============================] - 1s 2ms/step - loss: 0.0072 - acc: 0.9977 - val_loss: 0.1391 - val_acc: 0.9739\n",
      "Epoch 26/30\n",
      "329/329 [==============================] - 0s 2ms/step - loss: 0.0114 - acc: 0.9966 - val_loss: 0.1299 - val_acc: 0.9758\n",
      "Epoch 27/30\n",
      "329/329 [==============================] - 1s 2ms/step - loss: 0.0061 - acc: 0.9980 - val_loss: 0.1361 - val_acc: 0.9756\n",
      "Epoch 28/30\n",
      "329/329 [==============================] - 1s 2ms/step - loss: 0.0063 - acc: 0.9982 - val_loss: 0.1277 - val_acc: 0.9776\n",
      "Epoch 29/30\n",
      "329/329 [==============================] - 1s 2ms/step - loss: 0.0014 - acc: 0.9996 - val_loss: 0.1358 - val_acc: 0.9769\n",
      "Epoch 30/30\n",
      "329/329 [==============================] - 1s 2ms/step - loss: 0.0011 - acc: 0.9997 - val_loss: 0.1316 - val_acc: 0.9777\n",
      "313/313 [==============================] - 0s 473us/step - loss: 0.1255 - acc: 0.9774\n"
     ]
    },
    {
     "output_type": "execute_result",
     "data": {
      "text/plain": [
       "[0.12552037835121155, 0.977400004863739]"
      ]
     },
     "metadata": {},
     "execution_count": 90
    }
   ],
   "metadata": {}
  }
 ],
 "metadata": {
  "orig_nbformat": 4,
  "language_info": {
   "name": "python",
   "version": "3.8.11",
   "mimetype": "text/x-python",
   "codemirror_mode": {
    "name": "ipython",
    "version": 3
   },
   "pygments_lexer": "ipython3",
   "nbconvert_exporter": "python",
   "file_extension": ".py"
  },
  "kernelspec": {
   "name": "python3",
   "display_name": "Python 3.8.11 64-bit ('DLearning': conda)"
  },
  "interpreter": {
   "hash": "a45cc5bc0718893bc0971bc103741c93ec27bb7c2d4b5cf12d28925b2de55320"
  }
 },
 "nbformat": 4,
 "nbformat_minor": 2
}