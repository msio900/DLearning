{
 "cells": [
  {
   "cell_type": "code",
   "execution_count": 39,
   "source": [
    "import pandas as pd;\r\n",
    "import numpy as np;\r\n",
    "import tensorflow as tf;\r\n",
    "import os\r\n",
    "os.environ['TF_CPP_MIN_LOG_LEVEL'] = '3' # 텐서플로를 사용하면서 에러를 잡아주기 위한...\r\n",
    "from tensorflow.python.keras.utils.np_utils import to_categorical\r\n",
    "import pickle\r\n"
   ],
   "outputs": [],
   "metadata": {}
  },
  {
   "cell_type": "markdown",
   "source": [
    "# 데이터 로드"
   ],
   "metadata": {}
  },
  {
   "cell_type": "code",
   "execution_count": 40,
   "source": [
    "from tensorflow.keras.datasets.mnist import load_data;\r\n",
    "(x_train, y_train),(x_test, y_test) = load_data(path='mnist.npz');"
   ],
   "outputs": [
    {
     "output_type": "execute_result",
     "data": {
      "text/plain": [
       "((60000, 28, 28), (60000,))"
      ]
     },
     "metadata": {},
     "execution_count": 40
    }
   ],
   "metadata": {}
  },
  {
   "cell_type": "markdown",
   "source": [
    "# 데이터 확인"
   ],
   "metadata": {}
  },
  {
   "cell_type": "code",
   "execution_count": null,
   "source": [
    "x_train.shape, y_train.shape"
   ],
   "outputs": [],
   "metadata": {}
  },
  {
   "cell_type": "code",
   "execution_count": 41,
   "source": [
    "x_test.shape, y_test.shape"
   ],
   "outputs": [
    {
     "output_type": "execute_result",
     "data": {
      "text/plain": [
       "((10000, 28, 28), (10000,))"
      ]
     },
     "metadata": {},
     "execution_count": 41
    }
   ],
   "metadata": {}
  },
  {
   "cell_type": "code",
   "execution_count": 42,
   "source": [
    "x_train"
   ],
   "outputs": [
    {
     "output_type": "execute_result",
     "data": {
      "text/plain": [
       "array([[[0, 0, 0, ..., 0, 0, 0],\n",
       "        [0, 0, 0, ..., 0, 0, 0],\n",
       "        [0, 0, 0, ..., 0, 0, 0],\n",
       "        ...,\n",
       "        [0, 0, 0, ..., 0, 0, 0],\n",
       "        [0, 0, 0, ..., 0, 0, 0],\n",
       "        [0, 0, 0, ..., 0, 0, 0]],\n",
       "\n",
       "       [[0, 0, 0, ..., 0, 0, 0],\n",
       "        [0, 0, 0, ..., 0, 0, 0],\n",
       "        [0, 0, 0, ..., 0, 0, 0],\n",
       "        ...,\n",
       "        [0, 0, 0, ..., 0, 0, 0],\n",
       "        [0, 0, 0, ..., 0, 0, 0],\n",
       "        [0, 0, 0, ..., 0, 0, 0]],\n",
       "\n",
       "       [[0, 0, 0, ..., 0, 0, 0],\n",
       "        [0, 0, 0, ..., 0, 0, 0],\n",
       "        [0, 0, 0, ..., 0, 0, 0],\n",
       "        ...,\n",
       "        [0, 0, 0, ..., 0, 0, 0],\n",
       "        [0, 0, 0, ..., 0, 0, 0],\n",
       "        [0, 0, 0, ..., 0, 0, 0]],\n",
       "\n",
       "       ...,\n",
       "\n",
       "       [[0, 0, 0, ..., 0, 0, 0],\n",
       "        [0, 0, 0, ..., 0, 0, 0],\n",
       "        [0, 0, 0, ..., 0, 0, 0],\n",
       "        ...,\n",
       "        [0, 0, 0, ..., 0, 0, 0],\n",
       "        [0, 0, 0, ..., 0, 0, 0],\n",
       "        [0, 0, 0, ..., 0, 0, 0]],\n",
       "\n",
       "       [[0, 0, 0, ..., 0, 0, 0],\n",
       "        [0, 0, 0, ..., 0, 0, 0],\n",
       "        [0, 0, 0, ..., 0, 0, 0],\n",
       "        ...,\n",
       "        [0, 0, 0, ..., 0, 0, 0],\n",
       "        [0, 0, 0, ..., 0, 0, 0],\n",
       "        [0, 0, 0, ..., 0, 0, 0]],\n",
       "\n",
       "       [[0, 0, 0, ..., 0, 0, 0],\n",
       "        [0, 0, 0, ..., 0, 0, 0],\n",
       "        [0, 0, 0, ..., 0, 0, 0],\n",
       "        ...,\n",
       "        [0, 0, 0, ..., 0, 0, 0],\n",
       "        [0, 0, 0, ..., 0, 0, 0],\n",
       "        [0, 0, 0, ..., 0, 0, 0]]], dtype=uint8)"
      ]
     },
     "metadata": {},
     "execution_count": 42
    }
   ],
   "metadata": {}
  },
  {
   "cell_type": "code",
   "execution_count": 43,
   "source": [
    "y_train"
   ],
   "outputs": [
    {
     "output_type": "execute_result",
     "data": {
      "text/plain": [
       "array([5, 0, 4, ..., 5, 6, 8], dtype=uint8)"
      ]
     },
     "metadata": {},
     "execution_count": 43
    }
   ],
   "metadata": {}
  },
  {
   "cell_type": "markdown",
   "source": [
    "# 이미지 보기"
   ],
   "metadata": {}
  },
  {
   "cell_type": "code",
   "execution_count": 44,
   "source": [
    "# Show image\r\n",
    "import matplotlib.pyplot as plt;\r\n",
    "img = x_train[0, :];\r\n",
    "img"
   ],
   "outputs": [
    {
     "output_type": "execute_result",
     "data": {
      "text/plain": [
       "array([[  0,   0,   0,   0,   0,   0,   0,   0,   0,   0,   0,   0,   0,\n",
       "          0,   0,   0,   0,   0,   0,   0,   0,   0,   0,   0,   0,   0,\n",
       "          0,   0],\n",
       "       [  0,   0,   0,   0,   0,   0,   0,   0,   0,   0,   0,   0,   0,\n",
       "          0,   0,   0,   0,   0,   0,   0,   0,   0,   0,   0,   0,   0,\n",
       "          0,   0],\n",
       "       [  0,   0,   0,   0,   0,   0,   0,   0,   0,   0,   0,   0,   0,\n",
       "          0,   0,   0,   0,   0,   0,   0,   0,   0,   0,   0,   0,   0,\n",
       "          0,   0],\n",
       "       [  0,   0,   0,   0,   0,   0,   0,   0,   0,   0,   0,   0,   0,\n",
       "          0,   0,   0,   0,   0,   0,   0,   0,   0,   0,   0,   0,   0,\n",
       "          0,   0],\n",
       "       [  0,   0,   0,   0,   0,   0,   0,   0,   0,   0,   0,   0,   0,\n",
       "          0,   0,   0,   0,   0,   0,   0,   0,   0,   0,   0,   0,   0,\n",
       "          0,   0],\n",
       "       [  0,   0,   0,   0,   0,   0,   0,   0,   0,   0,   0,   0,   3,\n",
       "         18,  18,  18, 126, 136, 175,  26, 166, 255, 247, 127,   0,   0,\n",
       "          0,   0],\n",
       "       [  0,   0,   0,   0,   0,   0,   0,   0,  30,  36,  94, 154, 170,\n",
       "        253, 253, 253, 253, 253, 225, 172, 253, 242, 195,  64,   0,   0,\n",
       "          0,   0],\n",
       "       [  0,   0,   0,   0,   0,   0,   0,  49, 238, 253, 253, 253, 253,\n",
       "        253, 253, 253, 253, 251,  93,  82,  82,  56,  39,   0,   0,   0,\n",
       "          0,   0],\n",
       "       [  0,   0,   0,   0,   0,   0,   0,  18, 219, 253, 253, 253, 253,\n",
       "        253, 198, 182, 247, 241,   0,   0,   0,   0,   0,   0,   0,   0,\n",
       "          0,   0],\n",
       "       [  0,   0,   0,   0,   0,   0,   0,   0,  80, 156, 107, 253, 253,\n",
       "        205,  11,   0,  43, 154,   0,   0,   0,   0,   0,   0,   0,   0,\n",
       "          0,   0],\n",
       "       [  0,   0,   0,   0,   0,   0,   0,   0,   0,  14,   1, 154, 253,\n",
       "         90,   0,   0,   0,   0,   0,   0,   0,   0,   0,   0,   0,   0,\n",
       "          0,   0],\n",
       "       [  0,   0,   0,   0,   0,   0,   0,   0,   0,   0,   0, 139, 253,\n",
       "        190,   2,   0,   0,   0,   0,   0,   0,   0,   0,   0,   0,   0,\n",
       "          0,   0],\n",
       "       [  0,   0,   0,   0,   0,   0,   0,   0,   0,   0,   0,  11, 190,\n",
       "        253,  70,   0,   0,   0,   0,   0,   0,   0,   0,   0,   0,   0,\n",
       "          0,   0],\n",
       "       [  0,   0,   0,   0,   0,   0,   0,   0,   0,   0,   0,   0,  35,\n",
       "        241, 225, 160, 108,   1,   0,   0,   0,   0,   0,   0,   0,   0,\n",
       "          0,   0],\n",
       "       [  0,   0,   0,   0,   0,   0,   0,   0,   0,   0,   0,   0,   0,\n",
       "         81, 240, 253, 253, 119,  25,   0,   0,   0,   0,   0,   0,   0,\n",
       "          0,   0],\n",
       "       [  0,   0,   0,   0,   0,   0,   0,   0,   0,   0,   0,   0,   0,\n",
       "          0,  45, 186, 253, 253, 150,  27,   0,   0,   0,   0,   0,   0,\n",
       "          0,   0],\n",
       "       [  0,   0,   0,   0,   0,   0,   0,   0,   0,   0,   0,   0,   0,\n",
       "          0,   0,  16,  93, 252, 253, 187,   0,   0,   0,   0,   0,   0,\n",
       "          0,   0],\n",
       "       [  0,   0,   0,   0,   0,   0,   0,   0,   0,   0,   0,   0,   0,\n",
       "          0,   0,   0,   0, 249, 253, 249,  64,   0,   0,   0,   0,   0,\n",
       "          0,   0],\n",
       "       [  0,   0,   0,   0,   0,   0,   0,   0,   0,   0,   0,   0,   0,\n",
       "          0,  46, 130, 183, 253, 253, 207,   2,   0,   0,   0,   0,   0,\n",
       "          0,   0],\n",
       "       [  0,   0,   0,   0,   0,   0,   0,   0,   0,   0,   0,   0,  39,\n",
       "        148, 229, 253, 253, 253, 250, 182,   0,   0,   0,   0,   0,   0,\n",
       "          0,   0],\n",
       "       [  0,   0,   0,   0,   0,   0,   0,   0,   0,   0,  24, 114, 221,\n",
       "        253, 253, 253, 253, 201,  78,   0,   0,   0,   0,   0,   0,   0,\n",
       "          0,   0],\n",
       "       [  0,   0,   0,   0,   0,   0,   0,   0,  23,  66, 213, 253, 253,\n",
       "        253, 253, 198,  81,   2,   0,   0,   0,   0,   0,   0,   0,   0,\n",
       "          0,   0],\n",
       "       [  0,   0,   0,   0,   0,   0,  18, 171, 219, 253, 253, 253, 253,\n",
       "        195,  80,   9,   0,   0,   0,   0,   0,   0,   0,   0,   0,   0,\n",
       "          0,   0],\n",
       "       [  0,   0,   0,   0,  55, 172, 226, 253, 253, 253, 253, 244, 133,\n",
       "         11,   0,   0,   0,   0,   0,   0,   0,   0,   0,   0,   0,   0,\n",
       "          0,   0],\n",
       "       [  0,   0,   0,   0, 136, 253, 253, 253, 212, 135, 132,  16,   0,\n",
       "          0,   0,   0,   0,   0,   0,   0,   0,   0,   0,   0,   0,   0,\n",
       "          0,   0],\n",
       "       [  0,   0,   0,   0,   0,   0,   0,   0,   0,   0,   0,   0,   0,\n",
       "          0,   0,   0,   0,   0,   0,   0,   0,   0,   0,   0,   0,   0,\n",
       "          0,   0],\n",
       "       [  0,   0,   0,   0,   0,   0,   0,   0,   0,   0,   0,   0,   0,\n",
       "          0,   0,   0,   0,   0,   0,   0,   0,   0,   0,   0,   0,   0,\n",
       "          0,   0],\n",
       "       [  0,   0,   0,   0,   0,   0,   0,   0,   0,   0,   0,   0,   0,\n",
       "          0,   0,   0,   0,   0,   0,   0,   0,   0,   0,   0,   0,   0,\n",
       "          0,   0]], dtype=uint8)"
      ]
     },
     "metadata": {},
     "execution_count": 44
    }
   ],
   "metadata": {}
  },
  {
   "cell_type": "code",
   "execution_count": 45,
   "source": [
    "label = y_train[0];\r\n",
    "plt.figure();\r\n",
    "plt.imshow(img);\r\n",
    "plt.title('%d %d' % (0, label), fontsize=15);\r\n",
    "plt.show();"
   ],
   "outputs": [
    {
     "output_type": "display_data",
     "data": {
      "text/plain": [
       "<Figure size 640x480 with 1 Axes>"
      ],
      "image/svg+xml": "<?xml version=\"1.0\" encoding=\"utf-8\" standalone=\"no\"?>\r\n<!DOCTYPE svg PUBLIC \"-//W3C//DTD SVG 1.1//EN\"\r\n  \"http://www.w3.org/Graphics/SVG/1.1/DTD/svg11.dtd\">\r\n<svg height=\"314.587781pt\" version=\"1.1\" viewBox=\"0 0 300.237 314.587781\" width=\"300.237pt\" xmlns=\"http://www.w3.org/2000/svg\" xmlns:xlink=\"http://www.w3.org/1999/xlink\">\r\n <metadata>\r\n  <rdf:RDF xmlns:cc=\"http://creativecommons.org/ns#\" xmlns:dc=\"http://purl.org/dc/elements/1.1/\" xmlns:rdf=\"http://www.w3.org/1999/02/22-rdf-syntax-ns#\">\r\n   <cc:Work>\r\n    <dc:type rdf:resource=\"http://purl.org/dc/dcmitype/StillImage\"/>\r\n    <dc:date>2021-08-25T11:24:55.778815</dc:date>\r\n    <dc:format>image/svg+xml</dc:format>\r\n    <dc:creator>\r\n     <cc:Agent>\r\n      <dc:title>Matplotlib v3.4.2, https://matplotlib.org/</dc:title>\r\n     </cc:Agent>\r\n    </dc:creator>\r\n   </cc:Work>\r\n  </rdf:RDF>\r\n </metadata>\r\n <defs>\r\n  <style type=\"text/css\">*{stroke-linecap:butt;stroke-linejoin:round;}</style>\r\n </defs>\r\n <g id=\"figure_1\">\r\n  <g id=\"patch_1\">\r\n   <path d=\"M -0 314.587781 \r\nL 300.237 314.587781 \r\nL 300.237 0 \r\nL -0 0 \r\nz\r\n\" style=\"fill:#ffffff;\"/>\r\n  </g>\r\n  <g id=\"axes_1\">\r\n   <g id=\"patch_2\">\r\n    <path d=\"M 26.925 290.709656 \r\nL 293.037 290.709656 \r\nL 293.037 24.597656 \r\nL 26.925 24.597656 \r\nz\r\n\" style=\"fill:#ffffff;\"/>\r\n   </g>\r\n   <g clip-path=\"url(#p85ccf4c249)\">\r\n    <image height=\"266.4\" id=\"image2e27062136\" transform=\"scale(1 -1)translate(0 -266.4)\" width=\"266.4\" x=\"26.925\" xlink:href=\"data:image/png;base64,\r\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\" y=\"-24.309656\"/>\r\n   </g>\r\n   <g id=\"matplotlib.axis_1\">\r\n    <g id=\"xtick_1\">\r\n     <g id=\"line2d_1\">\r\n      <defs>\r\n       <path d=\"M 0 0 \r\nL 0 3.5 \r\n\" id=\"mf5f6b52f88\" style=\"stroke:#000000;stroke-width:0.8;\"/>\r\n      </defs>\r\n      <g>\r\n       <use style=\"stroke:#000000;stroke-width:0.8;\" x=\"31.677\" xlink:href=\"#mf5f6b52f88\" y=\"290.709656\"/>\r\n      </g>\r\n     </g>\r\n     <g id=\"text_1\">\r\n      <!-- 0 -->\r\n      <g transform=\"translate(28.49575 305.308094)scale(0.1 -0.1)\">\r\n       <defs>\r\n        <path d=\"M 2034 4250 \r\nQ 1547 4250 1301 3770 \r\nQ 1056 3291 1056 2328 \r\nQ 1056 1369 1301 889 \r\nQ 1547 409 2034 409 \r\nQ 2525 409 2770 889 \r\nQ 3016 1369 3016 2328 \r\nQ 3016 3291 2770 3770 \r\nQ 2525 4250 2034 4250 \r\nz\r\nM 2034 4750 \r\nQ 2819 4750 3233 4129 \r\nQ 3647 3509 3647 2328 \r\nQ 3647 1150 3233 529 \r\nQ 2819 -91 2034 -91 \r\nQ 1250 -91 836 529 \r\nQ 422 1150 422 2328 \r\nQ 422 3509 836 4129 \r\nQ 1250 4750 2034 4750 \r\nz\r\n\" id=\"DejaVuSans-30\" transform=\"scale(0.015625)\"/>\r\n       </defs>\r\n       <use xlink:href=\"#DejaVuSans-30\"/>\r\n      </g>\r\n     </g>\r\n    </g>\r\n    <g id=\"xtick_2\">\r\n     <g id=\"line2d_2\">\r\n      <g>\r\n       <use style=\"stroke:#000000;stroke-width:0.8;\" x=\"79.197\" xlink:href=\"#mf5f6b52f88\" y=\"290.709656\"/>\r\n      </g>\r\n     </g>\r\n     <g id=\"text_2\">\r\n      <!-- 5 -->\r\n      <g transform=\"translate(76.01575 305.308094)scale(0.1 -0.1)\">\r\n       <defs>\r\n        <path d=\"M 691 4666 \r\nL 3169 4666 \r\nL 3169 4134 \r\nL 1269 4134 \r\nL 1269 2991 \r\nQ 1406 3038 1543 3061 \r\nQ 1681 3084 1819 3084 \r\nQ 2600 3084 3056 2656 \r\nQ 3513 2228 3513 1497 \r\nQ 3513 744 3044 326 \r\nQ 2575 -91 1722 -91 \r\nQ 1428 -91 1123 -41 \r\nQ 819 9 494 109 \r\nL 494 744 \r\nQ 775 591 1075 516 \r\nQ 1375 441 1709 441 \r\nQ 2250 441 2565 725 \r\nQ 2881 1009 2881 1497 \r\nQ 2881 1984 2565 2268 \r\nQ 2250 2553 1709 2553 \r\nQ 1456 2553 1204 2497 \r\nQ 953 2441 691 2322 \r\nL 691 4666 \r\nz\r\n\" id=\"DejaVuSans-35\" transform=\"scale(0.015625)\"/>\r\n       </defs>\r\n       <use xlink:href=\"#DejaVuSans-35\"/>\r\n      </g>\r\n     </g>\r\n    </g>\r\n    <g id=\"xtick_3\">\r\n     <g id=\"line2d_3\">\r\n      <g>\r\n       <use style=\"stroke:#000000;stroke-width:0.8;\" x=\"126.717\" xlink:href=\"#mf5f6b52f88\" y=\"290.709656\"/>\r\n      </g>\r\n     </g>\r\n     <g id=\"text_3\">\r\n      <!-- 10 -->\r\n      <g transform=\"translate(120.3545 305.308094)scale(0.1 -0.1)\">\r\n       <defs>\r\n        <path d=\"M 794 531 \r\nL 1825 531 \r\nL 1825 4091 \r\nL 703 3866 \r\nL 703 4441 \r\nL 1819 4666 \r\nL 2450 4666 \r\nL 2450 531 \r\nL 3481 531 \r\nL 3481 0 \r\nL 794 0 \r\nL 794 531 \r\nz\r\n\" id=\"DejaVuSans-31\" transform=\"scale(0.015625)\"/>\r\n       </defs>\r\n       <use xlink:href=\"#DejaVuSans-31\"/>\r\n       <use x=\"63.623047\" xlink:href=\"#DejaVuSans-30\"/>\r\n      </g>\r\n     </g>\r\n    </g>\r\n    <g id=\"xtick_4\">\r\n     <g id=\"line2d_4\">\r\n      <g>\r\n       <use style=\"stroke:#000000;stroke-width:0.8;\" x=\"174.237\" xlink:href=\"#mf5f6b52f88\" y=\"290.709656\"/>\r\n      </g>\r\n     </g>\r\n     <g id=\"text_4\">\r\n      <!-- 15 -->\r\n      <g transform=\"translate(167.8745 305.308094)scale(0.1 -0.1)\">\r\n       <use xlink:href=\"#DejaVuSans-31\"/>\r\n       <use x=\"63.623047\" xlink:href=\"#DejaVuSans-35\"/>\r\n      </g>\r\n     </g>\r\n    </g>\r\n    <g id=\"xtick_5\">\r\n     <g id=\"line2d_5\">\r\n      <g>\r\n       <use style=\"stroke:#000000;stroke-width:0.8;\" x=\"221.757\" xlink:href=\"#mf5f6b52f88\" y=\"290.709656\"/>\r\n      </g>\r\n     </g>\r\n     <g id=\"text_5\">\r\n      <!-- 20 -->\r\n      <g transform=\"translate(215.3945 305.308094)scale(0.1 -0.1)\">\r\n       <defs>\r\n        <path d=\"M 1228 531 \r\nL 3431 531 \r\nL 3431 0 \r\nL 469 0 \r\nL 469 531 \r\nQ 828 903 1448 1529 \r\nQ 2069 2156 2228 2338 \r\nQ 2531 2678 2651 2914 \r\nQ 2772 3150 2772 3378 \r\nQ 2772 3750 2511 3984 \r\nQ 2250 4219 1831 4219 \r\nQ 1534 4219 1204 4116 \r\nQ 875 4013 500 3803 \r\nL 500 4441 \r\nQ 881 4594 1212 4672 \r\nQ 1544 4750 1819 4750 \r\nQ 2544 4750 2975 4387 \r\nQ 3406 4025 3406 3419 \r\nQ 3406 3131 3298 2873 \r\nQ 3191 2616 2906 2266 \r\nQ 2828 2175 2409 1742 \r\nQ 1991 1309 1228 531 \r\nz\r\n\" id=\"DejaVuSans-32\" transform=\"scale(0.015625)\"/>\r\n       </defs>\r\n       <use xlink:href=\"#DejaVuSans-32\"/>\r\n       <use x=\"63.623047\" xlink:href=\"#DejaVuSans-30\"/>\r\n      </g>\r\n     </g>\r\n    </g>\r\n    <g id=\"xtick_6\">\r\n     <g id=\"line2d_6\">\r\n      <g>\r\n       <use style=\"stroke:#000000;stroke-width:0.8;\" x=\"269.277\" xlink:href=\"#mf5f6b52f88\" y=\"290.709656\"/>\r\n      </g>\r\n     </g>\r\n     <g id=\"text_6\">\r\n      <!-- 25 -->\r\n      <g transform=\"translate(262.9145 305.308094)scale(0.1 -0.1)\">\r\n       <use xlink:href=\"#DejaVuSans-32\"/>\r\n       <use x=\"63.623047\" xlink:href=\"#DejaVuSans-35\"/>\r\n      </g>\r\n     </g>\r\n    </g>\r\n   </g>\r\n   <g id=\"matplotlib.axis_2\">\r\n    <g id=\"ytick_1\">\r\n     <g id=\"line2d_7\">\r\n      <defs>\r\n       <path d=\"M 0 0 \r\nL -3.5 0 \r\n\" id=\"m0809674693\" style=\"stroke:#000000;stroke-width:0.8;\"/>\r\n      </defs>\r\n      <g>\r\n       <use style=\"stroke:#000000;stroke-width:0.8;\" x=\"26.925\" xlink:href=\"#m0809674693\" y=\"29.349656\"/>\r\n      </g>\r\n     </g>\r\n     <g id=\"text_7\">\r\n      <!-- 0 -->\r\n      <g transform=\"translate(13.5625 33.148875)scale(0.1 -0.1)\">\r\n       <use xlink:href=\"#DejaVuSans-30\"/>\r\n      </g>\r\n     </g>\r\n    </g>\r\n    <g id=\"ytick_2\">\r\n     <g id=\"line2d_8\">\r\n      <g>\r\n       <use style=\"stroke:#000000;stroke-width:0.8;\" x=\"26.925\" xlink:href=\"#m0809674693\" y=\"76.869656\"/>\r\n      </g>\r\n     </g>\r\n     <g id=\"text_8\">\r\n      <!-- 5 -->\r\n      <g transform=\"translate(13.5625 80.668875)scale(0.1 -0.1)\">\r\n       <use xlink:href=\"#DejaVuSans-35\"/>\r\n      </g>\r\n     </g>\r\n    </g>\r\n    <g id=\"ytick_3\">\r\n     <g id=\"line2d_9\">\r\n      <g>\r\n       <use style=\"stroke:#000000;stroke-width:0.8;\" x=\"26.925\" xlink:href=\"#m0809674693\" y=\"124.389656\"/>\r\n      </g>\r\n     </g>\r\n     <g id=\"text_9\">\r\n      <!-- 10 -->\r\n      <g transform=\"translate(7.2 128.188875)scale(0.1 -0.1)\">\r\n       <use xlink:href=\"#DejaVuSans-31\"/>\r\n       <use x=\"63.623047\" xlink:href=\"#DejaVuSans-30\"/>\r\n      </g>\r\n     </g>\r\n    </g>\r\n    <g id=\"ytick_4\">\r\n     <g id=\"line2d_10\">\r\n      <g>\r\n       <use style=\"stroke:#000000;stroke-width:0.8;\" x=\"26.925\" xlink:href=\"#m0809674693\" y=\"171.909656\"/>\r\n      </g>\r\n     </g>\r\n     <g id=\"text_10\">\r\n      <!-- 15 -->\r\n      <g transform=\"translate(7.2 175.708875)scale(0.1 -0.1)\">\r\n       <use xlink:href=\"#DejaVuSans-31\"/>\r\n       <use x=\"63.623047\" xlink:href=\"#DejaVuSans-35\"/>\r\n      </g>\r\n     </g>\r\n    </g>\r\n    <g id=\"ytick_5\">\r\n     <g id=\"line2d_11\">\r\n      <g>\r\n       <use style=\"stroke:#000000;stroke-width:0.8;\" x=\"26.925\" xlink:href=\"#m0809674693\" y=\"219.429656\"/>\r\n      </g>\r\n     </g>\r\n     <g id=\"text_11\">\r\n      <!-- 20 -->\r\n      <g transform=\"translate(7.2 223.228875)scale(0.1 -0.1)\">\r\n       <use xlink:href=\"#DejaVuSans-32\"/>\r\n       <use x=\"63.623047\" xlink:href=\"#DejaVuSans-30\"/>\r\n      </g>\r\n     </g>\r\n    </g>\r\n    <g id=\"ytick_6\">\r\n     <g id=\"line2d_12\">\r\n      <g>\r\n       <use style=\"stroke:#000000;stroke-width:0.8;\" x=\"26.925\" xlink:href=\"#m0809674693\" y=\"266.949656\"/>\r\n      </g>\r\n     </g>\r\n     <g id=\"text_12\">\r\n      <!-- 25 -->\r\n      <g transform=\"translate(7.2 270.748875)scale(0.1 -0.1)\">\r\n       <use xlink:href=\"#DejaVuSans-32\"/>\r\n       <use x=\"63.623047\" xlink:href=\"#DejaVuSans-35\"/>\r\n      </g>\r\n     </g>\r\n    </g>\r\n   </g>\r\n   <g id=\"patch_3\">\r\n    <path d=\"M 26.925 290.709656 \r\nL 26.925 24.597656 \r\n\" style=\"fill:none;stroke:#000000;stroke-linecap:square;stroke-linejoin:miter;stroke-width:0.8;\"/>\r\n   </g>\r\n   <g id=\"patch_4\">\r\n    <path d=\"M 293.037 290.709656 \r\nL 293.037 24.597656 \r\n\" style=\"fill:none;stroke:#000000;stroke-linecap:square;stroke-linejoin:miter;stroke-width:0.8;\"/>\r\n   </g>\r\n   <g id=\"patch_5\">\r\n    <path d=\"M 26.925 290.709656 \r\nL 293.037 290.709656 \r\n\" style=\"fill:none;stroke:#000000;stroke-linecap:square;stroke-linejoin:miter;stroke-width:0.8;\"/>\r\n   </g>\r\n   <g id=\"patch_6\">\r\n    <path d=\"M 26.925 24.597656 \r\nL 293.037 24.597656 \r\n\" style=\"fill:none;stroke:#000000;stroke-linecap:square;stroke-linejoin:miter;stroke-width:0.8;\"/>\r\n   </g>\r\n   <g id=\"text_13\">\r\n    <!-- 0 5 -->\r\n    <g transform=\"translate(148.053656 18.597656)scale(0.15 -0.15)\">\r\n     <defs>\r\n      <path id=\"DejaVuSans-20\" transform=\"scale(0.015625)\"/>\r\n     </defs>\r\n     <use xlink:href=\"#DejaVuSans-30\"/>\r\n     <use x=\"63.623047\" xlink:href=\"#DejaVuSans-20\"/>\r\n     <use x=\"95.410156\" xlink:href=\"#DejaVuSans-35\"/>\r\n    </g>\r\n   </g>\r\n  </g>\r\n </g>\r\n <defs>\r\n  <clipPath id=\"p85ccf4c249\">\r\n   <rect height=\"266.112\" width=\"266.112\" x=\"26.925\" y=\"24.597656\"/>\r\n  </clipPath>\r\n </defs>\r\n</svg>\r\n",
      "image/png": "[encoded data removed]"
     },
     "metadata": {}
    }
   ],
   "metadata": {}
  },
  {
   "cell_type": "markdown",
   "source": [
    "# 훈련 데이터 검증 데이터 분리"
   ],
   "metadata": {}
  },
  {
   "cell_type": "code",
   "execution_count": 46,
   "source": [
    "from sklearn.model_selection import train_test_split;\r\n",
    "from sklearn.preprocessing import MinMaxScaler;\r\n",
    "\r\n",
    "x_train, x_vali, y_train, y_vali = train_test_split(x_train, y_train,\r\n",
    "                                                    test_size=0.3,\r\n",
    "                                                    random_state=777\r\n",
    "                                                    );\r\n",
    "print(x_train.shape, y_train.shape)\r\n",
    "print(x_vali.shape, y_vali.shape)"
   ],
   "outputs": [
    {
     "output_type": "stream",
     "name": "stdout",
     "text": [
      "(42000, 28, 28) (42000,)\n",
      "(18000, 28, 28) (18000,)\n"
     ]
    }
   ],
   "metadata": {}
  },
  {
   "cell_type": "markdown",
   "source": [
    "# x_train 차원 축소"
   ],
   "metadata": {}
  },
  {
   "cell_type": "code",
   "execution_count": null,
   "source": [
    "x_train = x_train.reshape(x_train.shape[0], 28 * 28)\r\n",
    "print('x_train차원 축소 :', x_train.shape)\r\n",
    "x_vali = x_vali.reshape(x_vali.shape[0], 28 * 28)\r\n",
    "print('x_vali차원 축소 :', x_vali.shape)\r\n",
    "x_test = x_test.reshape(x_test.shape[0], 28 * 28)\r\n",
    "print('x_test차원 축소 :', x_test.shape)\r\n"
   ],
   "outputs": [],
   "metadata": {}
  },
  {
   "cell_type": "markdown",
   "source": [
    "# x_train 정규화"
   ],
   "metadata": {}
  },
  {
   "cell_type": "code",
   "execution_count": null,
   "source": [
    "# 정규화!! (min max scaler는 3차원을 가능하지 않음.)\r\n",
    "x_train_scaler = MinMaxScaler().fit_transform(x_train)\r\n",
    "x_vali_scaler = MinMaxScaler().fit_transform(x_vali)\r\n",
    "x_test_scaler = MinMaxScaler().fit_transform(x_test)\r\n",
    "\r\n",
    "print('정규화된 형태',x_train_scaler[0, :])\r\n"
   ],
   "outputs": [],
   "metadata": {}
  },
  {
   "cell_type": "markdown",
   "source": [
    "# y_train 범주형 변환"
   ],
   "metadata": {}
  },
  {
   "cell_type": "code",
   "execution_count": null,
   "source": [
    "# 데이터가 시리얼 형태로 들어가 있음.\r\n",
    "# 데이터를 범주형으로 변환\r\n",
    "print(y_train.shape)\r\n",
    "print('원본 데이터:',y_train[1])\r\n",
    "y_train_cate = to_categorical(y_train) # 원핫인코딩과 유사한 개념\r\n",
    "print(y_train.shape)\r\n",
    "print('to_categorical 이후:',y_train[1])\r\n",
    "y_vali_cate = to_categorical(y_vali)\r\n",
    "y_test_cate = to_categorical(y_test)"
   ],
   "outputs": [],
   "metadata": {}
  },
  {
   "cell_type": "markdown",
   "source": [
    "# 모델 구성 - 신경망 구성"
   ],
   "metadata": {}
  },
  {
   "cell_type": "code",
   "execution_count": 47,
   "source": [
    "# 모델 구성 - 신경망 구성\r\n",
    "from tensorflow.keras.models import Sequential;\r\n",
    "from tensorflow.keras.layers import Dense;\r\n",
    "\r\n",
    "model = Sequential();\r\n",
    "# 784개 들어와서 10개가 나감.\r\n",
    "model.add(Dense(64, activation='relu', input_shape=(784, )))\r\n",
    "model.add(Dense(32, activation='relu'))\r\n",
    "model.add(Dense(10, activation='softmax')) # 다중분류라서...softmax\r\n",
    "\r\n",
    "model.compile(optimizer='adam',\r\n",
    "              loss='categorical_crossentropy',\r\n",
    "              metrics=['acc']);\r\n",
    "model.fit(x_train_scaler, y_train_cate,\r\n",
    "          epochs=30,\r\n",
    "          validation_data=(x_vali_scaler, y_vali_cate),\r\n",
    "          verbose=1);\r\n"
   ],
   "outputs": [
    {
     "output_type": "stream",
     "name": "stdout",
     "text": [
      "x_train차원 축소 : (42000, 784)\n",
      "x_vali차원 축소 : (18000, 784)\n",
      "x_test차원 축소 : (10000, 784)\n",
      "정규화된 형태 [0.         0.         0.         0.         0.         0.\n",
      " 0.         0.         0.         0.         0.         0.\n",
      " 0.         0.         0.         0.         0.         0.\n",
      " 0.         0.         0.         0.         0.         0.\n",
      " 0.         0.         0.         0.         0.         0.\n",
      " 0.         0.         0.         0.         0.         0.\n",
      " 0.         0.         0.         0.         0.         0.\n",
      " 0.         0.         0.         0.         0.         0.\n",
      " 0.         0.         0.         0.         0.         0.\n",
      " 0.         0.         0.         0.         0.         0.\n",
      " 0.         0.         0.         0.         0.         0.\n",
      " 0.         0.         0.         0.         0.         0.\n",
      " 0.         0.         0.         0.         0.         0.\n",
      " 0.         0.         0.         0.         0.         0.\n",
      " 0.         0.         0.         0.         0.         0.\n",
      " 0.         0.         0.         0.         0.         0.\n",
      " 0.         0.09803922 0.49411765 0.81568627 0.99607843 0.88627451\n",
      " 0.04705882 0.         0.         0.         0.         0.\n",
      " 0.         0.         0.         0.         0.         0.\n",
      " 0.         0.         0.         0.         0.         0.\n",
      " 0.         0.         0.         0.         0.05882353 0.82745098\n",
      " 0.99607843 0.99215686 0.99215686 0.99215686 0.4        0.\n",
      " 0.         0.         0.         0.         0.         0.\n",
      " 0.         0.         0.         0.         0.         0.\n",
      " 0.         0.         0.         0.         0.         0.\n",
      " 0.         0.         0.54901961 0.99215686 0.99607843 0.99215686\n",
      " 0.99215686 0.99215686 0.7254902  0.         0.         0.\n",
      " 0.         0.         0.         0.         0.         0.\n",
      " 0.         0.         0.         0.         0.         0.\n",
      " 0.         0.         0.         0.         0.         0.\n",
      " 0.7372549  0.99215686 0.99607843 0.99215686 0.99215686 0.99215686\n",
      " 0.80784314 0.         0.         0.         0.         0.\n",
      " 0.         0.         0.         0.         0.         0.\n",
      " 0.         0.         0.         0.         0.         0.\n",
      " 0.         0.         0.         0.         0.25490196 0.94509804\n",
      " 0.99607843 0.85490196 0.99215686 0.99215686 0.67058824 0.\n",
      " 0.         0.         0.         0.         0.         0.\n",
      " 0.         0.         0.         0.         0.         0.\n",
      " 0.         0.         0.         0.         0.         0.\n",
      " 0.         0.         0.         0.1372549  0.18431373 0.33333333\n",
      " 0.99215686 0.99215686 0.64313725 0.         0.         0.\n",
      " 0.         0.         0.         0.         0.         0.\n",
      " 0.         0.         0.         0.         0.         0.\n",
      " 0.         0.         0.         0.         0.         0.\n",
      " 0.         0.         0.         0.51372549 0.99215686 0.99215686\n",
      " 0.18039216 0.         0.         0.         0.         0.\n",
      " 0.         0.         0.         0.         0.         0.\n",
      " 0.         0.         0.         0.         0.         0.\n",
      " 0.         0.         0.         0.         0.         0.\n",
      " 0.23921569 0.93333333 0.99215686 0.70588235 0.00392157 0.\n",
      " 0.         0.         0.         0.         0.         0.\n",
      " 0.         0.         0.         0.         0.         0.\n",
      " 0.         0.         0.         0.         0.         0.\n",
      " 0.         0.         0.         0.         0.66666667 0.99215686\n",
      " 0.99215686 0.51764706 0.         0.         0.         0.\n",
      " 0.         0.         0.         0.         0.         0.\n",
      " 0.         0.         0.         0.         0.         0.\n",
      " 0.         0.         0.         0.         0.         0.\n",
      " 0.         0.41176471 0.99607843 0.99215686 0.69019608 0.08627451\n",
      " 0.         0.         0.         0.         0.         0.\n",
      " 0.         0.         0.         0.         0.         0.\n",
      " 0.         0.         0.         0.         0.         0.\n",
      " 0.         0.         0.         0.         0.44313725 0.99607843\n",
      " 1.         0.66666667 0.08235294 0.         0.         0.\n",
      " 0.         0.         0.         0.         0.         0.\n",
      " 0.         0.         0.         0.         0.         0.\n",
      " 0.         0.         0.         0.         0.         0.\n",
      " 0.         0.44705882 0.97647059 0.99215686 0.80392157 0.09411765\n",
      " 0.         0.         0.         0.         0.         0.\n",
      " 0.         0.         0.         0.         0.         0.\n",
      " 0.         0.         0.         0.         0.         0.00784314\n",
      " 0.34117647 0.77254902 0.77254902 0.74509804 0.6627451  0.98431373\n",
      " 0.99215686 0.82745098 0.08235294 0.         0.         0.\n",
      " 0.         0.         0.         0.01176471 0.31372549 0.01176471\n",
      " 0.         0.         0.         0.         0.         0.\n",
      " 0.         0.         0.         0.50196078 0.99215686 0.99215686\n",
      " 0.99215686 0.99215686 0.99215686 0.99215686 0.80784314 0.08627451\n",
      " 0.         0.         0.         0.         0.         0.\n",
      " 0.         0.57647059 0.91764706 0.08627451 0.         0.\n",
      " 0.         0.         0.         0.         0.         0.\n",
      " 0.21568627 0.94509804 0.99215686 0.99215686 0.99215686 0.99215686\n",
      " 0.99215686 0.99215686 0.7372549  0.05098039 0.         0.\n",
      " 0.         0.         0.         0.01568627 0.56470588 0.98823529\n",
      " 0.81176471 0.         0.         0.         0.         0.\n",
      " 0.         0.         0.         0.         0.59607843 0.99215686\n",
      " 0.99215686 0.99215686 0.99215686 0.98431373 0.78039216 0.98823529\n",
      " 0.99215686 0.71764706 0.02745098 0.         0.         0.\n",
      " 0.         0.26666667 0.99215686 0.99215686 0.21176471 0.\n",
      " 0.         0.         0.         0.         0.         0.\n",
      " 0.         0.         0.07843137 0.52941176 0.99215686 0.99215686\n",
      " 0.61176471 0.27058824 0.         0.83529412 0.99215686 0.99215686\n",
      " 0.81176471 0.3254902  0.         0.         0.38039216 0.9372549\n",
      " 0.99215686 0.91764706 0.09803922 0.         0.         0.\n",
      " 0.         0.         0.         0.         0.         0.\n",
      " 0.         0.00784314 0.03529412 0.03529412 0.00392157 0.\n",
      " 0.         0.10588235 0.82352941 0.99215686 0.99607843 0.98431373\n",
      " 0.95686275 0.95686275 0.98823529 0.99215686 0.99215686 0.05882353\n",
      " 0.         0.         0.         0.         0.         0.\n",
      " 0.         0.         0.         0.         0.         0.\n",
      " 0.         0.         0.         0.         0.         0.\n",
      " 0.07058824 0.69019608 0.99607843 0.99215686 0.99215686 0.99215686\n",
      " 0.99215686 0.95686275 0.39215686 0.00784314 0.         0.\n",
      " 0.         0.         0.         0.         0.         0.\n",
      " 0.         0.         0.         0.         0.         0.\n",
      " 0.         0.         0.         0.         0.         0.\n",
      " 0.49019608 0.62352941 0.62352941 0.75686275 0.55294118 0.23921569\n",
      " 0.         0.         0.         0.         0.         0.\n",
      " 0.         0.         0.         0.         0.         0.\n",
      " 0.         0.         0.         0.         0.         0.\n",
      " 0.         0.         0.         0.         0.         0.\n",
      " 0.         0.         0.         0.         0.         0.\n",
      " 0.         0.         0.         0.         0.         0.\n",
      " 0.         0.         0.         0.         0.         0.\n",
      " 0.         0.         0.         0.         0.         0.\n",
      " 0.         0.         0.         0.         0.         0.\n",
      " 0.         0.         0.         0.         0.         0.\n",
      " 0.         0.         0.         0.         0.         0.\n",
      " 0.         0.         0.         0.         0.         0.\n",
      " 0.         0.         0.         0.         0.         0.\n",
      " 0.         0.         0.         0.         0.         0.\n",
      " 0.         0.         0.         0.         0.         0.\n",
      " 0.         0.         0.         0.         0.         0.\n",
      " 0.         0.         0.         0.         0.         0.\n",
      " 0.         0.         0.         0.         0.         0.\n",
      " 0.         0.         0.         0.         0.         0.\n",
      " 0.         0.         0.         0.         0.         0.\n",
      " 0.         0.         0.         0.         0.         0.\n",
      " 0.         0.         0.         0.         0.         0.\n",
      " 0.         0.         0.         0.         0.         0.\n",
      " 0.         0.         0.         0.         0.         0.\n",
      " 0.         0.         0.         0.        ]\n",
      "(42000,)\n",
      "원본 데이터: 7\n",
      "(42000,)\n",
      "to_categorical 이후: 7\n",
      "Epoch 1/30\n",
      "1313/1313 [==============================] - 1s 781us/step - loss: 0.3375 - acc: 0.9024 - val_loss: 0.1802 - val_acc: 0.9484\n",
      "Epoch 2/30\n",
      "1313/1313 [==============================] - 1s 683us/step - loss: 0.1513 - acc: 0.9557 - val_loss: 0.1496 - val_acc: 0.9553\n",
      "Epoch 3/30\n",
      "1313/1313 [==============================] - 1s 691us/step - loss: 0.1080 - acc: 0.9673 - val_loss: 0.1288 - val_acc: 0.9607\n",
      "Epoch 4/30\n",
      "1313/1313 [==============================] - 1s 676us/step - loss: 0.0844 - acc: 0.9745 - val_loss: 0.1172 - val_acc: 0.9650\n",
      "Epoch 5/30\n",
      "1313/1313 [==============================] - 1s 677us/step - loss: 0.0685 - acc: 0.9786 - val_loss: 0.1111 - val_acc: 0.9676\n",
      "Epoch 6/30\n",
      "1313/1313 [==============================] - 1s 663us/step - loss: 0.0574 - acc: 0.9818 - val_loss: 0.1132 - val_acc: 0.9661\n",
      "Epoch 7/30\n",
      "1313/1313 [==============================] - 1s 660us/step - loss: 0.0459 - acc: 0.9856 - val_loss: 0.1076 - val_acc: 0.9689\n",
      "Epoch 8/30\n",
      "1313/1313 [==============================] - 1s 679us/step - loss: 0.0400 - acc: 0.9872 - val_loss: 0.1028 - val_acc: 0.9713\n",
      "Epoch 9/30\n",
      "1313/1313 [==============================] - 1s 707us/step - loss: 0.0349 - acc: 0.9890 - val_loss: 0.1031 - val_acc: 0.9715\n",
      "Epoch 10/30\n",
      "1313/1313 [==============================] - 1s 706us/step - loss: 0.0290 - acc: 0.9904 - val_loss: 0.1234 - val_acc: 0.9674\n",
      "Epoch 11/30\n",
      "1313/1313 [==============================] - 1s 723us/step - loss: 0.0269 - acc: 0.9911 - val_loss: 0.1193 - val_acc: 0.9698\n",
      "Epoch 12/30\n",
      "1313/1313 [==============================] - 1s 703us/step - loss: 0.0225 - acc: 0.9930 - val_loss: 0.1286 - val_acc: 0.9692\n",
      "Epoch 13/30\n",
      "1313/1313 [==============================] - 1s 708us/step - loss: 0.0193 - acc: 0.9935 - val_loss: 0.1254 - val_acc: 0.9698\n",
      "Epoch 14/30\n",
      "1313/1313 [==============================] - 1s 737us/step - loss: 0.0181 - acc: 0.9941 - val_loss: 0.1338 - val_acc: 0.9697\n",
      "Epoch 15/30\n",
      "1313/1313 [==============================] - 1s 724us/step - loss: 0.0161 - acc: 0.9948 - val_loss: 0.1335 - val_acc: 0.9716\n",
      "Epoch 16/30\n",
      "1313/1313 [==============================] - 1s 778us/step - loss: 0.0145 - acc: 0.9948 - val_loss: 0.1455 - val_acc: 0.9696\n",
      "Epoch 17/30\n",
      "1313/1313 [==============================] - 1s 792us/step - loss: 0.0138 - acc: 0.9955 - val_loss: 0.1418 - val_acc: 0.9704\n",
      "Epoch 18/30\n",
      "1313/1313 [==============================] - 1s 787us/step - loss: 0.0143 - acc: 0.9953 - val_loss: 0.1569 - val_acc: 0.9691\n",
      "Epoch 19/30\n",
      "1313/1313 [==============================] - 1s 709us/step - loss: 0.0135 - acc: 0.9955 - val_loss: 0.1523 - val_acc: 0.9708\n",
      "Epoch 20/30\n",
      "1313/1313 [==============================] - 1s 714us/step - loss: 0.0114 - acc: 0.9959 - val_loss: 0.1611 - val_acc: 0.9686\n",
      "Epoch 21/30\n",
      "1313/1313 [==============================] - 1s 707us/step - loss: 0.0119 - acc: 0.9958 - val_loss: 0.1583 - val_acc: 0.9709\n",
      "Epoch 22/30\n",
      "1313/1313 [==============================] - 1s 706us/step - loss: 0.0102 - acc: 0.9964 - val_loss: 0.1666 - val_acc: 0.9690\n",
      "Epoch 23/30\n",
      "1313/1313 [==============================] - 1s 676us/step - loss: 0.0130 - acc: 0.9956 - val_loss: 0.1570 - val_acc: 0.9708\n",
      "Epoch 24/30\n",
      "1313/1313 [==============================] - 1s 685us/step - loss: 0.0085 - acc: 0.9974 - val_loss: 0.1663 - val_acc: 0.9698\n",
      "Epoch 25/30\n",
      "1313/1313 [==============================] - 1s 704us/step - loss: 0.0103 - acc: 0.9963 - val_loss: 0.1709 - val_acc: 0.9712\n",
      "Epoch 26/30\n",
      "1313/1313 [==============================] - 1s 712us/step - loss: 0.0102 - acc: 0.9962 - val_loss: 0.1872 - val_acc: 0.9678\n",
      "Epoch 27/30\n",
      "1313/1313 [==============================] - 1s 696us/step - loss: 0.0095 - acc: 0.9967 - val_loss: 0.1651 - val_acc: 0.9723\n",
      "Epoch 28/30\n",
      "1313/1313 [==============================] - 1s 693us/step - loss: 0.0076 - acc: 0.9975 - val_loss: 0.1775 - val_acc: 0.9707\n",
      "Epoch 29/30\n",
      "1313/1313 [==============================] - 1s 679us/step - loss: 0.0108 - acc: 0.9966 - val_loss: 0.1636 - val_acc: 0.9730\n",
      "Epoch 30/30\n",
      "1313/1313 [==============================] - 1s 676us/step - loss: 0.0085 - acc: 0.9970 - val_loss: 0.1664 - val_acc: 0.9731\n",
      "313/313 [==============================] - 0s 374us/step - loss: 0.1662 - acc: 0.9728\n",
      "[0.16624021530151367, 0.9728000164031982]\n"
     ]
    }
   ],
   "metadata": {}
  },
  {
   "cell_type": "markdown",
   "source": [
    "# 모델 검증"
   ],
   "metadata": {}
  },
  {
   "cell_type": "code",
   "execution_count": null,
   "source": [
    "print(model.evaluate(x_test_scaler, y_test_cate))"
   ],
   "outputs": [],
   "metadata": {}
  },
  {
   "cell_type": "markdown",
   "source": [
    "# 모델 조정"
   ],
   "metadata": {}
  },
  {
   "cell_type": "code",
   "execution_count": 48,
   "source": [
    "model = Sequential();\r\n",
    "# 784개 들어와서 10개가 나감.\r\n",
    "model.add(Dense(128, activation='relu', input_shape=(784, )))\r\n",
    "model.add(Dense(64, activation='relu'))\r\n",
    "model.add(Dense(32, activation='relu'))\r\n",
    "model.add(Dense(10, activation='softmax')) # 다중분류라서...softmax\r\n",
    "\r\n",
    "model.compile(optimizer='adam',\r\n",
    "              loss='categorical_crossentropy',\r\n",
    "              metrics=['acc']);\r\n",
    "model.fit(x_train_scaler, y_train_cate,\r\n",
    "          epochs=30,\r\n",
    "          validation_data=(x_vali_scaler, y_vali_cate),\r\n",
    "          verbose=1);\r\n",
    "model.evaluate(x_test_scaler, y_test_cate)"
   ],
   "outputs": [
    {
     "output_type": "stream",
     "name": "stdout",
     "text": [
      "Epoch 1/30\n",
      "1313/1313 [==============================] - 1s 1ms/step - loss: 0.3001 - acc: 0.9106 - val_loss: 0.1529 - val_acc: 0.9542\n",
      "Epoch 2/30\n",
      "1313/1313 [==============================] - 1s 981us/step - loss: 0.1229 - acc: 0.9633 - val_loss: 0.1293 - val_acc: 0.9617\n",
      "Epoch 3/30\n",
      "1313/1313 [==============================] - 1s 938us/step - loss: 0.0823 - acc: 0.9747 - val_loss: 0.1014 - val_acc: 0.9694\n",
      "Epoch 4/30\n",
      "1313/1313 [==============================] - 1s 954us/step - loss: 0.0645 - acc: 0.9797 - val_loss: 0.0961 - val_acc: 0.9729\n",
      "Epoch 5/30\n",
      "1313/1313 [==============================] - 1s 962us/step - loss: 0.0503 - acc: 0.9837 - val_loss: 0.0967 - val_acc: 0.9732\n",
      "Epoch 6/30\n",
      "1313/1313 [==============================] - 1s 992us/step - loss: 0.0404 - acc: 0.9875 - val_loss: 0.0991 - val_acc: 0.9743\n",
      "Epoch 7/30\n",
      "1313/1313 [==============================] - 1s 986us/step - loss: 0.0330 - acc: 0.9894 - val_loss: 0.1084 - val_acc: 0.9719\n",
      "Epoch 8/30\n",
      "1313/1313 [==============================] - 1s 1ms/step - loss: 0.0306 - acc: 0.9898 - val_loss: 0.0992 - val_acc: 0.9751\n",
      "Epoch 9/30\n",
      "1313/1313 [==============================] - 1s 970us/step - loss: 0.0247 - acc: 0.9921 - val_loss: 0.0995 - val_acc: 0.9752\n",
      "Epoch 10/30\n",
      "1313/1313 [==============================] - 1s 972us/step - loss: 0.0239 - acc: 0.9920 - val_loss: 0.1039 - val_acc: 0.9746\n",
      "Epoch 11/30\n",
      "1313/1313 [==============================] - 1s 981us/step - loss: 0.0215 - acc: 0.9933 - val_loss: 0.1166 - val_acc: 0.9718\n",
      "Epoch 12/30\n",
      "1313/1313 [==============================] - 1s 962us/step - loss: 0.0177 - acc: 0.9940 - val_loss: 0.1379 - val_acc: 0.9711\n",
      "Epoch 13/30\n",
      "1313/1313 [==============================] - 1s 910us/step - loss: 0.0196 - acc: 0.9940 - val_loss: 0.1211 - val_acc: 0.9743\n",
      "Epoch 14/30\n",
      "1313/1313 [==============================] - 1s 922us/step - loss: 0.0176 - acc: 0.9938 - val_loss: 0.1093 - val_acc: 0.9758\n",
      "Epoch 15/30\n",
      "1313/1313 [==============================] - 1s 942us/step - loss: 0.0152 - acc: 0.9945 - val_loss: 0.1394 - val_acc: 0.9708\n",
      "Epoch 16/30\n",
      "1313/1313 [==============================] - 1s 928us/step - loss: 0.0128 - acc: 0.9958 - val_loss: 0.1291 - val_acc: 0.9743\n",
      "Epoch 17/30\n",
      "1313/1313 [==============================] - 1s 920us/step - loss: 0.0154 - acc: 0.9949 - val_loss: 0.1196 - val_acc: 0.9770\n",
      "Epoch 18/30\n",
      "1313/1313 [==============================] - 1s 954us/step - loss: 0.0146 - acc: 0.9957 - val_loss: 0.1301 - val_acc: 0.9753\n",
      "Epoch 19/30\n",
      "1313/1313 [==============================] - 1s 904us/step - loss: 0.0127 - acc: 0.9959 - val_loss: 0.1239 - val_acc: 0.9767\n",
      "Epoch 20/30\n",
      "1313/1313 [==============================] - 1s 931us/step - loss: 0.0153 - acc: 0.9950 - val_loss: 0.1616 - val_acc: 0.9702\n",
      "Epoch 21/30\n",
      "1313/1313 [==============================] - 1s 921us/step - loss: 0.0084 - acc: 0.9974 - val_loss: 0.1761 - val_acc: 0.9711\n",
      "Epoch 22/30\n",
      "1313/1313 [==============================] - 1s 936us/step - loss: 0.0156 - acc: 0.9949 - val_loss: 0.1474 - val_acc: 0.9741\n",
      "Epoch 23/30\n",
      "1313/1313 [==============================] - 1s 980us/step - loss: 0.0061 - acc: 0.9979 - val_loss: 0.1479 - val_acc: 0.9757\n",
      "Epoch 24/30\n",
      "1313/1313 [==============================] - 1s 960us/step - loss: 0.0140 - acc: 0.9958 - val_loss: 0.1454 - val_acc: 0.9738\n",
      "Epoch 25/30\n",
      "1313/1313 [==============================] - 1s 1ms/step - loss: 0.0096 - acc: 0.9973 - val_loss: 0.1405 - val_acc: 0.9752\n",
      "Epoch 26/30\n",
      "1313/1313 [==============================] - 1s 1ms/step - loss: 0.0117 - acc: 0.9963 - val_loss: 0.1563 - val_acc: 0.9742\n",
      "Epoch 27/30\n",
      "1313/1313 [==============================] - 1s 921us/step - loss: 0.0096 - acc: 0.9973 - val_loss: 0.1692 - val_acc: 0.9735\n",
      "Epoch 28/30\n",
      "1313/1313 [==============================] - 1s 901us/step - loss: 0.0116 - acc: 0.9965 - val_loss: 0.1696 - val_acc: 0.9744\n",
      "Epoch 29/30\n",
      "1313/1313 [==============================] - 1s 987us/step - loss: 0.0067 - acc: 0.9979 - val_loss: 0.1652 - val_acc: 0.9731\n",
      "Epoch 30/30\n",
      "1313/1313 [==============================] - 1s 962us/step - loss: 0.0107 - acc: 0.9967 - val_loss: 0.1685 - val_acc: 0.9741\n",
      "313/313 [==============================] - 0s 543us/step - loss: 0.1763 - acc: 0.9733\n"
     ]
    },
    {
     "output_type": "execute_result",
     "data": {
      "text/plain": [
       "[0.17626415193080902, 0.9732999801635742]"
      ]
     },
     "metadata": {},
     "execution_count": 48
    }
   ],
   "metadata": {}
  },
  {
   "cell_type": "markdown",
   "source": [
    "# 예측값 확인"
   ],
   "metadata": {}
  },
  {
   "cell_type": "code",
   "execution_count": 49,
   "source": [
    "result = model.predict(x_test_scaler);\r\n",
    "print(result.shape)\r\n",
    "print(result[0])"
   ],
   "outputs": [
    {
     "output_type": "stream",
     "name": "stdout",
     "text": [
      "(10000, 10)\n",
      "[1.9970412e-28 3.1830099e-19 1.0352343e-19 6.5786612e-22 1.9188450e-27\n",
      " 1.8682403e-21 2.0171366e-38 1.0000000e+00 6.8064247e-20 4.0215686e-19]\n"
     ]
    }
   ],
   "metadata": {}
  },
  {
   "cell_type": "code",
   "execution_count": 50,
   "source": [
    "# with open(\"mnist.model\", \"wb\") as w:\r\n",
    "#     pickle.dump(model, w);"
   ],
   "outputs": [],
   "metadata": {}
  },
  {
   "cell_type": "code",
   "execution_count": 51,
   "source": [
    "plt.imshow(x_test[0].reshape(28,28))\r\n",
    "plt.show()"
   ],
   "outputs": [
    {
     "output_type": "display_data",
     "data": {
      "text/plain": [
       "<Figure size 640x480 with 1 Axes>"
      ],
      "image/svg+xml": "<?xml version=\"1.0\" encoding=\"utf-8\" standalone=\"no\"?>\r\n<!DOCTYPE svg PUBLIC \"-//W3C//DTD SVG 1.1//EN\"\r\n  \"http://www.w3.org/Graphics/SVG/1.1/DTD/svg11.dtd\">\r\n<svg height=\"297.190125pt\" version=\"1.1\" viewBox=\"0 0 300.237 297.190125\" width=\"300.237pt\" xmlns=\"http://www.w3.org/2000/svg\" xmlns:xlink=\"http://www.w3.org/1999/xlink\">\r\n <metadata>\r\n  <rdf:RDF xmlns:cc=\"http://creativecommons.org/ns#\" xmlns:dc=\"http://purl.org/dc/elements/1.1/\" xmlns:rdf=\"http://www.w3.org/1999/02/22-rdf-syntax-ns#\">\r\n   <cc:Work>\r\n    <dc:type rdf:resource=\"http://purl.org/dc/dcmitype/StillImage\"/>\r\n    <dc:date>2021-08-25T11:27:20.510496</dc:date>\r\n    <dc:format>image/svg+xml</dc:format>\r\n    <dc:creator>\r\n     <cc:Agent>\r\n      <dc:title>Matplotlib v3.4.2, https://matplotlib.org/</dc:title>\r\n     </cc:Agent>\r\n    </dc:creator>\r\n   </cc:Work>\r\n  </rdf:RDF>\r\n </metadata>\r\n <defs>\r\n  <style type=\"text/css\">*{stroke-linecap:butt;stroke-linejoin:round;}</style>\r\n </defs>\r\n <g id=\"figure_1\">\r\n  <g id=\"patch_1\">\r\n   <path d=\"M -0 297.190125 \r\nL 300.237 297.190125 \r\nL 300.237 0 \r\nL -0 0 \r\nz\r\n\" style=\"fill:#ffffff;\"/>\r\n  </g>\r\n  <g id=\"axes_1\">\r\n   <g id=\"patch_2\">\r\n    <path d=\"M 26.925 273.312 \r\nL 293.037 273.312 \r\nL 293.037 7.2 \r\nL 26.925 7.2 \r\nz\r\n\" style=\"fill:#ffffff;\"/>\r\n   </g>\r\n   <g clip-path=\"url(#pab01e763f7)\">\r\n    <image height=\"266.4\" id=\"image6122591637\" transform=\"scale(1 -1)translate(0 -266.4)\" width=\"266.4\" x=\"26.925\" xlink:href=\"data:image/png;base64,\r\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\" y=\"-6.912\"/>\r\n   </g>\r\n   <g id=\"matplotlib.axis_1\">\r\n    <g id=\"xtick_1\">\r\n     <g id=\"line2d_1\">\r\n      <defs>\r\n       <path d=\"M 0 0 \r\nL 0 3.5 \r\n\" id=\"m20085d4730\" style=\"stroke:#000000;stroke-width:0.8;\"/>\r\n      </defs>\r\n      <g>\r\n       <use style=\"stroke:#000000;stroke-width:0.8;\" x=\"31.677\" xlink:href=\"#m20085d4730\" y=\"273.312\"/>\r\n      </g>\r\n     </g>\r\n     <g id=\"text_1\">\r\n      <!-- 0 -->\r\n      <g transform=\"translate(28.49575 287.910437)scale(0.1 -0.1)\">\r\n       <defs>\r\n        <path d=\"M 2034 4250 \r\nQ 1547 4250 1301 3770 \r\nQ 1056 3291 1056 2328 \r\nQ 1056 1369 1301 889 \r\nQ 1547 409 2034 409 \r\nQ 2525 409 2770 889 \r\nQ 3016 1369 3016 2328 \r\nQ 3016 3291 2770 3770 \r\nQ 2525 4250 2034 4250 \r\nz\r\nM 2034 4750 \r\nQ 2819 4750 3233 4129 \r\nQ 3647 3509 3647 2328 \r\nQ 3647 1150 3233 529 \r\nQ 2819 -91 2034 -91 \r\nQ 1250 -91 836 529 \r\nQ 422 1150 422 2328 \r\nQ 422 3509 836 4129 \r\nQ 1250 4750 2034 4750 \r\nz\r\n\" id=\"DejaVuSans-30\" transform=\"scale(0.015625)\"/>\r\n       </defs>\r\n       <use xlink:href=\"#DejaVuSans-30\"/>\r\n      </g>\r\n     </g>\r\n    </g>\r\n    <g id=\"xtick_2\">\r\n     <g id=\"line2d_2\">\r\n      <g>\r\n       <use style=\"stroke:#000000;stroke-width:0.8;\" x=\"79.197\" xlink:href=\"#m20085d4730\" y=\"273.312\"/>\r\n      </g>\r\n     </g>\r\n     <g id=\"text_2\">\r\n      <!-- 5 -->\r\n      <g transform=\"translate(76.01575 287.910437)scale(0.1 -0.1)\">\r\n       <defs>\r\n        <path d=\"M 691 4666 \r\nL 3169 4666 \r\nL 3169 4134 \r\nL 1269 4134 \r\nL 1269 2991 \r\nQ 1406 3038 1543 3061 \r\nQ 1681 3084 1819 3084 \r\nQ 2600 3084 3056 2656 \r\nQ 3513 2228 3513 1497 \r\nQ 3513 744 3044 326 \r\nQ 2575 -91 1722 -91 \r\nQ 1428 -91 1123 -41 \r\nQ 819 9 494 109 \r\nL 494 744 \r\nQ 775 591 1075 516 \r\nQ 1375 441 1709 441 \r\nQ 2250 441 2565 725 \r\nQ 2881 1009 2881 1497 \r\nQ 2881 1984 2565 2268 \r\nQ 2250 2553 1709 2553 \r\nQ 1456 2553 1204 2497 \r\nQ 953 2441 691 2322 \r\nL 691 4666 \r\nz\r\n\" id=\"DejaVuSans-35\" transform=\"scale(0.015625)\"/>\r\n       </defs>\r\n       <use xlink:href=\"#DejaVuSans-35\"/>\r\n      </g>\r\n     </g>\r\n    </g>\r\n    <g id=\"xtick_3\">\r\n     <g id=\"line2d_3\">\r\n      <g>\r\n       <use style=\"stroke:#000000;stroke-width:0.8;\" x=\"126.717\" xlink:href=\"#m20085d4730\" y=\"273.312\"/>\r\n      </g>\r\n     </g>\r\n     <g id=\"text_3\">\r\n      <!-- 10 -->\r\n      <g transform=\"translate(120.3545 287.910437)scale(0.1 -0.1)\">\r\n       <defs>\r\n        <path d=\"M 794 531 \r\nL 1825 531 \r\nL 1825 4091 \r\nL 703 3866 \r\nL 703 4441 \r\nL 1819 4666 \r\nL 2450 4666 \r\nL 2450 531 \r\nL 3481 531 \r\nL 3481 0 \r\nL 794 0 \r\nL 794 531 \r\nz\r\n\" id=\"DejaVuSans-31\" transform=\"scale(0.015625)\"/>\r\n       </defs>\r\n       <use xlink:href=\"#DejaVuSans-31\"/>\r\n       <use x=\"63.623047\" xlink:href=\"#DejaVuSans-30\"/>\r\n      </g>\r\n     </g>\r\n    </g>\r\n    <g id=\"xtick_4\">\r\n     <g id=\"line2d_4\">\r\n      <g>\r\n       <use style=\"stroke:#000000;stroke-width:0.8;\" x=\"174.237\" xlink:href=\"#m20085d4730\" y=\"273.312\"/>\r\n      </g>\r\n     </g>\r\n     <g id=\"text_4\">\r\n      <!-- 15 -->\r\n      <g transform=\"translate(167.8745 287.910437)scale(0.1 -0.1)\">\r\n       <use xlink:href=\"#DejaVuSans-31\"/>\r\n       <use x=\"63.623047\" xlink:href=\"#DejaVuSans-35\"/>\r\n      </g>\r\n     </g>\r\n    </g>\r\n    <g id=\"xtick_5\">\r\n     <g id=\"line2d_5\">\r\n      <g>\r\n       <use style=\"stroke:#000000;stroke-width:0.8;\" x=\"221.757\" xlink:href=\"#m20085d4730\" y=\"273.312\"/>\r\n      </g>\r\n     </g>\r\n     <g id=\"text_5\">\r\n      <!-- 20 -->\r\n      <g transform=\"translate(215.3945 287.910437)scale(0.1 -0.1)\">\r\n       <defs>\r\n        <path d=\"M 1228 531 \r\nL 3431 531 \r\nL 3431 0 \r\nL 469 0 \r\nL 469 531 \r\nQ 828 903 1448 1529 \r\nQ 2069 2156 2228 2338 \r\nQ 2531 2678 2651 2914 \r\nQ 2772 3150 2772 3378 \r\nQ 2772 3750 2511 3984 \r\nQ 2250 4219 1831 4219 \r\nQ 1534 4219 1204 4116 \r\nQ 875 4013 500 3803 \r\nL 500 4441 \r\nQ 881 4594 1212 4672 \r\nQ 1544 4750 1819 4750 \r\nQ 2544 4750 2975 4387 \r\nQ 3406 4025 3406 3419 \r\nQ 3406 3131 3298 2873 \r\nQ 3191 2616 2906 2266 \r\nQ 2828 2175 2409 1742 \r\nQ 1991 1309 1228 531 \r\nz\r\n\" id=\"DejaVuSans-32\" transform=\"scale(0.015625)\"/>\r\n       </defs>\r\n       <use xlink:href=\"#DejaVuSans-32\"/>\r\n       <use x=\"63.623047\" xlink:href=\"#DejaVuSans-30\"/>\r\n      </g>\r\n     </g>\r\n    </g>\r\n    <g id=\"xtick_6\">\r\n     <g id=\"line2d_6\">\r\n      <g>\r\n       <use style=\"stroke:#000000;stroke-width:0.8;\" x=\"269.277\" xlink:href=\"#m20085d4730\" y=\"273.312\"/>\r\n      </g>\r\n     </g>\r\n     <g id=\"text_6\">\r\n      <!-- 25 -->\r\n      <g transform=\"translate(262.9145 287.910437)scale(0.1 -0.1)\">\r\n       <use xlink:href=\"#DejaVuSans-32\"/>\r\n       <use x=\"63.623047\" xlink:href=\"#DejaVuSans-35\"/>\r\n      </g>\r\n     </g>\r\n    </g>\r\n   </g>\r\n   <g id=\"matplotlib.axis_2\">\r\n    <g id=\"ytick_1\">\r\n     <g id=\"line2d_7\">\r\n      <defs>\r\n       <path d=\"M 0 0 \r\nL -3.5 0 \r\n\" id=\"mb161533dc5\" style=\"stroke:#000000;stroke-width:0.8;\"/>\r\n      </defs>\r\n      <g>\r\n       <use style=\"stroke:#000000;stroke-width:0.8;\" x=\"26.925\" xlink:href=\"#mb161533dc5\" y=\"11.952\"/>\r\n      </g>\r\n     </g>\r\n     <g id=\"text_7\">\r\n      <!-- 0 -->\r\n      <g transform=\"translate(13.5625 15.751219)scale(0.1 -0.1)\">\r\n       <use xlink:href=\"#DejaVuSans-30\"/>\r\n      </g>\r\n     </g>\r\n    </g>\r\n    <g id=\"ytick_2\">\r\n     <g id=\"line2d_8\">\r\n      <g>\r\n       <use style=\"stroke:#000000;stroke-width:0.8;\" x=\"26.925\" xlink:href=\"#mb161533dc5\" y=\"59.472\"/>\r\n      </g>\r\n     </g>\r\n     <g id=\"text_8\">\r\n      <!-- 5 -->\r\n      <g transform=\"translate(13.5625 63.271219)scale(0.1 -0.1)\">\r\n       <use xlink:href=\"#DejaVuSans-35\"/>\r\n      </g>\r\n     </g>\r\n    </g>\r\n    <g id=\"ytick_3\">\r\n     <g id=\"line2d_9\">\r\n      <g>\r\n       <use style=\"stroke:#000000;stroke-width:0.8;\" x=\"26.925\" xlink:href=\"#mb161533dc5\" y=\"106.992\"/>\r\n      </g>\r\n     </g>\r\n     <g id=\"text_9\">\r\n      <!-- 10 -->\r\n      <g transform=\"translate(7.2 110.791219)scale(0.1 -0.1)\">\r\n       <use xlink:href=\"#DejaVuSans-31\"/>\r\n       <use x=\"63.623047\" xlink:href=\"#DejaVuSans-30\"/>\r\n      </g>\r\n     </g>\r\n    </g>\r\n    <g id=\"ytick_4\">\r\n     <g id=\"line2d_10\">\r\n      <g>\r\n       <use style=\"stroke:#000000;stroke-width:0.8;\" x=\"26.925\" xlink:href=\"#mb161533dc5\" y=\"154.512\"/>\r\n      </g>\r\n     </g>\r\n     <g id=\"text_10\">\r\n      <!-- 15 -->\r\n      <g transform=\"translate(7.2 158.311219)scale(0.1 -0.1)\">\r\n       <use xlink:href=\"#DejaVuSans-31\"/>\r\n       <use x=\"63.623047\" xlink:href=\"#DejaVuSans-35\"/>\r\n      </g>\r\n     </g>\r\n    </g>\r\n    <g id=\"ytick_5\">\r\n     <g id=\"line2d_11\">\r\n      <g>\r\n       <use style=\"stroke:#000000;stroke-width:0.8;\" x=\"26.925\" xlink:href=\"#mb161533dc5\" y=\"202.032\"/>\r\n      </g>\r\n     </g>\r\n     <g id=\"text_11\">\r\n      <!-- 20 -->\r\n      <g transform=\"translate(7.2 205.831219)scale(0.1 -0.1)\">\r\n       <use xlink:href=\"#DejaVuSans-32\"/>\r\n       <use x=\"63.623047\" xlink:href=\"#DejaVuSans-30\"/>\r\n      </g>\r\n     </g>\r\n    </g>\r\n    <g id=\"ytick_6\">\r\n     <g id=\"line2d_12\">\r\n      <g>\r\n       <use style=\"stroke:#000000;stroke-width:0.8;\" x=\"26.925\" xlink:href=\"#mb161533dc5\" y=\"249.552\"/>\r\n      </g>\r\n     </g>\r\n     <g id=\"text_12\">\r\n      <!-- 25 -->\r\n      <g transform=\"translate(7.2 253.351219)scale(0.1 -0.1)\">\r\n       <use xlink:href=\"#DejaVuSans-32\"/>\r\n       <use x=\"63.623047\" xlink:href=\"#DejaVuSans-35\"/>\r\n      </g>\r\n     </g>\r\n    </g>\r\n   </g>\r\n   <g id=\"patch_3\">\r\n    <path d=\"M 26.925 273.312 \r\nL 26.925 7.2 \r\n\" style=\"fill:none;stroke:#000000;stroke-linecap:square;stroke-linejoin:miter;stroke-width:0.8;\"/>\r\n   </g>\r\n   <g id=\"patch_4\">\r\n    <path d=\"M 293.037 273.312 \r\nL 293.037 7.2 \r\n\" style=\"fill:none;stroke:#000000;stroke-linecap:square;stroke-linejoin:miter;stroke-width:0.8;\"/>\r\n   </g>\r\n   <g id=\"patch_5\">\r\n    <path d=\"M 26.925 273.312 \r\nL 293.037 273.312 \r\n\" style=\"fill:none;stroke:#000000;stroke-linecap:square;stroke-linejoin:miter;stroke-width:0.8;\"/>\r\n   </g>\r\n   <g id=\"patch_6\">\r\n    <path d=\"M 26.925 7.2 \r\nL 293.037 7.2 \r\n\" style=\"fill:none;stroke:#000000;stroke-linecap:square;stroke-linejoin:miter;stroke-width:0.8;\"/>\r\n   </g>\r\n  </g>\r\n </g>\r\n <defs>\r\n  <clipPath id=\"pab01e763f7\">\r\n   <rect height=\"266.112\" width=\"266.112\" x=\"26.925\" y=\"7.2\"/>\r\n  </clipPath>\r\n </defs>\r\n</svg>\r\n",
      "image/png": "[encoded data removed]"
     },
     "metadata": {}
    }
   ],
   "metadata": {}
  },
  {
   "cell_type": "code",
   "execution_count": null,
   "source": [
    "plt.imshow(x_test[0].reshape(28,28))\r\n",
    "plt.title(str(result[0]))\r\n",
    "plt.show()"
   ],
   "outputs": [],
   "metadata": {}
  }
 ],
 "metadata": {
  "orig_nbformat": 4,
  "language_info": {
   "name": "python",
   "version": "3.8.11",
   "mimetype": "text/x-python",
   "codemirror_mode": {
    "name": "ipython",
    "version": 3
   },
   "pygments_lexer": "ipython3",
   "nbconvert_exporter": "python",
   "file_extension": ".py"
  },
  "kernelspec": {
   "name": "python3",
   "display_name": "Python 3.8.11 64-bit ('DLearning': conda)"
  },
  "interpreter": {
   "hash": "a45cc5bc0718893bc0971bc103741c93ec27bb7c2d4b5cf12d28925b2de55320"
  }
 },
 "nbformat": 4,
 "nbformat_minor": 2
}